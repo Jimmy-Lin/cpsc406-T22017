{
 "cells": [
  {
   "cell_type": "markdown",
   "metadata": {},
   "source": [
    "# Chapter 04: Linear Algebra Background\n",
    "Based on the Matlab files for the book A First Course in Numerical Methods, by Ascher and Greif.\n",
    "\n",
    "Julia version by Michael Friedlander and Itrat Ahmed Akhter."
   ]
  },
  {
   "cell_type": "code",
   "execution_count": null,
   "metadata": {
    "collapsed": true
   },
   "outputs": [],
   "source": [
    "using PyPlot"
   ]
  },
  {
   "cell_type": "markdown",
   "metadata": {},
   "source": [
    "# Example 4.5 -- Figure 4.2\n",
    "The following figure shows eigenvalues of a matrix in a complex plane. Note how the complex eigen values arrive in pairs: if λ is an eigenvalue, then so is its conjugate. Also, here all eigenvalues have nonpositive real parts. The x axis represents the real part."
   ]
  },
  {
   "cell_type": "code",
   "execution_count": null,
   "metadata": {
    "collapsed": false
   },
   "outputs": [],
   "source": [
    "A = zeros(5,5)\n",
    "A[1,2] = 2; A[2,1] = -2; A[3,3] = -1; A[3,4] = 2.5\n",
    "A[4,3] = -2.5; A[4,4] = -1; A[5,5] = -2\n",
    "\n",
    "B = [1 2 3;4 5 6;7 8 9;-1 -2 -3;-4 -5 -6]\n",
    "\n",
    "F = qrfact(B)\n",
    "Q = F[:Q]\n",
    "R = F[:R]\n",
    "\n",
    "A = (Q'*A)*Q\n",
    "lam = eigvals(A)\n",
    "vec1 = [-5; -4; -3; -2; -1; 0; 1]\n",
    "zero1 = zeros(7)\n",
    "vec2 = [-5; -4; -3; -2; -1; 0; 1; 2; 3; 4; 5]\n",
    "zero2 = zeros(11)\n",
    "plot(real(lam),imag(lam),\"ro\",vec1,zero1,\"k-\",zero2,vec2,\"k-\")\n",
    "xlim([-5,1])\n",
    "ylim([-5,5]);"
   ]
  },
  {
   "cell_type": "markdown",
   "metadata": {},
   "source": [
    "# Example 4.16 -- Figure 4.6\n",
    "The following script generates the corresponding $4$-by-$4$ matrix $A$ and vector $b$, and then it solves the system $Ax = b$ by the \"backslash\" command. The plotting instructions then produce the figure."
   ]
  },
  {
   "cell_type": "code",
   "execution_count": null,
   "metadata": {
    "collapsed": false
   },
   "outputs": [],
   "source": [
    "# simple cubic polynomial interpolation\n",
    "\n",
    "t = [0 0.1 0.8 1]'; b = [1 -0.9 10 9]';\n",
    "A = zeros(4,4)\n",
    "powers = 0:3\n",
    "for j in 1:4\n",
    "    A[:,j] = t.^powers[j]\n",
    "end\n",
    "\n",
    "x = A \\ b\n",
    "\n",
    "tt = -0.1:0.01:1.1\n",
    "pt = x[1] + x[2].*tt + x[3].*tt.^2 + x[4].*tt.^3\n",
    "plot(tt,pt,\"k-\",t',b',\"ro\")\n",
    "xlabel(\"t\")\n",
    "ylabel(\"v\");"
   ]
  },
  {
   "cell_type": "markdown",
   "metadata": {},
   "source": [
    "## Singular value decomposition"
   ]
  },
  {
   "cell_type": "code",
   "execution_count": null,
   "metadata": {
    "collapsed": false
   },
   "outputs": [],
   "source": [
    "import Images, ImageView\n",
    "using TestImages, Colors, Interact"
   ]
  },
  {
   "cell_type": "code",
   "execution_count": null,
   "metadata": {
    "collapsed": false
   },
   "outputs": [],
   "source": [
    "# Show a grayscale version of the \"Mandrill\".\n",
    "img = testimage(\"mandrill\")\n",
    "img = convert(Images.Image{Gray}, img)"
   ]
  },
  {
   "cell_type": "code",
   "execution_count": null,
   "metadata": {
    "collapsed": true
   },
   "outputs": [],
   "source": [
    "# Compute the SVD.\n",
    "A = Images.data(img)\n",
    "U,S,V = svd(A);"
   ]
  },
  {
   "cell_type": "code",
   "execution_count": null,
   "metadata": {
    "collapsed": false
   },
   "outputs": [],
   "source": [
    "# Show rank-10 approximation\n",
    "k = 10\n",
    "B = U[:,1:k]*diagm(S[1:k])*V[:,1:k]'\n",
    "B -= min(0, minimum(B))\n",
    "Images.grayim(B)"
   ]
  },
  {
   "cell_type": "code",
   "execution_count": null,
   "metadata": {
    "collapsed": false
   },
   "outputs": [],
   "source": [
    "# Plot the rank k approximation.\n",
    "@manipulate for k in slider(1:100)\n",
    "    B = U[:,1:k]*diagm(S[1:k])*V[:,1:k]'\n",
    "    B -= min(0, minimum(B))\n",
    "    Images.grayim(B)\n",
    "    Images.grayim(abs(A-B))\n",
    "end"
   ]
  },
  {
   "cell_type": "code",
   "execution_count": null,
   "metadata": {
    "collapsed": true
   },
   "outputs": [],
   "source": []
  }
 ],
 "metadata": {
  "kernelspec": {
   "display_name": "Julia 0.5.0",
   "language": "julia",
   "name": "julia-0.5"
  },
  "language_info": {
   "file_extension": ".jl",
   "mimetype": "application/julia",
   "name": "julia",
   "version": "0.5.0"
  },
  "widgets": {
   "state": {
    "034b3e1e-1945-4aeb-912d-63312ddb7a6f": {
     "views": []
    },
    "07ca2c8a-33bf-4436-971f-f18131099dab": {
     "views": [
      {
       "cell": {
        "cell_type": "code",
        "execution_count": null,
        "metadata": {
         "collapsed": false,
         "trusted": true
        },
        "outputs": [],
        "source": "# Plot the rank k approximation.\n@manipulate for k in slider(1:100)\n    B = U[:,1:k]*diagm(S[1:k])*V[:,1:k]'\n    B -= min(0, minimum(B))\n    Images.grayim(B)\n    Images.grayim(abs(A-B))\nend"
       },
       "cell_index": 11,
       "root": true
      }
     ]
    },
    "09b391b1-f5a2-4d82-a480-982bd7a93fc3": {
     "views": []
    },
    "10d5f45e-bb1a-41fe-8462-ae29ce033829": {
     "views": []
    },
    "11a0f6b7-ae36-412d-83a0-0eabd5098b3f": {
     "views": []
    },
    "18a43295-12e2-4ed4-87ac-5bf7d5383a3a": {
     "views": []
    },
    "192be713-d710-4ac0-82c8-b9955bce6ecd": {
     "views": [
      {
       "cell": {
        "cell_type": "code",
        "execution_count": null,
        "metadata": {
         "collapsed": false,
         "trusted": true
        },
        "outputs": [],
        "source": "# Plot the rank k approximation.\n@manipulate for k in slider(1:100)\n    B = U[:,1:k]*diagm(S[1:k])*V[:,1:k]'\n    B -= min(0, minimum(B))\n    Images.grayim(B)\n    Images.grayim(abs(A-B))\nend"
       },
       "cell_index": 11,
       "root": true
      }
     ]
    },
    "1cf0905c-727c-4681-a8b2-5268b083184e": {
     "views": []
    },
    "24c12a5b-f7c4-4359-9b0f-76077b8b29a5": {
     "views": []
    },
    "27506148-e7d0-456d-9702-bf9abcb8a4fd": {
     "views": [
      {
       "cell": {
        "cell_type": "code",
        "execution_count": null,
        "metadata": {
         "collapsed": false,
         "trusted": true
        },
        "outputs": [],
        "source": "# Plot the rank k approximation.\n@manipulate for k in slider(1:100)\n    B = U[:,1:k]*diagm(S[1:k])*V[:,1:k]'\n    B -= min(0, minimum(B))\n    Images.grayim(B)\n    Images.grayim(abs(A-B))\nend"
       },
       "cell_index": 11,
       "root": true
      }
     ]
    },
    "2e58f061-1880-496d-b80f-14a6b4aa378a": {
     "views": []
    },
    "2f362aab-44c2-47bc-b002-266811d2fdf7": {
     "views": []
    },
    "39cd2667-fe87-48d0-81f3-2a75fb1f2c9c": {
     "views": []
    },
    "39e26200-378d-4fe6-b497-0e52ba9c05f1": {
     "views": []
    },
    "3f75c170-e773-4afc-a1be-ba197f92ad80": {
     "views": []
    },
    "40e5e5b0-7944-4ebd-8df6-fa635ed44247": {
     "views": []
    },
    "4111d137-8036-46ef-be7a-5713f693cd00": {
     "views": []
    },
    "41ea1482-8db0-4a99-92da-646d92dd95f8": {
     "views": [
      {
       "cell": {
        "cell_type": "code",
        "execution_count": null,
        "metadata": {
         "collapsed": false,
         "trusted": true
        },
        "outputs": [],
        "source": "# Plot the rank k approximation.\n@manipulate for k in slider(1:100)\n    B = U[:,1:k]*diagm(S[1:k])*V[:,1:k]'\n    B -= min(0, minimum(B))\n    Images.grayim(B)\n    Images.grayim(abs(A-B))\nend"
       },
       "cell_index": 11,
       "root": true
      }
     ]
    },
    "47cde148-8f8d-45d7-92c1-17a73bdd15e2": {
     "views": []
    },
    "4c04b117-b941-4113-80d7-1af8af48e7c6": {
     "views": [
      {
       "cell": {
        "cell_type": "code",
        "execution_count": null,
        "metadata": {
         "collapsed": false,
         "trusted": true
        },
        "outputs": [],
        "source": "# Plot the rank k approximation.\n@manipulate for k in slider(1:100)\n    B = U[:,1:k]*diagm(S[1:k])*V[:,1:k]'\n    B -= min(0, minimum(B))\n    Images.grayim(B)\n    Images.grayim(abs(A-B))\nend"
       },
       "cell_index": 11,
       "root": true
      }
     ]
    },
    "509e6953-e0e0-40b6-b4f1-4e6d4d9279a6": {
     "views": []
    },
    "5a198ba7-6812-4358-9275-c1ccd9a43b62": {
     "views": []
    },
    "5abd8bb9-829e-4f42-911b-0df908b0dd40": {
     "views": [
      {
       "cell": {
        "cell_type": "code",
        "execution_count": null,
        "metadata": {
         "collapsed": false,
         "trusted": true
        },
        "outputs": [],
        "source": "# Plot the rank k approximation.\n@manipulate for k in slider(1:100)\n    B = U[:,1:k]*diagm(S[1:k])*V[:,1:k]'\n    B -= min(0, minimum(B))\n    Images.grayim(B)\n    Images.grayim(abs(A-B))\nend"
       },
       "cell_index": 11,
       "root": true
      }
     ]
    },
    "5ac8e7ec-de65-4995-8e40-fb911cee9cea": {
     "views": []
    },
    "5f5ef25e-3ab8-45df-aa53-e3ea9105c32d": {
     "views": [
      {
       "cell": {
        "cell_type": "code",
        "execution_count": null,
        "metadata": {
         "collapsed": false,
         "trusted": true
        },
        "outputs": [],
        "source": "# Plot the rank k approximation.\n@manipulate for k in slider(1:100)\n    B = U[:,1:k]*diagm(S[1:k])*V[:,1:k]'\n    B -= min(0, minimum(B))\n    Images.grayim(B)\n    Images.grayim(abs(A-B))\nend"
       },
       "cell_index": 11,
       "root": true
      }
     ]
    },
    "60971738-8e08-46e6-9f9c-ff72afb5a26f": {
     "views": []
    },
    "621d1a72-5258-4861-8781-4bf17f1fe765": {
     "views": [
      {
       "cell": {
        "cell_type": "code",
        "execution_count": null,
        "metadata": {
         "collapsed": false,
         "trusted": true
        },
        "outputs": [],
        "source": "# Plot the rank k approximation.\n@manipulate for k in slider(1:100)\n    B = U[:,1:k]*diagm(S[1:k])*V[:,1:k]'\n    B -= min(0, minimum(B))\n    Images.grayim(B)\n    Images.grayim(abs(A-B))\nend"
       },
       "cell_index": 11,
       "root": true
      }
     ]
    },
    "6518d1dd-c763-422e-b21e-d576812b70e4": {
     "views": []
    },
    "6576e30b-c89c-45f5-9ab9-15f93e445f6c": {
     "views": []
    },
    "65d1ee1c-c091-4294-8130-dcd7487e21f1": {
     "views": [
      {
       "cell": {
        "cell_type": "code",
        "execution_count": null,
        "metadata": {
         "collapsed": false,
         "trusted": true
        },
        "outputs": [],
        "source": "# Plot the rank k approximation.\n@manipulate for k in slider(1:100)\n    B = U[:,1:k]*diagm(S[1:k])*V[:,1:k]'\n    B -= min(0, minimum(B))\n    Images.grayim(B)\n    Images.grayim(abs(A-B))\nend"
       },
       "cell_index": 11,
       "root": true
      }
     ]
    },
    "6797d444-19b4-4e83-93b0-ba385df8c5e4": {
     "views": [
      {
       "cell": {
        "cell_type": "code",
        "execution_count": null,
        "metadata": {
         "collapsed": false,
         "trusted": true
        },
        "outputs": [],
        "source": "# Plot the rank k approximation.\n@manipulate for k in slider(1:100)\n    B = U[:,1:k]*diagm(S[1:k])*V[:,1:k]'\n    B -= min(0, minimum(B))\n    Images.grayim(B)\n    Images.grayim(abs(A-B))\nend"
       },
       "cell_index": 11,
       "root": true
      }
     ]
    },
    "688b1922-90ff-42b9-b1f8-579a09f157fb": {
     "views": [
      {
       "cell": {
        "cell_type": "code",
        "execution_count": null,
        "metadata": {
         "collapsed": false,
         "trusted": true
        },
        "outputs": [],
        "source": "# Plot the rank k approximation.\n@manipulate for k in slider(1:100)\n    B = U[:,1:k]*diagm(S[1:k])*V[:,1:k]'\n    B -= min(0, minimum(B))\n    Images.grayim(B)\n    Images.grayim(abs(A-B))\nend"
       },
       "cell_index": 11,
       "root": true
      }
     ]
    },
    "6a85ea5d-a0d1-4d6f-aed7-6bf436f1c1a8": {
     "views": [
      {
       "cell": {
        "cell_type": "code",
        "execution_count": null,
        "metadata": {
         "collapsed": false,
         "trusted": true
        },
        "outputs": [],
        "source": "# Plot the rank k approximation.\n@manipulate for k in slider(1:100)\n    B = U[:,1:k]*diagm(S[1:k])*V[:,1:k]'\n    B -= min(0, minimum(B))\n    Images.grayim(B)\n    Images.grayim(abs(A-B))\nend"
       },
       "cell_index": 11,
       "root": true
      }
     ]
    },
    "708e35b6-3ad9-4c94-b1d6-14b973a46210": {
     "views": []
    },
    "775cb6f3-7f16-4a7a-8d50-8a45672a73a0": {
     "views": [
      {
       "cell": {
        "cell_type": "code",
        "execution_count": null,
        "metadata": {
         "collapsed": false,
         "trusted": true
        },
        "outputs": [],
        "source": "# Plot the rank k approximation.\n@manipulate for k in slider(1:100)\n    B = U[:,1:k]*diagm(S[1:k])*V[:,1:k]'\n    B -= min(0, minimum(B))\n    Images.grayim(B)\n    Images.grayim(abs(A-B))\nend"
       },
       "cell_index": 11,
       "root": true
      }
     ]
    },
    "79cc7b43-1bbd-4327-a39a-1077ea624a3c": {
     "views": [
      {
       "cell": {
        "cell_type": "code",
        "execution_count": null,
        "metadata": {
         "collapsed": false,
         "trusted": true
        },
        "outputs": [],
        "source": "# Plot the rank k approximation.\n@manipulate for k in slider(1:100)\n    B = U[:,1:k]*diagm(S[1:k])*V[:,1:k]'\n    B -= min(0, minimum(B))\n    Images.grayim(B)\n    Images.grayim(abs(A-B))\nend"
       },
       "cell_index": 11,
       "root": true
      }
     ]
    },
    "7f71a35d-907f-4e68-947a-78c30ba9c2e4": {
     "views": [
      {
       "cell": {
        "cell_type": "code",
        "execution_count": null,
        "metadata": {
         "collapsed": false,
         "trusted": true
        },
        "outputs": [],
        "source": "# Plot the rank k approximation.\n@manipulate for k in slider(1:100)\n    B = U[:,1:k]*diagm(S[1:k])*V[:,1:k]'\n    B -= min(0, minimum(B))\n    Images.grayim(B)\n    Images.grayim(abs(A-B))\nend"
       },
       "cell_index": 11,
       "root": true
      }
     ]
    },
    "81b49fba-d9c9-4b92-82b0-fdebc2e0f19d": {
     "views": []
    },
    "85ba5f57-1b0c-4e61-81c5-6e54b85ba93e": {
     "views": [
      {
       "cell": {
        "cell_type": "code",
        "execution_count": null,
        "metadata": {
         "collapsed": false,
         "trusted": true
        },
        "outputs": [],
        "source": "# Plot the rank k approximation.\n@manipulate for k in slider(1:100)\n    B = U[:,1:k]*diagm(S[1:k])*V[:,1:k]'\n    B -= min(0, minimum(B))\n    Images.grayim(B)\n    Images.grayim(abs(A-B))\nend"
       },
       "cell_index": 11,
       "root": true
      }
     ]
    },
    "873c0a86-fe51-412f-8f5e-03ce6b20594d": {
     "views": []
    },
    "891581ed-d969-461c-9384-9f1e443f59ac": {
     "views": [
      {
       "cell": {
        "cell_type": "code",
        "execution_count": null,
        "metadata": {
         "collapsed": false,
         "trusted": true
        },
        "outputs": [],
        "source": "# Plot the rank k approximation.\n@manipulate for k in slider(1:100)\n    B = U[:,1:k]*diagm(S[1:k])*V[:,1:k]'\n    B -= min(0, minimum(B))\n    Images.grayim(B)\n    Images.grayim(abs(A-B))\nend"
       },
       "cell_index": 11,
       "root": true
      }
     ]
    },
    "8b18ecb7-ab12-4a6e-8ede-cb1a27943b91": {
     "views": [
      {
       "cell": {
        "cell_type": "code",
        "execution_count": null,
        "metadata": {
         "collapsed": false,
         "trusted": true
        },
        "outputs": [],
        "source": "# Plot the rank k approximation.\n@manipulate for k in slider(1:100)\n    B = U[:,1:k]*diagm(S[1:k])*V[:,1:k]'\n    B -= min(0, minimum(B))\n    Images.grayim(B)\n    Images.grayim(abs(A-B))\nend"
       },
       "cell_index": 11,
       "root": true
      }
     ]
    },
    "8c7278ed-d6c5-4df6-86c9-70d539ce3064": {
     "views": []
    },
    "8d800677-7e91-415b-861e-3b3e9591ddb8": {
     "views": []
    },
    "8f1d17fc-881c-4367-8dd6-6fdb0ded944c": {
     "views": []
    },
    "90051bb8-664c-4847-b917-aa0cc9ab44da": {
     "views": []
    },
    "93276036-fd05-46da-9da1-5108492db7f9": {
     "views": [
      {
       "cell": {
        "cell_type": "code",
        "execution_count": null,
        "metadata": {
         "collapsed": false,
         "trusted": true
        },
        "outputs": [],
        "source": "# Plot the rank k approximation.\n@manipulate for k in slider(1:100)\n    B = U[:,1:k]*diagm(S[1:k])*V[:,1:k]'\n    B -= min(0, minimum(B))\n    Images.grayim(B)\n    Images.grayim(abs(A-B))\nend"
       },
       "cell_index": 11,
       "root": true
      }
     ]
    },
    "984f6658-7ff3-475e-ad66-a33fe5b80d90": {
     "views": [
      {
       "cell": {
        "cell_type": "code",
        "execution_count": null,
        "metadata": {
         "collapsed": false,
         "trusted": true
        },
        "outputs": [],
        "source": "# Plot the rank k approximation.\n@manipulate for k in slider(1:100)\n    B = U[:,1:k]*diagm(S[1:k])*V[:,1:k]'\n    B -= min(0, minimum(B))\n    Images.grayim(B)\n    Images.grayim(abs(A-B))\nend"
       },
       "cell_index": 11,
       "root": true
      }
     ]
    },
    "9ebe487c-b2d9-4072-9d9e-6b42305219e5": {
     "views": []
    },
    "9ee67cbe-44d9-48e9-ae78-8e0812ad36f0": {
     "views": []
    },
    "9ff3bcd6-b88d-44e1-8f0b-4d4202a1aecb": {
     "views": [
      {
       "cell": {
        "cell_type": "code",
        "execution_count": null,
        "metadata": {
         "collapsed": false,
         "trusted": true
        },
        "outputs": [],
        "source": "# Plot the rank k approximation.\n@manipulate for k in slider(1:100)\n    B = U[:,1:k]*diagm(S[1:k])*V[:,1:k]'\n    B -= min(0, minimum(B))\n    Images.grayim(B)\n    Images.grayim(abs(A-B))\nend"
       },
       "cell_index": 11,
       "root": true
      }
     ]
    },
    "a010cae3-a588-4e92-a755-1cb84cbd3c28": {
     "views": []
    },
    "a324468d-4613-4e9b-a9a5-a457a2486129": {
     "views": [
      {
       "cell": {
        "cell_type": "code",
        "execution_count": null,
        "metadata": {
         "collapsed": false,
         "trusted": true
        },
        "outputs": [],
        "source": "# Plot the rank k approximation.\n@manipulate for k in slider(1:100)\n    B = U[:,1:k]*diagm(S[1:k])*V[:,1:k]'\n    B -= min(0, minimum(B))\n    Images.grayim(B)\n    Images.grayim(abs(A-B))\nend"
       },
       "cell_index": 11,
       "root": true
      }
     ]
    },
    "a5558c93-9bc1-41c0-bf72-93a23351eca1": {
     "views": []
    },
    "ae0cf4f9-4de5-4300-ad80-b0b034106787": {
     "views": []
    },
    "b2fbbe05-21a2-4de5-8625-65a9c0964eba": {
     "views": []
    },
    "b36ee217-d0e5-45bf-ba20-5be14d2aba2b": {
     "views": []
    },
    "b5249399-a1c2-45f5-890d-254758ca2d7a": {
     "views": [
      {
       "cell": {
        "cell_type": "code",
        "execution_count": null,
        "metadata": {
         "collapsed": false,
         "trusted": true
        },
        "outputs": [],
        "source": "# Plot the rank k approximation.\n@manipulate for k in slider(1:100)\n    B = U[:,1:k]*diagm(S[1:k])*V[:,1:k]'\n    B -= min(0, minimum(B))\n    Images.grayim(B)\n    Images.grayim(abs(A-B))\nend"
       },
       "cell_index": 11,
       "root": true
      }
     ]
    },
    "b678a4b2-28ae-4e0d-87b7-01ab9472bd25": {
     "views": [
      {
       "cell": {
        "cell_type": "code",
        "execution_count": null,
        "metadata": {
         "collapsed": false,
         "trusted": true
        },
        "outputs": [],
        "source": "# Plot the rank k approximation.\n@manipulate for k in slider(1:100)\n    B = U[:,1:k]*diagm(S[1:k])*V[:,1:k]'\n    B -= min(0, minimum(B))\n    Images.grayim(B)\n    Images.grayim(abs(A-B))\nend"
       },
       "cell_index": 11,
       "root": true
      }
     ]
    },
    "b9e8bc49-0923-4d63-98d2-41b9e15dc4be": {
     "views": [
      {
       "cell": {
        "cell_type": "code",
        "execution_count": null,
        "metadata": {
         "collapsed": false,
         "trusted": true
        },
        "outputs": [],
        "source": "# Plot the rank k approximation.\n@manipulate for k in slider(1:100)\n    B = U[:,1:k]*diagm(S[1:k])*V[:,1:k]'\n    B -= min(0, minimum(B))\n    Images.grayim(B)\n    Images.grayim(abs(A-B))\nend"
       },
       "cell_index": 11,
       "root": true
      }
     ]
    },
    "bb6c1d61-1f6b-4c49-88e9-dceb1727a3f2": {
     "views": []
    },
    "bbab2287-1c7b-4783-abc7-c0c7d1f20646": {
     "views": [
      {
       "cell": {
        "cell_type": "code",
        "execution_count": null,
        "metadata": {
         "collapsed": false,
         "trusted": true
        },
        "outputs": [],
        "source": "# Plot the rank k approximation.\n@manipulate for k in slider(1:100)\n    B = U[:,1:k]*diagm(S[1:k])*V[:,1:k]'\n    B -= min(0, minimum(B))\n    Images.grayim(B)\n    Images.grayim(abs(A-B))\nend"
       },
       "cell_index": 11,
       "root": true
      }
     ]
    },
    "bea4a163-f4ab-4ecb-ac3f-cc740ce01c54": {
     "views": [
      {
       "cell": {
        "cell_type": "code",
        "execution_count": null,
        "metadata": {
         "collapsed": false,
         "trusted": true
        },
        "outputs": [],
        "source": "# Plot the rank k approximation.\n@manipulate for k in slider(1:100)\n    B = U[:,1:k]*diagm(S[1:k])*V[:,1:k]'\n    B -= min(0, minimum(B))\n    Images.grayim(B)\n    Images.grayim(abs(A-B))\nend"
       },
       "cell_index": 11,
       "root": true
      }
     ]
    },
    "bec25531-6fba-4e47-b2ad-2348f81b0469": {
     "views": []
    },
    "c02272b5-09cd-48e5-8353-8b33fd333d17": {
     "views": []
    },
    "c039f0da-016f-4ce0-a32f-2d63b6dfae96": {
     "views": []
    },
    "c2b87313-e84b-4d4e-ad6a-e53deee1014e": {
     "views": []
    },
    "cb51fa27-9df9-4f1a-bcac-1579f420936a": {
     "views": []
    },
    "cc78abc9-28e6-48a4-82b0-46084aa2179d": {
     "views": []
    },
    "cce8b963-80bc-410f-b7d0-7c2a87742009": {
     "views": []
    },
    "e48d35bb-2a34-4b03-b533-06aa91cc7cfd": {
     "views": []
    },
    "e7b33554-60d5-4072-95ed-c2d8f7b59790": {
     "views": [
      {
       "cell": {
        "cell_type": "code",
        "execution_count": null,
        "metadata": {
         "collapsed": false,
         "trusted": true
        },
        "outputs": [],
        "source": "# Plot the rank k approximation.\n@manipulate for k in slider(1:100)\n    B = U[:,1:k]*diagm(S[1:k])*V[:,1:k]'\n    B -= min(0, minimum(B))\n    Images.grayim(B)\n    Images.grayim(abs(A-B))\nend"
       },
       "cell_index": 11,
       "root": true
      }
     ]
    },
    "ec3d7b66-b497-48ab-b136-288cf150207f": {
     "views": [
      {
       "cell": {
        "cell_type": "code",
        "execution_count": null,
        "metadata": {
         "collapsed": false,
         "trusted": true
        },
        "outputs": [],
        "source": "# Plot the rank k approximation.\n@manipulate for k in slider(1:100)\n    B = U[:,1:k]*diagm(S[1:k])*V[:,1:k]'\n    B -= min(0, minimum(B))\n    Images.grayim(B)\n    Images.grayim(abs(A-B))\nend"
       },
       "cell_index": 11,
       "root": true
      }
     ]
    },
    "f22be05a-0a77-432c-b636-e98647b299cc": {
     "views": []
    },
    "f4a33ef2-cdeb-4e73-8c68-01fc2c972356": {
     "views": []
    },
    "f6a77272-f92c-4f6e-b652-1e36d86edd61": {
     "views": []
    },
    "ffdbc162-80dc-4552-bfac-b8293091cea5": {
     "views": []
    }
   },
   "version": "1.0.0"
  }
 },
 "nbformat": 4,
 "nbformat_minor": 0
}

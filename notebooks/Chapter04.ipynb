{
 "cells": [
  {
   "cell_type": "markdown",
   "metadata": {},
   "source": [
    "# Chapter 04: Linear Algebra Background\n",
    "Based on the Matlab files for the book A First Course in Numerical Methods, by Ascher and Greif.\n",
    "Julia version by Itrat Ahmed Akhter."
   ]
  },
  {
   "cell_type": "code",
   "execution_count": null,
   "metadata": {
    "collapsed": false
   },
   "outputs": [
    {
     "name": "stderr",
     "output_type": "stream",
     "text": [
      "INFO: Precompiling module PyPlot...\n",
      "INFO: Recompiling stale cache file /Users/mpf/.julia/lib/v0.4/URIParser.ji for module URIParser.\n",
      "INFO: Recompiling stale cache file /Users/mpf/.julia/lib/v0.4/SHA.ji for module SHA.\n",
      "INFO: Recompiling stale cache file /Users/mpf/.julia/lib/v0.4/MacroTools.ji for module MacroTools.\n"
     ]
    }
   ],
   "source": [
    "using PyPlot"
   ]
  },
  {
   "cell_type": "markdown",
   "metadata": {},
   "source": [
    "# Example 4.5 -- Figure 4.2\n",
    "The following figure shows eigenvalues of a matrix in a complex plane. Note how the complex eigen values arrive in pairs: if λ is an eigenvalue, then so is its conjugate. Also, here all eigenvalues have nonpositive real parts. The x axis represents the real part."
   ]
  },
  {
   "cell_type": "code",
   "execution_count": null,
   "metadata": {
    "collapsed": false
   },
   "outputs": [],
   "source": [
    "A = zeros(5,5)\n",
    "A[1,2] = 2; A[2,1] = -2; A[3,3] = -1; A[3,4] = 2.5\n",
    "A[4,3] = -2.5; A[4,4] = -1; A[5,5] = -2\n",
    "\n",
    "B = [1 2 3;4 5 6;7 8 9;-1 -2 -3;-4 -5 -6]\n",
    "\n",
    "F = qrfact(B)\n",
    "Q = F[:Q]\n",
    "R = F[:R]\n",
    "\n",
    "A = (Q'*A)*Q\n",
    "lam = eigvals(A)\n",
    "plot(real(lam),imag(lam),\"ro\",[-5:1],zeros([-5:1]),\"k-\",zeros([-5:5]),[-5:5],\"k-\")\n",
    "xlim([-5,1])\n",
    "ylim([-5,5])"
   ]
  },
  {
   "cell_type": "markdown",
   "metadata": {},
   "source": [
    "# Example 4.16 -- Figure 4.6\n",
    "The following MATLAB script generates the corresponding 4 X 4 matrix A and data vector b, and then it solves the system Ax = b by the \"backslash\" command. The plotting instructions then produce the figure."
   ]
  },
  {
   "cell_type": "code",
   "execution_count": null,
   "metadata": {
    "collapsed": false
   },
   "outputs": [],
   "source": [
    "# simple cubic polynomial interpolation\n",
    "\n",
    "t = [0 0.1 0.8 1]'; b = [1 -0.9 10 9]';\n",
    "A = zeros(4,4)\n",
    "powers = 0:3\n",
    "for j in 1:4\n",
    "    A[:,j] = t.^powers[j]\n",
    "end\n",
    "\n",
    "x = A \\ b\n",
    "\n",
    "tt = -0.1:0.01:1.1\n",
    "pt = x[1] + x[2].*tt + x[3].*tt.^2 + x[4].*tt.^3\n",
    "plot(tt,pt,\"k-\",t',b',\"ro\")\n",
    "xlabel(\"t\")\n",
    "ylabel(\"v\");"
   ]
  },
  {
   "cell_type": "code",
   "execution_count": null,
   "metadata": {
    "collapsed": true
   },
   "outputs": [],
   "source": []
  }
 ],
 "metadata": {
  "kernelspec": {
   "display_name": "Julia 0.4.6",
   "language": "julia",
   "name": "julia-0.4"
  },
  "language_info": {
   "file_extension": ".jl",
   "mimetype": "application/julia",
   "name": "julia",
   "version": "0.4.6"
  }
 },
 "nbformat": 4,
 "nbformat_minor": 0
}

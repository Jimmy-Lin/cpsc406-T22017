{
 "cells": [
  {
   "cell_type": "markdown",
   "metadata": {},
   "source": [
    "# Question 4\n",
    "Below is a basic version of Newton's method that doesn't implement any safeguards."
   ]
  },
  {
   "cell_type": "code",
   "execution_count": 1,
   "metadata": {
    "collapsed": true
   },
   "outputs": [],
   "source": [
    "function newton(c, x; tol=1e-6, its=100)\n",
    "    for k = 1:its\n",
    "        ck, Jk = c(x)\n",
    "        @printf \"%3i  %10.2e\\n\" k  norm(ck)\n",
    "        p = - (Jk \\ ck)\n",
    "        x = x + p\n",
    "        if norm(p) < tol*(1+norm(x))\n",
    "            @printf \"%3i  %10.2e\\n\" k  norm(ck)\n",
    "            return x\n",
    "        end\n",
    "    end\n",
    "end;"
   ]
  },
  {
   "cell_type": "markdown",
   "metadata": {},
   "source": [
    "We will use this code to solve the nonlinear system\n",
    "\\begin{align*}\n",
    "  2x_1 - x_2 - \\exp(-x_1) &= 0\n",
    "\\\\-x_1 + 2x_2 -\\exp(-x_2) &= 0.\n",
    "\\end{align*}\n",
    "Here is the code to evaluate the equations and the Jacobian."
   ]
  },
  {
   "cell_type": "code",
   "execution_count": 2,
   "metadata": {
    "collapsed": true
   },
   "outputs": [],
   "source": [
    "function func(x)\n",
    "    c = [ 2x[1] - x[2] - exp(-x[1])\n",
    "        -x[1] + 2x[2] - exp(-x[2]) ]\n",
    "    J = [ 2+exp(-x[1]) -1\n",
    "        -1 2+exp(-x[2])]\n",
    "    return c, J\n",
    "end;"
   ]
  },
  {
   "cell_type": "code",
   "execution_count": 3,
   "metadata": {
    "collapsed": false
   },
   "outputs": [
    {
     "name": "stdout",
     "output_type": "stream",
     "text": [
      "  1    2.17e+02\n",
      "  2    8.08e+01\n",
      "  3    3.03e+01\n",
      "  4    1.13e+01\n",
      "  5    3.86e+00\n",
      "  6    8.83e-01\n",
      "  7    6.10e-02\n",
      "  8    3.04e-04\n",
      "  9    7.52e-09\n",
      "  9    7.52e-09\n"
     ]
    }
   ],
   "source": [
    "x = newton(func, [-5,-5]);"
   ]
  }
 ],
 "metadata": {
  "anaconda-cloud": {},
  "kernelspec": {
   "display_name": "Julia 0.4.6",
   "language": "julia",
   "name": "julia-0.4"
  },
  "language_info": {
   "file_extension": ".jl",
   "mimetype": "application/julia",
   "name": "julia",
   "version": "0.4.6"
  }
 },
 "nbformat": 4,
 "nbformat_minor": 0
}

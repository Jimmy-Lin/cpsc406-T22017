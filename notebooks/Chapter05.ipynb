{
 "cells": [
  {
   "cell_type": "markdown",
   "metadata": {},
   "source": [
    "#Chapter 05: Linear Systems: Direct Methods\n",
    "Based on the Matlab files for the book A First Course in Numerical Methods, by Ascher and Greif.\n",
    "Julia version by Itrat Ahmed Akhter."
   ]
  },
  {
   "cell_type": "code",
   "execution_count": null,
   "metadata": {
    "collapsed": true
   },
   "outputs": [],
   "source": [
    "using PyPlot"
   ]
  },
  {
   "cell_type": "markdown",
   "metadata": {},
   "source": [
    "The following functions are helper functions for the coding examples in Chapter 5"
   ]
  },
  {
   "cell_type": "code",
   "execution_count": null,
   "metadata": {
    "collapsed": false
   },
   "outputs": [],
   "source": [
    "function forsub(A,b,p)\n",
    "    # Given a unit lower triangular, nonsingular n by n \n",
    "    # matrix A, an n-vector b, and a permutation p,\n",
    "    # return vector y which solves Ay = Pb\n",
    "    \n",
    "    n = length(b)\n",
    "    \n",
    "    #permute b according to p\n",
    "    permute!(b,vec(p))\n",
    "    \n",
    "    #forward substitution\n",
    "    y = copy(b)\n",
    "    for k = 2:n\n",
    "        multval = A[k,1:k-1]*y[1:k-1]\n",
    "        y[k] = b[k] - multval[1]\n",
    "    end\n",
    "    \n",
    "    return y\n",
    "end\n",
    "\n",
    "function backsub(A,b)\n",
    "    # Given an upper triangular, nonsingular n by n matrix A\n",
    "    # and an n-vector b, return vector x which solves Ax = b\n",
    "    \n",
    "    n = length(b)\n",
    "    x = b\n",
    "    x[n] = b[n]/A[n,n]\n",
    "    for k = n-1:-1:1\n",
    "        multval = 0\n",
    "        for i = k+1:n\n",
    "            multval = multval + A[k,i]*x[i]\n",
    "        end\n",
    "        x[k] = (b[k] - multval) / A[k,k]\n",
    "    end\n",
    "    return x\n",
    "end\n",
    "\n",
    "function plu(A)\n",
    "    # Perform LU decomposition with partial pivoting.\n",
    "    # Upon return the coefficients of L and U replace those\n",
    "    # of the input n-by-n nonsingular matrix A. The row interchanges\n",
    "    # performed are recorded in the 1D array p (returned).\n",
    "   \n",
    "    n = size(A,1)\n",
    "    \n",
    "    # initialize permutation vector p\n",
    "    p = collect(1:n)\n",
    "    \n",
    "    #LU decomposition with partial pivoting\n",
    "    for k = 1:n-1\n",
    "        hMat = copy(A)\n",
    "        for i = 1:size(A,1)\n",
    "            for j = 1:size(A,2)\n",
    "                if hMat[i,j] <0\n",
    "                    hMat[i,j] = -hMat[i,j]\n",
    "                end\n",
    "            end\n",
    "        end\n",
    "        \n",
    "        #Find row index of relative maximum in column k\n",
    "        val,q = findmax((hMat[k:n,k]))\n",
    "        q = q + k-1\n",
    "        \n",
    "        #Interchange rows k and q and record this in p\n",
    "        A[k,:],A[q,:] = A[q,:],A[k,:]\n",
    "        p[k],p[q] = p[q],p[k]\n",
    "        \n",
    "        #Compute the corresponding column of L\n",
    "        J = k+1:n\n",
    "        A[J,k] = A[J,k] / A[k,k]\n",
    "        \n",
    "        #Update submatrix by outer product\n",
    "        A[J,J] = A[J,J] - A[J,k] * A[k,J]\n",
    "    end\n",
    "    return p,A\n",
    "end\n",
    "\n",
    "function plu_scaled(B)\n",
    "    #Perform LU decomposition with scaled partial pivoting.\n",
    "    #Upon return the coefficients of L and U replace those\n",
    "    #of the input n-by-n nonsingular matrix A. The row interchanges\n",
    "    #performed are recorded in the 1D array p (returned)\n",
    "    A = copy(B)\n",
    "    n = size(A,1)\n",
    "    \n",
    "    #find scales, initializes permutation vector p\n",
    "    s = maxabs(A,2)\n",
    "    p = collect(1:1:100)\n",
    "    \n",
    "    #LU decomposition with partial pivoting\n",
    "    for k = 1:n-1\n",
    "        hMat = copy(A)\n",
    "        for i = 1:size(A,1)\n",
    "            for j = 1:size(A,2)\n",
    "                if A[i,j] <0\n",
    "                    hMat[i,j] = -A[i,j]\n",
    "                end\n",
    "            end\n",
    "        end\n",
    "        \n",
    "        #find row index of relative maximum in column k\n",
    "        divresult = hMat[k:n,k]./s[k:n]\n",
    "        val,q = findmax(divresult)\n",
    "    \n",
    "        q = q+k-1\n",
    "        \n",
    "        #interchange rows k and q and record this in p\n",
    "        A[k,:],A[q,:] = A[q,:],A[k,:]\n",
    "        p[k],p[q] = p[q],p[k]\n",
    "        \n",
    "        #compute the corresponding column of L\n",
    "        J = k+1:n\n",
    "        A[J,k] = A[J,k] / A[k,k]\n",
    "        \n",
    "        #Update submatrix by outer product\n",
    "        A[J,J] = A[J,J] - A[J,k] * A[k,J]\n",
    "    end\n",
    "    \n",
    "    return p,A\n",
    "end\n",
    "\n",
    "function ainvb(A,b)\n",
    "    #Solve Ax = b\n",
    "    \n",
    "    p,LU = plu(A)\n",
    "    y = forsub(LU,b,p)\n",
    "    x = backsub(LU,y)\n",
    "    return x\n",
    "end\n",
    "\n",
    "function ainvb_scaled(A,b)\n",
    "    #Solve Ax = b\n",
    "    \n",
    "    p,LU = plu_scaled(A)\n",
    "    y = forsub(LU,b,p)\n",
    "    x = backsub(LU,y)\n",
    "    return x\n",
    "end"
   ]
  },
  {
   "cell_type": "markdown",
   "metadata": {},
   "source": [
    "#Example 5.11: comparing scaled and unscaled GEPP for a special example"
   ]
  },
  {
   "cell_type": "code",
   "execution_count": null,
   "metadata": {
    "collapsed": false,
    "scrolled": true
   },
   "outputs": [],
   "source": [
    "n = 100; h = 1.0/(n-1); K = 100\n",
    "A = zeros(n,n)\n",
    "for i = 2:n-1\n",
    "    A[i,i] = -2/h^2 - K\n",
    "    A[i,i-1] = -1/h^2\n",
    "    A[i,i+1] = -1/h^2\n",
    "end\n",
    "A[1,1] = 1.0; A[n,n] = 1.0 #end definition of A\n",
    "\n",
    "\n",
    "xe = ones(Int64,n,1)         #exact solution of 1's\n",
    "b = A*xe               #corresponding right hand side\n",
    "\n",
    "#solve using scaled GEPP version ainvb_scaled\n",
    "xs = ainvb_scaled(A,b)\n",
    "err_ainvb_scaled = norm(xs-xe)\n",
    "\n",
    "#solve using ainvb\n",
    "xu = ainvb(A,b)\n",
    "err_ainvb = vecnorm(xu-xe)"
   ]
  },
  {
   "cell_type": "markdown",
   "metadata": {
    "collapsed": false
   },
   "source": [
    "#Example 5.13: Cholesky for random matrices"
   ]
  },
  {
   "cell_type": "code",
   "execution_count": null,
   "metadata": {
    "collapsed": false
   },
   "outputs": [],
   "source": [
    "n = 500\n",
    "C = randn(n,n); A = C'*C\n",
    "xe = randn(n,1) # the exact solution\n",
    "b = A*xe        # generate right hand side data\n",
    "\n",
    "R = chol(A)     # Cholesky factor\n",
    "# the following line is for compatibility with forsub\n",
    "D = diagm((diag(R)))\n",
    "L = inv(D) * R' #because for some reason the backslash operator decided not to work in this case\n",
    "bb = D \\ b; p = 1:n\n",
    "y = forsub(L,bb,p)            # forward substitution R'y = b\n",
    "x = backsub(R,y)              # backward substitution Rx = y\n",
    "rerx = norm(x-xe)/norm(xe)     # error by Cholesky \n",
    "\n",
    "xd = ainvb(A,b);               # ignore spd and use partial pivoting\n",
    "rerxd = norm(xd-xe)/norm(xe)   # error by general routine"
   ]
  },
  {
   "cell_type": "markdown",
   "metadata": {},
   "source": [
    "#Example 5.22 -- Figure 5.8"
   ]
  },
  {
   "cell_type": "code",
   "execution_count": null,
   "metadata": {
    "collapsed": false
   },
   "outputs": [],
   "source": [
    "d = 0.75\n",
    "A = [1 d;d 1]\n",
    "t = 0:.01:10; m = length(t);\n",
    "x = zeros(2,m)\n",
    "x[1,1:m] = sin(t);\n",
    "x[2,1:m] = cos(t);\n",
    "y = A*x;\n",
    "plot(vec(y[1,:]),vec(y[2,:]),\"b-\",vec(x[1,:]),vec(x[2,:]),\"r:\")\n",
    "xlabel(\"x_1\")\n",
    "ylabel(\"x_2\") "
   ]
  },
  {
   "cell_type": "code",
   "execution_count": null,
   "metadata": {
    "collapsed": false
   },
   "outputs": [],
   "source": [
    "n = 50;\n",
    "a = randn(n-1)\n",
    "b = randn(n)\n",
    "c = randn(n-1)\n",
    "A = diagm(a,-1) + diagm(b,0) + diagm(c,1);"
   ]
  },
  {
   "cell_type": "code",
   "execution_count": null,
   "metadata": {
    "collapsed": false
   },
   "outputs": [],
   "source": [
    "using Plots"
   ]
  },
  {
   "cell_type": "code",
   "execution_count": null,
   "metadata": {
    "collapsed": false
   },
   "outputs": [],
   "source": [
    "spy(A)"
   ]
  },
  {
   "cell_type": "code",
   "execution_count": null,
   "metadata": {
    "collapsed": false
   },
   "outputs": [],
   "source": [
    "A = sparse(A);\n",
    "println( nnz(A) )\n",
    "println( prod(size(A)) )"
   ]
  },
  {
   "cell_type": "code",
   "execution_count": null,
   "metadata": {
    "collapsed": false
   },
   "outputs": [],
   "source": [
    "density = nnz(A) / prod(size(A))"
   ]
  },
  {
   "cell_type": "code",
   "execution_count": null,
   "metadata": {
    "collapsed": false
   },
   "outputs": [],
   "source": [
    "sparsity = 1-density # close to 1 makes it sparser"
   ]
  },
  {
   "cell_type": "code",
   "execution_count": null,
   "metadata": {
    "collapsed": false
   },
   "outputs": [],
   "source": [
    "i, j, v = findnz(A);\n",
    "for k = 1:nnz(A)\n",
    "    @printf \"%3i  %3i  %10.2e\\n\" i[k] j[k] v[k]\n",
    "end"
   ]
  },
  {
   "cell_type": "code",
   "execution_count": null,
   "metadata": {
    "collapsed": true
   },
   "outputs": [],
   "source": [
    "#   TRIDISOLVE  Solve tridiagonal system of equations.\n",
    "#     x = TRIDISOLVE(a,b,c,d) solves the system of linear equations\n",
    "#     b(1)*x(1) + c(1)*x(2) = d(1),\n",
    "#     a(j-1)*x(j-1) + b(j)*x(j) + c(j)*x(j+1) = d(j), j = 2:n-1,\n",
    "#     a(n-1)*x(n-1) + b(n)*x(n) = d(n).\n",
    "\n",
    "function tridisolve(a,b,c,d)\n",
    "    x = d\n",
    "    n = length(x)\n",
    "\n",
    "    # Elimination\n",
    "    for j = 1:n-1\n",
    "        μ = a[j]/b[j]\n",
    "        b[j+1] = b[j+1] - μ*c[j]\n",
    "        x[j+1] = x[j+1] - μ*x[j]\n",
    "    end\n",
    "    \n",
    "    # Backsolve\n",
    "    x[n] = x[n]/b[n]\n",
    "    for j = n-1:-1:1\n",
    "        x[j] = ( x[j]-c[j]*x[j+1] ) / b[j]\n",
    "    end\n",
    "    return x\n",
    "end;"
   ]
  },
  {
   "cell_type": "code",
   "execution_count": null,
   "metadata": {
    "collapsed": true
   },
   "outputs": [],
   "source": [
    "d = randn(n);\n",
    "x = A\\d;"
   ]
  },
  {
   "cell_type": "code",
   "execution_count": null,
   "metadata": {
    "collapsed": true
   },
   "outputs": [],
   "source": [
    "x1 = tridisolve(a,b,c,d);"
   ]
  },
  {
   "cell_type": "code",
   "execution_count": null,
   "metadata": {
    "collapsed": false
   },
   "outputs": [],
   "source": [
    "norm(x1-x)"
   ]
  },
  {
   "cell_type": "markdown",
   "metadata": {},
   "source": [
    "Could solve this same system two other ways:"
   ]
  },
  {
   "cell_type": "code",
   "execution_count": null,
   "metadata": {
    "collapsed": false
   },
   "outputs": [],
   "source": [
    "T = diagm(a,-1) + diagm(b,0) + diagm(c,+1)\n",
    "@time x = T\\d;"
   ]
  },
  {
   "cell_type": "code",
   "execution_count": null,
   "metadata": {
    "collapsed": false
   },
   "outputs": [],
   "source": [
    "S = spdiagm((a, b, c), (-1,0,+1), n, n);\n",
    "@time x = S\\d;"
   ]
  },
  {
   "cell_type": "markdown",
   "metadata": {},
   "source": [
    "## Reordering sparse matrices"
   ]
  },
  {
   "cell_type": "code",
   "execution_count": null,
   "metadata": {
    "collapsed": false
   },
   "outputs": [],
   "source": [
    "# Arrow-head matrix\n",
    "n = 5\n",
    "a = randn(5); b = randn(5); c = randn(5);\n",
    "A = diagm(b); A[:,1] = a; A[1,:] = c;\n",
    "A"
   ]
  },
  {
   "cell_type": "code",
   "execution_count": null,
   "metadata": {
    "collapsed": false
   },
   "outputs": [],
   "source": [
    "L, U = lu(A)\n",
    "U"
   ]
  },
  {
   "cell_type": "code",
   "execution_count": null,
   "metadata": {
    "collapsed": false
   },
   "outputs": [],
   "source": [
    "# reorder\n",
    "p = n:-1:1\n",
    "A = A[p,p]"
   ]
  },
  {
   "cell_type": "code",
   "execution_count": null,
   "metadata": {
    "collapsed": false
   },
   "outputs": [],
   "source": [
    "L, U = lu(A)\n",
    "U"
   ]
  },
  {
   "cell_type": "markdown",
   "metadata": {},
   "source": [
    "## Page Rank"
   ]
  },
  {
   "cell_type": "code",
   "execution_count": null,
   "metadata": {
    "collapsed": false
   },
   "outputs": [],
   "source": [
    "H = [0 0.5 0.5 0 0 0\n",
    "0 0 0 0 0 0\n",
    "1/3 1/3 0 0 1/3 0\n",
    "0 0 0 0 1/2 1/2\n",
    "0 0 0 1/2 0 1/2\n",
    "0 0 0 1 0 0]\n",
    "n=6"
   ]
  },
  {
   "cell_type": "code",
   "execution_count": null,
   "metadata": {
    "collapsed": false
   },
   "outputs": [],
   "source": [
    "H = 0.6*H + 0.4/6*ones(6,6)"
   ]
  },
  {
   "cell_type": "code",
   "execution_count": null,
   "metadata": {
    "collapsed": false
   },
   "outputs": [],
   "source": [
    "x = ones(n)/n\n",
    "for i=1:100\n",
    "    x = H*x\n",
    "end\n",
    "x = x / norm(x)"
   ]
  },
  {
   "cell_type": "code",
   "execution_count": null,
   "metadata": {
    "collapsed": true
   },
   "outputs": [],
   "source": []
  }
 ],
 "metadata": {
  "kernelspec": {
   "display_name": "Julia 0.5.0",
   "language": "julia",
   "name": "julia-0.5"
  },
  "language_info": {
   "file_extension": ".jl",
   "mimetype": "application/julia",
   "name": "julia",
   "version": "0.5.0"
  },
  "widgets": {
   "state": {},
   "version": "1.0.0"
  }
 },
 "nbformat": 4,
 "nbformat_minor": 0
}

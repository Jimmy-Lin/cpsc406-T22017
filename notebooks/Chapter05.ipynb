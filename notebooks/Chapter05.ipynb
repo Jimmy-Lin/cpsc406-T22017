{
 "cells": [
  {
   "cell_type": "markdown",
   "metadata": {},
   "source": [
    "#Chapter 05: Linear Systems: Direct Methods"
   ]
  },
  {
   "cell_type": "code",
   "execution_count": 78,
   "metadata": {
    "collapsed": true
   },
   "outputs": [],
   "source": [
    "using PyPlot"
   ]
  },
  {
   "cell_type": "markdown",
   "metadata": {},
   "source": [
    "The following functions are helper functions for the coding examples in Chapter 5"
   ]
  },
  {
   "cell_type": "code",
   "execution_count": 79,
   "metadata": {
    "collapsed": false
   },
   "outputs": [
    {
     "data": {
      "text/plain": [
       "ainvb_scaled (generic function with 1 method)"
      ]
     },
     "execution_count": 79,
     "metadata": {},
     "output_type": "execute_result"
    }
   ],
   "source": [
    "function forsub(A,b,p)\n",
    "    # Given a unit lower triangular, nonsingular n by n \n",
    "    # matrix A, an n-vector b, and a permutation p,\n",
    "    # return vector y which solves Ay = Pb\n",
    "    \n",
    "    n = length(b)\n",
    "    \n",
    "    #permute b according to p\n",
    "    permute!(b,vec(p))\n",
    "    \n",
    "    #forward substitution\n",
    "    y = copy(b)\n",
    "    for k = 2:n\n",
    "        multval = A[k,1:k-1]*y[1:k-1]\n",
    "        y[k] = b[k] - multval[1]\n",
    "    end\n",
    "    \n",
    "    return y\n",
    "end\n",
    "\n",
    "function backsub(A,b)\n",
    "    # Given an upper triangular, nonsingular n by n matrix A\n",
    "    # and an n-vector b, return vector x which solves Ax = b\n",
    "    \n",
    "    n = length(b)\n",
    "    x = b\n",
    "    x[n] = b[n]/A[n,n]\n",
    "    for k = n-1:-1:1\n",
    "        multval = 0\n",
    "        for i = k+1:n\n",
    "            multval = multval + A[k,i]*x[i]\n",
    "        end\n",
    "        x[k] = (b[k] - multval) / A[k,k]\n",
    "    end\n",
    "    return x\n",
    "end\n",
    "\n",
    "function plu(A)\n",
    "    # Perform LU decomposition with partial pivoting.\n",
    "    # Upon return the coefficients of L and U replace those\n",
    "    # of the input n-by-n nonsingular matrix A. The row interchanges\n",
    "    # performed are recorded in the 1D array p (returned).\n",
    "   \n",
    "    n = size(A,1)\n",
    "    \n",
    "    # initialize permutation vector p\n",
    "    p = collect(1:n)\n",
    "    \n",
    "    #LU decomposition with partial pivoting\n",
    "    for k = 1:n-1\n",
    "        hMat = copy(A)\n",
    "        for i = 1:size(A,1)\n",
    "            for j = 1:size(A,2)\n",
    "                if hMat[i,j] <0\n",
    "                    hMat[i,j] = -hMat[i,j]\n",
    "                end\n",
    "            end\n",
    "        end\n",
    "        \n",
    "        #Find row index of relative maximum in column k\n",
    "        val,q = findmax((hMat[k:n,k]))\n",
    "        q = q + k-1\n",
    "        \n",
    "        #Interchange rows k and q and record this in p\n",
    "        A[k,:],A[q,:] = A[q,:],A[k,:]\n",
    "        p[k],p[q] = p[q],p[k]\n",
    "        \n",
    "        #Compute the corresponding column of L\n",
    "        J = k+1:n\n",
    "        A[J,k] = A[J,k] / A[k,k]\n",
    "        \n",
    "        #Update submatrix by outer product\n",
    "        A[J,J] = A[J,J] - A[J,k] * A[k,J]\n",
    "    end\n",
    "    return p,A\n",
    "end\n",
    "\n",
    "function plu_scaled(B)\n",
    "    #Perform LU decomposition with scaled partial pivoting.\n",
    "    #Upon return the coefficients of L and U replace those\n",
    "    #of the input n-by-n nonsingular matrix A. The row interchanges\n",
    "    #performed are recorded in the 1D array p (returned)\n",
    "    A = copy(B)\n",
    "    n = size(A,1)\n",
    "    \n",
    "    #find scales, initializes permutation vector p\n",
    "    s = maxabs(A,2)\n",
    "    p = collect(1:1:100)\n",
    "    \n",
    "    #LU decomposition with partial pivoting\n",
    "    for k = 1:n-1\n",
    "        hMat = copy(A)\n",
    "        for i = 1:size(A,1)\n",
    "            for j = 1:size(A,2)\n",
    "                if A[i,j] <0\n",
    "                    hMat[i,j] = -A[i,j]\n",
    "                end\n",
    "            end\n",
    "        end\n",
    "        \n",
    "        #find row index of relative maximum in column k\n",
    "        divresult = hMat[k:n,k]./s[k:n]\n",
    "        val,q = findmax(divresult)\n",
    "    \n",
    "        q = q+k-1\n",
    "        \n",
    "        #interchange rows k and q and record this in p\n",
    "        A[k,:],A[q,:] = A[q,:],A[k,:]\n",
    "        p[k],p[q] = p[q],p[k]\n",
    "        \n",
    "        #compute the corresponding column of L\n",
    "        J = k+1:n\n",
    "        A[J,k] = A[J,k] / A[k,k]\n",
    "        \n",
    "        #Update submatrix by outer product\n",
    "        A[J,J] = A[J,J] - A[J,k] * A[k,J]\n",
    "    end\n",
    "    \n",
    "    return p,A\n",
    "end\n",
    "\n",
    "function ainvb(A,b)\n",
    "    #Solve Ax = b\n",
    "    \n",
    "    p,LU = plu(A)\n",
    "    y = forsub(LU,b,p)\n",
    "    x = backsub(LU,y)\n",
    "    return x\n",
    "end\n",
    "\n",
    "function ainvb_scaled(A,b)\n",
    "    #Solve Ax = b\n",
    "    \n",
    "    p,LU = plu_scaled(A)\n",
    "    y = forsub(LU,b,p)\n",
    "    x = backsub(LU,y)\n",
    "    return x\n",
    "end"
   ]
  },
  {
   "cell_type": "markdown",
   "metadata": {},
   "source": [
    "#Example 5.11: comparing scaled and unscaled GEPP for a special example"
   ]
  },
  {
   "cell_type": "code",
   "execution_count": 80,
   "metadata": {
    "collapsed": false,
    "scrolled": true
   },
   "outputs": [
    {
     "data": {
      "text/plain": [
       "5.630025557535684e-11"
      ]
     },
     "execution_count": 80,
     "metadata": {},
     "output_type": "execute_result"
    }
   ],
   "source": [
    "n = 100; h = 1.0/(n-1); K = 100\n",
    "A = zeros(n,n)\n",
    "for i = 2:n-1\n",
    "    A[i,i] = -2/h^2 - K\n",
    "    A[i,i-1] = -1/h^2\n",
    "    A[i,i+1] = -1/h^2\n",
    "end\n",
    "A[1,1] = 1.0; A[n,n] = 1.0 #end definition of A\n",
    "\n",
    "\n",
    "xe = ones(Int64,n,1)         #exact solution of 1's\n",
    "b = A*xe               #corresponding right hand side\n",
    "\n",
    "#solve using scaled GEPP version ainvb_scaled\n",
    "xs = ainvb_scaled(A,b)\n",
    "err_ainvb_scaled = norm(xs-xe)\n",
    "\n",
    "#solve using ainvb\n",
    "xu = ainvb(A,b)\n",
    "err_ainvb = vecnorm(xu-xe)"
   ]
  },
  {
   "cell_type": "markdown",
   "metadata": {
    "collapsed": false
   },
   "source": [
    "#Example 5.13: Cholesky for random matrices"
   ]
  },
  {
   "cell_type": "code",
   "execution_count": 81,
   "metadata": {
    "collapsed": false
   },
   "outputs": [
    {
     "data": {
      "text/plain": [
       "3.880007379674196e-10"
      ]
     },
     "execution_count": 81,
     "metadata": {},
     "output_type": "execute_result"
    }
   ],
   "source": [
    "n = 500\n",
    "C = randn(n,n); A = C'*C\n",
    "xe = randn(n,1) # the exact solution\n",
    "b = A*xe        # generate right hand side data\n",
    "\n",
    "R = chol(A)     # Cholesky factor\n",
    "# the following line is for compatibility with forsub\n",
    "D = diagm((diag(R)))\n",
    "L = inv(D) * R' #because for some reason the backslash operator decided not to work in this case\n",
    "bb = D \\ b; p = 1:n\n",
    "y = forsub(L,bb,p)            # forward substitution R'y = b\n",
    "x = backsub(R,y)              # backward substitution Rx = y\n",
    "rerx = norm(x-xe)/norm(xe)     # error by Cholesky \n",
    "\n",
    "xd = ainvb(A,b);               # ignore spd and use partial pivoting\n",
    "rerxd = norm(xd-xe)/norm(xe)   # error by general routine"
   ]
  },
  {
   "cell_type": "markdown",
   "metadata": {},
   "source": [
    "#Example 5.22 -- Figure 5.8"
   ]
  },
  {
   "cell_type": "code",
   "execution_count": 82,
   "metadata": {
    "collapsed": false
   },
   "outputs": [
    {
     "data": {
      "image/png": "[encoded data removed]",
      "text/plain": [
       "PyPlot.Figure(PyObject <matplotlib.figure.Figure object at 0x7fe03d66fdd0>)"
      ]
     },
     "metadata": {},
     "output_type": "display_data"
    },
    {
     "data": {
      "text/plain": [
       "PyObject <matplotlib.text.Text object at 0x7fe041858ed0>"
      ]
     },
     "execution_count": 82,
     "metadata": {},
     "output_type": "execute_result"
    }
   ],
   "source": [
    "d = 0.75\n",
    "A = [1 d;d 1]\n",
    "t = 0:.01:10; m = length(t);\n",
    "x = zeros(2,m)\n",
    "x[1,1:m] = sin(t);\n",
    "x[2,1:m] = cos(t);\n",
    "y = A*x;\n",
    "plot(vec(y[1,:]),vec(y[2,:]),\"b-\",vec(x[1,:]),vec(x[2,:]),\"r:\")\n",
    "xlabel(\"x_1\")\n",
    "ylabel(\"x_2\") "
   ]
  }
 ],
 "metadata": {
  "kernelspec": {
   "display_name": "Julia 0.4.6",
   "language": "julia",
   "name": "julia-0.4"
  },
  "language_info": {
   "file_extension": ".jl",
   "mimetype": "application/julia",
   "name": "julia",
   "version": "0.4.6"
  }
 },
 "nbformat": 4,
 "nbformat_minor": 0
}

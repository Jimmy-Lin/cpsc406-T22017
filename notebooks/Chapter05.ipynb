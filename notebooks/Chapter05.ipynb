{
 "cells": [
  {
   "cell_type": "markdown",
   "metadata": {},
   "source": [
    "# Chapter 05. Linear Systems: Direct Methods\n",
    "Based on the Matlab files for the book A First Course in Numerical Methods, by Ascher and Greif.\n",
    "Julia version by Itrat Ahmed Akhter."
   ]
  },
  {
   "cell_type": "code",
   "execution_count": 1,
   "metadata": {
    "collapsed": true
   },
   "outputs": [],
   "source": [
    "using PyPlot"
   ]
  },
  {
   "cell_type": "markdown",
   "metadata": {},
   "source": [
    "The following functions are helper functions for the coding examples in Chapter 5"
   ]
  },
  {
   "cell_type": "code",
   "execution_count": 2,
   "metadata": {
    "collapsed": false
   },
   "outputs": [
    {
     "data": {
      "text/plain": [
       "ainvb_scaled (generic function with 1 method)"
      ]
     },
     "execution_count": 2,
     "metadata": {},
     "output_type": "execute_result"
    }
   ],
   "source": [
    "function forsub(A,b,p)\n",
    "    # Given a unit lower triangular, nonsingular n by n \n",
    "    # matrix A, an n-vector b, and a permutation p,\n",
    "    # return vector y which solves Ay = Pb\n",
    "    \n",
    "    n = length(b)\n",
    "    \n",
    "    #permute b according to p\n",
    "    permute!(b,vec(p))\n",
    "    \n",
    "    #forward substitution\n",
    "    y = copy(b)\n",
    "    for k = 2:n\n",
    "        multval = A[k,1:k-1]*y[1:k-1]\n",
    "        y[k] = b[k] - multval[1]\n",
    "    end\n",
    "    \n",
    "    return y\n",
    "end\n",
    "\n",
    "function backsub(A,b)\n",
    "    # Given an upper triangular, nonsingular n by n matrix A\n",
    "    # and an n-vector b, return vector x which solves Ax = b\n",
    "    \n",
    "    n = length(b)\n",
    "    x = b\n",
    "    x[n] = b[n]/A[n,n]\n",
    "    for k = n-1:-1:1\n",
    "        multval = 0\n",
    "        for i = k+1:n\n",
    "            multval = multval + A[k,i]*x[i]\n",
    "        end\n",
    "        x[k] = (b[k] - multval) / A[k,k]\n",
    "    end\n",
    "    return x\n",
    "end\n",
    "\n",
    "function plu(A)\n",
    "    # Perform LU decomposition with partial pivoting.\n",
    "    # Upon return the coefficients of L and U replace those\n",
    "    # of the input n-by-n nonsingular matrix A. The row interchanges\n",
    "    # performed are recorded in the 1D array p (returned).\n",
    "   \n",
    "    n = size(A,1)\n",
    "    \n",
    "    # initialize permutation vector p\n",
    "    p = collect(1:n)\n",
    "    \n",
    "    #LU decomposition with partial pivoting\n",
    "    for k = 1:n-1\n",
    "        hMat = copy(A)\n",
    "        for i = 1:size(A,1)\n",
    "            for j = 1:size(A,2)\n",
    "                if hMat[i,j] <0\n",
    "                    hMat[i,j] = -hMat[i,j]\n",
    "                end\n",
    "            end\n",
    "        end\n",
    "        \n",
    "        #Find row index of relative maximum in column k\n",
    "        val,q = findmax((hMat[k:n,k]))\n",
    "        q = q + k-1\n",
    "        \n",
    "        #Interchange rows k and q and record this in p\n",
    "        A[k,:],A[q,:] = A[q,:],A[k,:]\n",
    "        p[k],p[q] = p[q],p[k]\n",
    "        \n",
    "        #Compute the corresponding column of L\n",
    "        J = k+1:n\n",
    "        A[J,k] = A[J,k] / A[k,k]\n",
    "        \n",
    "        #Update submatrix by outer product\n",
    "        A[J,J] = A[J,J] - A[J,k] * A[k,J]\n",
    "    end\n",
    "    return p,A\n",
    "end\n",
    "\n",
    "function plu_scaled(B)\n",
    "    #Perform LU decomposition with scaled partial pivoting.\n",
    "    #Upon return the coefficients of L and U replace those\n",
    "    #of the input n-by-n nonsingular matrix A. The row interchanges\n",
    "    #performed are recorded in the 1D array p (returned)\n",
    "    A = copy(B)\n",
    "    n = size(A,1)\n",
    "    \n",
    "    #find scales, initializes permutation vector p\n",
    "    s = maxabs(A,2)\n",
    "    p = collect(1:1:100)\n",
    "    \n",
    "    #LU decomposition with partial pivoting\n",
    "    for k = 1:n-1\n",
    "        hMat = copy(A)\n",
    "        for i = 1:size(A,1)\n",
    "            for j = 1:size(A,2)\n",
    "                if A[i,j] <0\n",
    "                    hMat[i,j] = -A[i,j]\n",
    "                end\n",
    "            end\n",
    "        end\n",
    "        \n",
    "        #find row index of relative maximum in column k\n",
    "        divresult = hMat[k:n,k]./s[k:n]\n",
    "        val,q = findmax(divresult)\n",
    "    \n",
    "        q = q+k-1\n",
    "        \n",
    "        #interchange rows k and q and record this in p\n",
    "        A[k,:],A[q,:] = A[q,:],A[k,:]\n",
    "        p[k],p[q] = p[q],p[k]\n",
    "        \n",
    "        #compute the corresponding column of L\n",
    "        J = k+1:n\n",
    "        A[J,k] = A[J,k] / A[k,k]\n",
    "        \n",
    "        #Update submatrix by outer product\n",
    "        A[J,J] = A[J,J] - A[J,k] * A[k,J]\n",
    "    end\n",
    "    \n",
    "    return p,A\n",
    "end\n",
    "\n",
    "function ainvb(A,b)\n",
    "    #Solve Ax = b\n",
    "    \n",
    "    p,LU = plu(A)\n",
    "    y = forsub(LU,b,p)\n",
    "    x = backsub(LU,y)\n",
    "    return x\n",
    "end\n",
    "\n",
    "function ainvb_scaled(A,b)\n",
    "    #Solve Ax = b\n",
    "    \n",
    "    p,LU = plu_scaled(A)\n",
    "    y = forsub(LU,b,p)\n",
    "    x = backsub(LU,y)\n",
    "    return x\n",
    "end"
   ]
  },
  {
   "cell_type": "markdown",
   "metadata": {},
   "source": [
    "# Example 5.11\n",
    "Comparing scaled and unscaled GEPP for a special example."
   ]
  },
  {
   "cell_type": "code",
   "execution_count": null,
   "metadata": {
    "collapsed": false,
    "scrolled": true
   },
   "outputs": [],
   "source": [
    "n = 100; h = 1.0/(n-1); K = 100\n",
    "A = zeros(n,n)\n",
    "for i = 2:n-1\n",
    "    A[i,i] = -2/h^2 - K\n",
    "    A[i,i-1] = -1/h^2\n",
    "    A[i,i+1] = -1/h^2\n",
    "end\n",
    "A[1,1] = 1.0; A[n,n] = 1.0 #end definition of A\n",
    "\n",
    "\n",
    "xe = ones(Int64,n,1)         #exact solution of 1's\n",
    "b = A*xe               #corresponding right hand side\n",
    "\n",
    "#solve using scaled GEPP version ainvb_scaled\n",
    "xs = ainvb_scaled(A,b)\n",
    "err_ainvb_scaled = norm(xs-xe)\n",
    "\n",
    "#solve using ainvb\n",
    "xu = ainvb(A,b)\n",
    "err_ainvb = vecnorm(xu-xe)"
   ]
  },
  {
   "cell_type": "markdown",
   "metadata": {
    "collapsed": false
   },
   "source": [
    "# Example 5.13\n",
    "Cholesky for random matrices"
   ]
  },
  {
   "cell_type": "code",
   "execution_count": 3,
   "metadata": {
    "collapsed": false
   },
   "outputs": [
    {
     "ename": "LoadError",
     "evalue": "LoadError: MethodError: no method matching *(::Array{Float64,1}, ::Array{Float64,1})\nClosest candidates are:\n  *(::Any, ::Any, !Matched::Any, !Matched::Any...) at operators.jl:138\n  *{T<:Union{Complex{Float32},Complex{Float64},Float32,Float64},S}(!Matched::Union{Base.ReshapedArray{T<:Union{Complex{Float32},Complex{Float64},Float32,Float64},2,A<:DenseArray,MI<:Tuple{Vararg{Base.MultiplicativeInverses.SignedMultiplicativeInverse{Int64},N}}},DenseArray{T<:Union{Complex{Float32},Complex{Float64},Float32,Float64},2},SubArray{T<:Union{Complex{Float32},Complex{Float64},Float32,Float64},2,A<:Union{Base.ReshapedArray{T,N,A<:DenseArray,MI<:Tuple{Vararg{Base.MultiplicativeInverses.SignedMultiplicativeInverse{Int64},N}}},DenseArray},I<:Tuple{Vararg{Union{Base.AbstractCartesianIndex,Colon,Int64,Range{Int64}},N}},L}}, ::Union{Base.ReshapedArray{S,1,A<:DenseArray,MI<:Tuple{Vararg{Base.MultiplicativeInverses.SignedMultiplicativeInverse{Int64},N}}},DenseArray{S,1},SubArray{S,1,A<:Union{Base.ReshapedArray{T,N,A<:DenseArray,MI<:Tuple{Vararg{Base.MultiplicativeInverses.SignedMultiplicativeInverse{Int64},N}}},DenseArray},I<:Tuple{Vararg{Union{Base.AbstractCartesianIndex,Colon,Int64,Range{Int64}},N}},L}}) at linalg/matmul.jl:79\n  *(!Matched::Base.LinAlg.AbstractTriangular{T,S<:AbstractArray{T,2}}, ::AbstractArray{T,1}) at linalg/triangular.jl:1496\n  ...\nwhile loading In[3], in expression starting on line 11",
     "output_type": "error",
     "traceback": [
      "LoadError: MethodError: no method matching *(::Array{Float64,1}, ::Array{Float64,1})\nClosest candidates are:\n  *(::Any, ::Any, !Matched::Any, !Matched::Any...) at operators.jl:138\n  *{T<:Union{Complex{Float32},Complex{Float64},Float32,Float64},S}(!Matched::Union{Base.ReshapedArray{T<:Union{Complex{Float32},Complex{Float64},Float32,Float64},2,A<:DenseArray,MI<:Tuple{Vararg{Base.MultiplicativeInverses.SignedMultiplicativeInverse{Int64},N}}},DenseArray{T<:Union{Complex{Float32},Complex{Float64},Float32,Float64},2},SubArray{T<:Union{Complex{Float32},Complex{Float64},Float32,Float64},2,A<:Union{Base.ReshapedArray{T,N,A<:DenseArray,MI<:Tuple{Vararg{Base.MultiplicativeInverses.SignedMultiplicativeInverse{Int64},N}}},DenseArray},I<:Tuple{Vararg{Union{Base.AbstractCartesianIndex,Colon,Int64,Range{Int64}},N}},L}}, ::Union{Base.ReshapedArray{S,1,A<:DenseArray,MI<:Tuple{Vararg{Base.MultiplicativeInverses.SignedMultiplicativeInverse{Int64},N}}},DenseArray{S,1},SubArray{S,1,A<:Union{Base.ReshapedArray{T,N,A<:DenseArray,MI<:Tuple{Vararg{Base.MultiplicativeInverses.SignedMultiplicativeInverse{Int64},N}}},DenseArray},I<:Tuple{Vararg{Union{Base.AbstractCartesianIndex,Colon,Int64,Range{Int64}},N}},L}}) at linalg/matmul.jl:79\n  *(!Matched::Base.LinAlg.AbstractTriangular{T,S<:AbstractArray{T,2}}, ::AbstractArray{T,1}) at linalg/triangular.jl:1496\n  ...\nwhile loading In[3], in expression starting on line 11",
      "",
      " in forsub(::Array{Float64,2}, ::Array{Float64,2}, ::UnitRange{Int64}) at ./In[2]:14"
     ]
    }
   ],
   "source": [
    "n = 500\n",
    "C = randn(n,n); A = C'*C\n",
    "xe = randn(n,1) # the exact solution\n",
    "b = A*xe        # generate right hand side data\n",
    "\n",
    "R = chol(A)     # Cholesky factor\n",
    "# the following line is for compatibility with forsub\n",
    "D = diagm((diag(R)))\n",
    "L = inv(D) * R' #because for some reason the backslash operator decided not to work in this case\n",
    "bb = D \\ b; p = 1:n\n",
    "y = forsub(L,bb,p)            # forward substitution R'y = b\n",
    "x = backsub(R,y)              # backward substitution Rx = y\n",
    "rerx = norm(x-xe)/norm(xe)     # error by Cholesky \n",
    "\n",
    "xd = ainvb(A,b);               # ignore spd and use partial pivoting\n",
    "rerxd = norm(xd-xe)/norm(xe)   # error by general routine"
   ]
  },
  {
   "cell_type": "markdown",
   "metadata": {},
   "source": [
    "# Example 5.22 --- Figure 5.8"
   ]
  },
  {
   "cell_type": "code",
   "execution_count": 4,
   "metadata": {
    "collapsed": false
   },
   "outputs": [
    {
     "data": {
      "image/png": "[encoded data removed]",
      "text/plain": [
       "PyPlot.Figure(PyObject <matplotlib.figure.Figure object at 0x317185bd0>)"
      ]
     },
     "metadata": {},
     "output_type": "display_data"
    },
    {
     "data": {
      "text/plain": [
       "PyObject <matplotlib.text.Text object at 0x317422b50>"
      ]
     },
     "execution_count": 4,
     "metadata": {},
     "output_type": "execute_result"
    }
   ],
   "source": [
    "d = 0.75\n",
    "A = [1 d;d 1]\n",
    "t = 0:.01:10; m = length(t);\n",
    "x = zeros(2,m)\n",
    "x[1,1:m] = sin(t);\n",
    "x[2,1:m] = cos(t);\n",
    "y = A*x;\n",
    "plot(vec(y[1,:]),vec(y[2,:]),\"b-\",vec(x[1,:]),vec(x[2,:]),\"r:\")\n",
    "xlabel(\"x_1\")\n",
    "ylabel(\"x_2\") "
   ]
  },
  {
   "cell_type": "code",
   "execution_count": 17,
   "metadata": {
    "collapsed": false
   },
   "outputs": [],
   "source": [
    "n = 50;\n",
    "a = randn(n-1)\n",
    "b = randn(n)\n",
    "c = randn(n-1)\n",
    "A = diagm(a,-1) + diagm(b,0) + diagm(c,1);"
   ]
  },
  {
   "cell_type": "code",
   "execution_count": 19,
   "metadata": {
    "collapsed": false
   },
   "outputs": [
    {
     "data": {
      "image/png": "[encoded data removed]",
      "text/plain": [
       "PyPlot.Figure(PyObject <matplotlib.figure.Figure object at 0x3176e6b90>)"
      ]
     },
     "metadata": {},
     "output_type": "display_data"
    }
   ],
   "source": [
    "spy(A);"
   ]
  },
  {
   "cell_type": "code",
   "execution_count": 7,
   "metadata": {
    "collapsed": false
   },
   "outputs": [
    {
     "name": "stdout",
     "output_type": "stream",
     "text": [
      "148\n",
      "2500\n"
     ]
    }
   ],
   "source": [
    "A = sparse(A);\n",
    "println( nnz(A) )\n",
    "println( prod(size(A)) )"
   ]
  },
  {
   "cell_type": "code",
   "execution_count": 8,
   "metadata": {
    "collapsed": false
   },
   "outputs": [
    {
     "data": {
      "text/plain": [
       "0.0592"
      ]
     },
     "execution_count": 8,
     "metadata": {},
     "output_type": "execute_result"
    }
   ],
   "source": [
    "density = nnz(A) / prod(size(A))"
   ]
  },
  {
   "cell_type": "code",
   "execution_count": 9,
   "metadata": {
    "collapsed": false
   },
   "outputs": [
    {
     "data": {
      "text/plain": [
       "0.9408"
      ]
     },
     "execution_count": 9,
     "metadata": {},
     "output_type": "execute_result"
    }
   ],
   "source": [
    "sparsity = 1-density # close to 1 makes it sparser"
   ]
  },
  {
   "cell_type": "code",
   "execution_count": 10,
   "metadata": {
    "collapsed": false
   },
   "outputs": [
    {
     "name": "stdout",
     "output_type": "stream",
     "text": [
      "  1    1   -8.27e-01\n",
      "  2    1   -3.92e-01\n",
      "  1    2    1.01e+00\n",
      "  2    2    1.05e+00\n",
      "  3    2    6.30e-01\n",
      "  2    3    1.31e+00\n",
      "  3    3   -3.58e-01\n",
      "  4    3   -1.82e+00\n",
      "  3    4   -6.81e-01\n",
      "  4    4   -4.56e-01\n",
      "  5    4    3.24e-01\n",
      "  4    5   -2.40e-01\n",
      "  5    5   -3.55e-01\n",
      "  6    5    6.34e-01\n",
      "  5    6   -1.41e+00\n",
      "  6    6    7.75e-01\n",
      "  7    6    2.77e-01\n",
      "  6    7    4.64e-01\n",
      "  7    7    4.19e-01\n",
      "  8    7   -6.26e-01\n",
      "  7    8    4.92e-01\n",
      "  8    8    1.42e+00\n",
      "  9    8   -6.38e-02\n",
      "  8    9    2.15e-01\n",
      "  9    9   -3.30e-02\n",
      " 10    9    8.08e-01\n",
      "  9   10   -1.69e+00\n",
      " 10   10    1.89e+00\n",
      " 11   10    1.21e-01\n",
      " 10   11   -2.14e+00\n",
      " 11   11    3.98e-01\n",
      " 12   11   -3.59e-01\n",
      " 11   12   -1.08e-01\n",
      " 12   12    7.31e-01\n",
      " 13   12    1.31e+00\n",
      " 12   13    3.07e-01\n",
      " 13   13    3.82e-01\n",
      " 14   13    1.24e+00\n",
      " 13   14    1.02e+00\n",
      " 14   14   -5.17e-01\n",
      " 15   14    1.23e+00\n",
      " 14   15    2.29e-01\n",
      " 15   15    8.41e-01\n",
      " 16   15    1.54e+00\n",
      " 15   16   -9.16e-01\n",
      " 16   16   -2.50e-01\n",
      " 17   16    2.95e-01\n",
      " 16   17    4.02e-01\n",
      " 17   17   -5.83e-02\n",
      " 18   17    8.57e-01\n",
      " 17   18   -1.58e+00\n",
      " 18   18    1.48e+00\n",
      " 19   18    6.44e-01\n",
      " 18   19    3.24e-01\n",
      " 19   19   -9.91e-01\n",
      " 20   19    1.41e+00\n",
      " 19   20    9.78e-01\n",
      " 20   20    8.86e-01\n",
      " 21   20   -3.19e-01\n",
      " 20   21    1.65e+00\n",
      " 21   21    6.05e-01\n",
      " 22   21    2.35e+00\n",
      " 21   22   -1.09e-01\n",
      " 22   22   -1.03e+00\n",
      " 23   22    3.76e-01\n",
      " 22   23    5.36e-01\n",
      " 23   23   -4.49e-01\n",
      " 24   23   -1.52e-01\n",
      " 23   24    6.84e-01\n",
      " 24   24    3.09e-01\n",
      " 25   24    2.56e-01\n",
      " 24   25   -1.51e+00\n",
      " 25   25   -1.85e+00\n",
      " 26   25   -1.25e+00\n",
      " 25   26    3.85e-01\n",
      " 26   26    1.61e+00\n",
      " 27   26   -5.31e-02\n",
      " 26   27   -1.73e+00\n",
      " 27   27    1.05e-01\n",
      " 28   27   -2.45e-01\n",
      " 27   28   -3.78e-01\n",
      " 28   28    1.34e-01\n",
      " 29   28    2.33e-01\n",
      " 28   29   -5.95e-03\n",
      " 29   29    9.15e-01\n",
      " 30   29    7.46e-01\n",
      " 29   30    3.85e-01\n",
      " 30   30   -1.32e+00\n",
      " 31   30    4.74e-01\n",
      " 30   31   -4.04e-01\n",
      " 31   31    8.06e-01\n",
      " 32   31   -7.08e-02\n",
      " 31   32   -1.74e+00\n",
      " 32   32    1.78e+00\n",
      " 33   32    8.96e-01\n",
      " 32   33    1.44e+00\n",
      " 33   33   -6.20e-01\n",
      " 34   33   -8.93e-01\n",
      " 33   34    1.51e+00\n",
      " 34   34   -8.06e-01\n",
      " 35   34   -5.66e-01\n",
      " 34   35    1.41e+00\n",
      " 35   35   -1.27e+00\n",
      " 36   35   -6.41e-01\n",
      " 35   36   -7.39e-01\n",
      " 36   36   -2.46e-01\n",
      " 37   36    1.64e-01\n",
      " 36   37   -1.15e+00\n",
      " 37   37    6.95e-01\n",
      " 38   37   -1.45e-01\n",
      " 37   38    1.09e+00\n",
      " 38   38   -9.65e-01\n",
      " 39   38   -2.24e-01\n",
      " 38   39    8.95e-01\n",
      " 39   39   -6.43e-01\n",
      " 40   39    1.16e+00\n",
      " 39   40    4.72e-01\n",
      " 40   40    1.70e+00\n",
      " 41   40   -1.57e+00\n",
      " 40   41   -1.35e+00\n",
      " 41   41    1.06e+00\n",
      " 42   41   -5.06e-01\n",
      " 41   42    1.36e+00\n",
      " 42   42    5.70e-01\n",
      " 43   42    1.04e+00\n",
      " 42   43   -9.14e-01\n",
      " 43   43   -2.38e-01\n",
      " 44   43   -2.12e-01\n",
      " 43   44   -7.03e-02\n",
      " 44   44   -1.65e+00\n",
      " 45   44   -1.15e+00\n",
      " 44   45    1.47e+00\n",
      " 45   45    1.60e-01\n",
      " 46   45   -1.14e+00\n",
      " 45   46   -2.07e-01\n",
      " 46   46   -9.73e-01\n",
      " 47   46   -1.67e+00\n",
      " 46   47   -6.17e-01\n",
      " 47   47    1.96e+00\n",
      " 48   47   -6.09e-01\n",
      " 47   48   -8.11e-01\n",
      " 48   48    3.16e-01\n",
      " 49   48    2.02e-01\n",
      " 48   49   -5.19e-01\n",
      " 49   49    1.16e-01\n",
      " 50   49   -1.44e-01\n",
      " 49   50    4.98e-01\n",
      " 50   50   -9.34e-01\n"
     ]
    }
   ],
   "source": [
    "i, j, v = findnz(A);\n",
    "for k = 1:nnz(A)\n",
    "    @printf \"%3i  %3i  %10.2e\\n\" i[k] j[k] v[k]\n",
    "end"
   ]
  },
  {
   "cell_type": "code",
   "execution_count": 11,
   "metadata": {
    "collapsed": true
   },
   "outputs": [],
   "source": [
    "#   TRIDISOLVE  Solve tridiagonal system of equations.\n",
    "#     x = TRIDISOLVE(a,b,c,d) solves the system of linear equations\n",
    "#     b(1)*x(1) + c(1)*x(2) = d(1),\n",
    "#     a(j-1)*x(j-1) + b(j)*x(j) + c(j)*x(j+1) = d(j), j = 2:n-1,\n",
    "#     a(n-1)*x(n-1) + b(n)*x(n) = d(n).\n",
    "\n",
    "function tridisolve(a,b,c,d)\n",
    "    x = d\n",
    "    n = length(x)\n",
    "\n",
    "    # Elimination\n",
    "    for j = 1:n-1\n",
    "        μ = a[j]/b[j]\n",
    "        b[j+1] = b[j+1] - μ*c[j]\n",
    "        x[j+1] = x[j+1] - μ*x[j]\n",
    "    end\n",
    "    \n",
    "    # Backsolve\n",
    "    x[n] = x[n]/b[n]\n",
    "    for j = n-1:-1:1\n",
    "        x[j] = ( x[j]-c[j]*x[j+1] ) / b[j]\n",
    "    end\n",
    "    return x\n",
    "end;"
   ]
  },
  {
   "cell_type": "code",
   "execution_count": 12,
   "metadata": {
    "collapsed": true
   },
   "outputs": [],
   "source": [
    "d = randn(n);\n",
    "x = A\\d;"
   ]
  },
  {
   "cell_type": "code",
   "execution_count": 13,
   "metadata": {
    "collapsed": true
   },
   "outputs": [],
   "source": [
    "x1 = tridisolve(a,b,c,d);"
   ]
  },
  {
   "cell_type": "code",
   "execution_count": 14,
   "metadata": {
    "collapsed": false
   },
   "outputs": [
    {
     "data": {
      "text/plain": [
       "5.609541743754931e-14"
      ]
     },
     "execution_count": 14,
     "metadata": {},
     "output_type": "execute_result"
    }
   ],
   "source": [
    "norm(x1-x)"
   ]
  },
  {
   "cell_type": "markdown",
   "metadata": {},
   "source": [
    "Could solve this same system two other ways:"
   ]
  },
  {
   "cell_type": "code",
   "execution_count": 15,
   "metadata": {
    "collapsed": false
   },
   "outputs": [
    {
     "name": "stdout",
     "output_type": "stream",
     "text": [
      "  0.105675 seconds (58.19 k allocations: 2.466 MB)\n"
     ]
    }
   ],
   "source": [
    "T = diagm(a,-1) + diagm(b,0) + diagm(c,+1)\n",
    "@time x = T\\d;"
   ]
  },
  {
   "cell_type": "code",
   "execution_count": 16,
   "metadata": {
    "collapsed": false
   },
   "outputs": [
    {
     "name": "stdout",
     "output_type": "stream",
     "text": [
      "  0.000161 seconds (14 allocations: 5.203 KB)\n"
     ]
    }
   ],
   "source": [
    "S = spdiagm((a, b, c), (-1,0,+1), n, n);\n",
    "@time x = S\\d;"
   ]
  },
  {
   "cell_type": "markdown",
   "metadata": {},
   "source": [
    "## Reordering sparse matrices"
   ]
  },
  {
   "cell_type": "code",
   "execution_count": null,
   "metadata": {
    "collapsed": false
   },
   "outputs": [],
   "source": [
    "# Arrow-head matrix\n",
    "n = 5\n",
    "a = randn(5); b = randn(5); c = randn(5);\n",
    "A = diagm(b); A[:,1] = a; A[1,:] = c;\n",
    "A"
   ]
  },
  {
   "cell_type": "code",
   "execution_count": null,
   "metadata": {
    "collapsed": false
   },
   "outputs": [],
   "source": [
    "L, U = lu(A)\n",
    "U"
   ]
  },
  {
   "cell_type": "code",
   "execution_count": null,
   "metadata": {
    "collapsed": false
   },
   "outputs": [],
   "source": [
    "# reorder\n",
    "p = n:-1:1\n",
    "A = A[p,p]"
   ]
  },
  {
   "cell_type": "code",
   "execution_count": null,
   "metadata": {
    "collapsed": false
   },
   "outputs": [],
   "source": [
    "L, U = lu(A)\n",
    "U"
   ]
  },
  {
   "cell_type": "markdown",
   "metadata": {},
   "source": [
    "## Page Rank"
   ]
  },
  {
   "cell_type": "code",
   "execution_count": null,
   "metadata": {
    "collapsed": false
   },
   "outputs": [],
   "source": [
    "H = [0 0.5 0.5 0 0 0\n",
    "0 0 0 0 0 0\n",
    "1/3 1/3 0 0 1/3 0\n",
    "0 0 0 0 1/2 1/2\n",
    "0 0 0 1/2 0 1/2\n",
    "0 0 0 1 0 0]\n",
    "n=6"
   ]
  },
  {
   "cell_type": "code",
   "execution_count": null,
   "metadata": {
    "collapsed": false
   },
   "outputs": [],
   "source": [
    "H = 0.6*H + 0.4/6*ones(6,6)"
   ]
  },
  {
   "cell_type": "code",
   "execution_count": null,
   "metadata": {
    "collapsed": false
   },
   "outputs": [],
   "source": [
    "x = ones(n)/n\n",
    "for i=1:100\n",
    "    x = H*x\n",
    "end\n",
    "x = x / norm(x)"
   ]
  },
  {
   "cell_type": "code",
   "execution_count": null,
   "metadata": {
    "collapsed": true
   },
   "outputs": [],
   "source": []
  }
 ],
 "metadata": {
  "kernelspec": {
   "display_name": "Julia 0.5.0",
   "language": "julia",
   "name": "julia-0.5"
  },
  "language_info": {
   "file_extension": ".jl",
   "mimetype": "application/julia",
   "name": "julia",
   "version": "0.5.0"
  },
  "widgets": {
   "state": {},
   "version": "1.0.0"
  }
 },
 "nbformat": 4,
 "nbformat_minor": 0
}

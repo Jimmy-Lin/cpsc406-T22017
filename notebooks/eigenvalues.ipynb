{
 "cells": [
  {
   "cell_type": "code",
   "execution_count": 3,
   "metadata": {
    "collapsed": true
   },
   "outputs": [],
   "source": [
    "using Plots"
   ]
  },
  {
   "cell_type": "code",
   "execution_count": 4,
   "metadata": {
    "collapsed": false
   },
   "outputs": [
    {
     "data": {
      "text/plain": [
       "([2.0,2.0],\n",
       "[1.0 -1.0; 0.0 4.44089e-16])"
      ]
     },
     "execution_count": 4,
     "metadata": {},
     "output_type": "execute_result"
    }
   ],
   "source": [
    "A = [2 1; 0 2]\n",
    "λ, X = eig(A)"
   ]
  },
  {
   "cell_type": "code",
   "execution_count": 5,
   "metadata": {
    "collapsed": false
   },
   "outputs": [],
   "source": [
    "n = 10\n",
    "A = randn(n,n); A = A'*A;"
   ]
  },
  {
   "cell_type": "code",
   "execution_count": 6,
   "metadata": {
    "collapsed": false
   },
   "outputs": [
    {
     "name": "stdout",
     "output_type": "stream",
     "text": [
      "  1    1.76e+00\n",
      "  2    2.00e-01\n",
      "  3    1.24e-01\n",
      "  4    9.96e-02\n",
      "  5    7.97e-02\n",
      "  6    4.69e-02\n",
      "  7    4.21e-02\n",
      "  8    2.91e-02\n",
      "  9    1.99e-02\n",
      " 10    1.35e-02\n",
      " 11    9.18e-03\n",
      " 12    6.23e-03\n",
      " 13    4.23e-03\n",
      " 14    2.87e-03\n",
      " 15    1.95e-03\n",
      " 16    1.33e-03\n",
      " 17    9.02e-04\n",
      " 18    6.13e-04\n",
      " 19    4.17e-04\n",
      " 20    2.84e-04\n",
      " 21    1.93e-04\n",
      " 22    1.31e-04\n",
      " 23    8.92e-05\n",
      " 24    6.06e-05\n",
      " 25    4.12e-05\n",
      " 26    2.80e-05\n",
      " 27    1.91e-05\n",
      " 28    1.30e-05\n",
      " 29    8.82e-06\n",
      " 30    6.00e-06\n",
      " 31    4.08e-06\n",
      " 32    2.77e-06\n",
      " 33    1.89e-06\n",
      " 34    1.28e-06\n",
      " 35    8.72e-07\n"
     ]
    }
   ],
   "source": [
    "v = randn(n)\n",
    "α = abs(v[1])\n",
    "λ = 0\n",
    "for k = 1:1000\n",
    "    v = A*v\n",
    "    v = v / norm(v)\n",
    "    λ = dot(v,A*v)\n",
    "    ϵ = abs(abs(v[1]) - α)\n",
    "    α = abs(v[1])\n",
    "    @printf \"%3i  %10.2e\\n\" k ϵ\n",
    "    ϵ ≤ 1e-6 && break\n",
    "end;"
   ]
  },
  {
   "cell_type": "code",
   "execution_count": 7,
   "metadata": {
    "collapsed": false
   },
   "outputs": [
    {
     "data": {
      "text/plain": [
       "10-element Array{Float64,1}:\n",
       "  0.00182619\n",
       "  0.153096  \n",
       "  0.75672   \n",
       "  0.848821  \n",
       "  3.29998   \n",
       "  5.26973   \n",
       " 13.8176    \n",
       " 15.5649    \n",
       " 24.6827    \n",
       " 36.2954    "
      ]
     },
     "execution_count": 7,
     "metadata": {},
     "output_type": "execute_result"
    }
   ],
   "source": [
    "λ, X = eig(A);\n",
    "λ"
   ]
  },
  {
   "cell_type": "code",
   "execution_count": 8,
   "metadata": {
    "collapsed": false
   },
   "outputs": [
    {
     "data": {
      "text/plain": [
       "10×2 Array{Float64,2}:\n",
       " -0.186307    0.186305 \n",
       " -0.791742    0.791742 \n",
       " -0.10901     0.109009 \n",
       " -0.0714559   0.071456 \n",
       " -0.0527798   0.0527795\n",
       "  0.0970046  -0.097006 \n",
       "  0.0489655  -0.0489653\n",
       "  0.334386   -0.334386 \n",
       " -0.297598    0.2976   \n",
       " -0.326302    0.326302 "
      ]
     },
     "execution_count": 8,
     "metadata": {},
     "output_type": "execute_result"
    }
   ],
   "source": [
    "[X[:,10]  v]"
   ]
  },
  {
   "cell_type": "code",
   "execution_count": 9,
   "metadata": {
    "collapsed": false
   },
   "outputs": [
    {
     "data": {
      "text/plain": [
       "36.295398759743875"
      ]
     },
     "execution_count": 9,
     "metadata": {},
     "output_type": "execute_result"
    }
   ],
   "source": [
    "dot(v,A*v)"
   ]
  },
  {
   "cell_type": "markdown",
   "metadata": {},
   "source": [
    "## Page Rank"
   ]
  },
  {
   "cell_type": "code",
   "execution_count": 10,
   "metadata": {
    "collapsed": false
   },
   "outputs": [
    {
     "data": {
      "text/plain": [
       "6×6 Array{Float64,2}:\n",
       " 0.0       0.5       0.5  0.0  0.0       0.0\n",
       " 0.0       0.0       0.0  0.0  0.0       0.0\n",
       " 0.333333  0.333333  0.0  0.0  0.333333  0.0\n",
       " 0.0       0.0       0.0  0.0  0.5       0.5\n",
       " 0.0       0.0       0.0  0.5  0.0       0.5\n",
       " 0.0       0.0       0.0  1.0  0.0       0.0"
      ]
     },
     "execution_count": 10,
     "metadata": {},
     "output_type": "execute_result"
    }
   ],
   "source": [
    "H = [ 0 1/2 1/2 0 0 0; 0 0 0 0 0 0; 1/3 1/3 0 0 1/3 0; 0 0 0 0 1/2 1/2; 0 0 0 1/2 0 1/2; 0 0 0 1 0 0 ]"
   ]
  },
  {
   "cell_type": "code",
   "execution_count": 11,
   "metadata": {
    "collapsed": false
   },
   "outputs": [
    {
     "data": {
      "text/plain": [
       "([0.408248,-0.408248,-0.5,1.0,-0.5,0.0],\n",
       "[0.774597 0.774597 … -0.534522 -0.57735; 0.0 0.0 … 0.0 0.57735; … ; 0.0 0.0 … -0.267261 0.0; 0.0 0.0 … 0.534522 0.0])"
      ]
     },
     "execution_count": 11,
     "metadata": {},
     "output_type": "execute_result"
    }
   ],
   "source": [
    "λ, X = eig(H)"
   ]
  },
  {
   "cell_type": "code",
   "execution_count": 12,
   "metadata": {
    "collapsed": false
   },
   "outputs": [
    {
     "data": {
      "text/plain": [
       "6-element Array{Float64,1}:\n",
       " 0.111803\n",
       " 0.0     \n",
       " 0.223607\n",
       " 0.559017\n",
       " 0.559017\n",
       " 0.559017"
      ]
     },
     "execution_count": 12,
     "metadata": {},
     "output_type": "execute_result"
    }
   ],
   "source": [
    "v = X[:,4]"
   ]
  },
  {
   "cell_type": "code",
   "execution_count": 13,
   "metadata": {
    "collapsed": false
   },
   "outputs": [
    {
     "data": {
      "text/plain": [
       "6×6 Array{Float64,2}:\n",
       " 0.0       0.5       0.5       0.0       0.0       0.0     \n",
       " 0.166667  0.166667  0.166667  0.166667  0.166667  0.166667\n",
       " 0.333333  0.333333  0.0       0.0       0.333333  0.0     \n",
       " 0.0       0.0       0.0       0.0       0.5       0.5     \n",
       " 0.0       0.0       0.0       0.5       0.0       0.5     \n",
       " 0.0       0.0       0.0       1.0       0.0       0.0     "
      ]
     },
     "execution_count": 13,
     "metadata": {},
     "output_type": "execute_result"
    }
   ],
   "source": [
    "H1 = H; H1[2,:] = 1/6;\n",
    "H1"
   ]
  },
  {
   "cell_type": "code",
   "execution_count": 14,
   "metadata": {
    "collapsed": false
   },
   "outputs": [
    {
     "data": {
      "text/plain": [
       "6×6 Array{Float64,2}:\n",
       " 0.0666667  0.366667   0.366667   0.0666667  0.0666667  0.0666667\n",
       " 0.166667   0.166667   0.166667   0.166667   0.166667   0.166667 \n",
       " 0.266667   0.266667   0.0666667  0.0666667  0.266667   0.0666667\n",
       " 0.0666667  0.0666667  0.0666667  0.0666667  0.366667   0.366667 \n",
       " 0.0666667  0.0666667  0.0666667  0.366667   0.0666667  0.366667 \n",
       " 0.0666667  0.0666667  0.0666667  0.666667   0.0666667  0.0666667"
      ]
     },
     "execution_count": 14,
     "metadata": {},
     "output_type": "execute_result"
    }
   ],
   "source": [
    "α = 0.6\n",
    "H2 = α*H1 + (1-α)*ones(6,6)/6;\n",
    "H2"
   ]
  },
  {
   "cell_type": "code",
   "execution_count": 15,
   "metadata": {
    "collapsed": false
   },
   "outputs": [
    {
     "data": {
      "text/plain": [
       "6-element Array{Float64,1}:\n",
       " 0.236302\n",
       " 0.307193\n",
       " 0.255994\n",
       " 0.605904\n",
       " 0.418073\n",
       " 0.492297"
      ]
     },
     "execution_count": 15,
     "metadata": {},
     "output_type": "execute_result"
    }
   ],
   "source": [
    "λ, X = eig(H2')\n",
    "v = X[:,1]\n",
    "v = real(v) # remove small complex components"
   ]
  },
  {
   "cell_type": "code",
   "execution_count": 17,
   "metadata": {
    "collapsed": false
   },
   "outputs": [
    {
     "data": {
      "text/html": [
       "<img src=\"data:image/png;base64,iVBORw0KGgoAAAANSUhEUgAAAlgAAAGQCAYAAAByNR6YAAAABHNCSVQICAgIfAhkiAAAAAlwSFlzAAAPYQAAD2EBqD+naQAAGWtJREFUeJzt3X9s1fXd9/E36BzUOLy2agaGw48pFUN0LXHMud0GslXmknOzYYZVXEEZOKEZSwYm9/4ATNDQOd0iROC2yjayQsQMyTKniyNTbudlRtH4o8AApc1SJ12u4IXl0gm9/7Ae17WdAp/ybb88HsnJxpcvp6/T6TfPnXM4HdLZ2dkZAAAkMzTrAQAAeSOwAAASE1gAAImd3ddv7Nu3L2pra6O9vT3OP//82LBhQ0ycOLHHea2trbFw4cLYu3dvnH322fG9730vFi5c2OO89vb2eOKJJ2Ls2LExfPjwtI8CACAjR48ejddffz2uvfbaKC8vf/9gZx+mTZvW+Ytf/KKzs7Ozc8uWLZ1XXnllr+dNnjy589FHHy39+s033+z1vI0bN3ZGhJubm5ubm5tbLm8bN24sdU+vz2AdOnQodu7cGb///e8jImLmzJmxaNGiOHDgQIwfP7503lNPPRXDhg2Lb33rW6VjF1xwQW93GWPHjo2IiI0bN/b6TBicisWLF8dPf/rTrGcwgDQ3N8fs2bMjrvs/EZ+tyHpOPv39tYjHlruu08OZdk3+4HrzQetE9PESYWtra4wcOTKGDv3wLVqFQiFaWlq6Bdarr74a5eXlUVNTE3v27Ilx48bFPffcE+PGjetxnx+8LDhx4sSoqqpK9ZggIiLKysr8c0XvKv93xJjKrFfk08FdEY8td12nhzP1mvzPb4E6pTe5v/fee7F9+/ZYtmxZNDU1RXV1dXz7298+5YFwol544YWsJwDQxTW5j8AaPXp0tLW1xfHjx0vHWlpaolAodDuvUChEZWVlXHrppRERcfPNN8euXbvi2LFjfX7B6667LorFYrfbVVddFVu3bu123pNPPhnFYrHHn1+4cGE0NDR0O9bU1BTFYjHa29u7HV+2bFmsWrWq27GWlpYoFouxe/fubsfvv//+WLJkSbdjHR0dUSwWY8eOHd2ONzY2xty5c3tsmzVrlseR0ePozWB8HHn532MgPI7Fixf3uF/6X97/ufI4Pt7jqKj48GX5wfw4/tkHj6OxsbFbw4wbNy5uuOGGHvcxpK9Pcp82bVrU1tZGbW1tbNmyJerr6+P555/vMfjyyy+Pp59+OkaNGhWPPPJI3HnnnfHSSy/1uL+mpqaYPHly7Ny584x82pD+VSwWY9u2bVnPYAD54JoTP/pPLxH2l4O7IlZOcV2nhw+uyS0tLT1iKQ/Ky8u7PenUW+P0+TENa9eujTlz5sRdd90VI0aMiA0bNkTE+xV50UUXxfz586OsrCzWrl0b3/jGNyIiYsSIEbFp06Z+fEjQu5qamqwnANClpqYmWlpaYuLEidHR0ZH1nOTKysqiubm5xyt7/6zPwJowYUI8++yzPY6vWLGi26+/+tWvxq5du05hJpw6gQUwcNTU1ERTU1N0dHTk7m+ZfvA3Btvb208usGAwaWhoiFtvvTXrGQDE+9fkysr3X5o/U/+WqR+VQy40NTVlPQGALq7JAoucWLNmTdYTAOgy2K7JBw8ejKlTp8b555+f7Nk2LxECAKfNd59+L17+r3T3N+k/Iv7v/zq1nPnUpz4VK1eujMOHD8ePfvSjJLsEFgBw2rz8XxHPvdnrJ0SdpCEf+8yf/OQnsXfv3li3bl1ERBw+fDguvvji+Mtf/hJf+tKX4o9//GOyVV4iBADOCPPmzYvHHnss3nrrrYiIePjhh2PGjBlx/vnnJ/9aAotc6O1TggHIxkC9Jo8YMSKuv/76eOihhyIi4oEHHohFixb1y9fyEiG50F//ggBw4gbyNbmuri6KxWJceumlceGFF8YVV1zRL19HYJEL1dXVWU8AoEt1dXWfH9Uw6T8iTuR9Ux/l/fv7+CoqKmL8+PExf/78uOeee7r9XmdnZ/TxEwRPmMACAE6bU/0bfyl897vfjbq6upg5c2ZERBw9ejQmTJgQ7777bhw+fDgKhULcfPPNsXLlypP+Gtk/SgCA02j79u1x++23x1lnnRUREcOHD4/W1takX8Ob3MmFrVu3Zj0BgC4D9Zrc1tYWEydOjF27dsXixYv79WsJLHKhsbEx6wkAdBmo1+SRI0dGc3Nz7NixI84999x+/VoCi1zYvHlz1hMA6OKaLLAAAJLzJncAoN80NzdnPSGpj/t4BBYAkFx5eXmUlZXF7Nmzs56SXFlZWZSXl//bcwQWuTB37tx4+OGHs54BQHx4TW5ubo729vas5yRXXl4ehULh354jsMgFn+QOMHB8cE0uFAofGSJ55U3u5EJNTU3WEwDo4possAAAkhNYAACJCSxyYceOHVlPAKCLa7LAIifq6+uzngBAF9dkgUVObNq0KesJAHRxTRZY5ERZWVnWEwDo4possAAAkhNYAACJCSxyYcmSJVlPAKCLa7LAIifO1B/FADAQuSYLLHKirq4u6wkAdHFNFlgAAMkJLACAxAQWubB79+6sJwDQxTVZYJETS5cuzXoCAF1ckwUWObF69eqsJwDQxTVZYJET/kowwMDhmiywAACSE1gAAIkJLHJh1apVWU8AoItrssAiJzo6OrKeAEAX12SBRU6sWLEi6wkAdHFNFlgAAMkJLACAxAQWudDe3p71BAC6uCYLLHLilltuyXoCAF1ckwUWObF8+fKsJwDQxTVZYJETVVVVWU8AoItrssACAEhOYAEAJCawyIWGhoasJwDQxTVZYJETTU1NWU8AoItrssAiJ9asWZP1BAC6uCYLLACA5AQWAEBiAgsAIDGBRS4Ui8WsJwDQxTVZYJETixYtynoCAF1ckwUWOVFdXZ31BAC6uCYLLACA5AQWAEBiZ2c9AFLYunVrzJgxI+sZAP2ira0t2trasp7xsW3fvj2mTp2a9YwTUl5eHoVCIdn9CSxyobGxUWABudTW1hajRo3KekbuDRteFnt2NyeLLIFFLmzevDnrCQD9ovTM1c1rIwqV2Y7Jqzea438a5kR7e7vAAoAzSqEyYozAGiy8yR0AIDGBBQCQmMAiF+bOnZv1BAAoEVjkgk8NBmAgEVjkQk1NTdYTAKBEYAEAJCawAAASE1jkwo4dO7KeAAAlAotcqK+vz3oCAJQILHJh06ZNWU8AgBKBRS6UlZVlPQEASgQWAEBiAgsAIDGBRS4sWbIk6wkAUCKwyIVCoZD1BAAoEVjkQl1dXdYTAKBEYAEAJCawAAASE1jkwu7du7OeAAAlAotcWLp0adYTAKBEYJELq1evznoCAJQILHLBxzQAMJAILACAxAQWAEBiAotcWLVqVdYTAKBEYJELHR0dWU8AgBKBRS6sWLEi6wkAUCKwAAASE1gAAIkJLHKhvb096wkAUCKwyIVbbrkl6wkAUCKwyIXly5dnPQEASgQWuVBVVZX1BAAoEVgAAIkJLACAxAQWudDQ0JD1BAAoEVjkQlNTU9YTAKBEYJELa9asyXoCAJQILACAxAQWAEBiAgsAIDGBRS4Ui8WsJwBAydlZD4AUFi1alPUEOGM1NzdnPSHXfH8HJ4FFLlRXV2c9Ac48/90eERGzZ8/OeAgMPAILgJNz5P3AipvXRhQqs92SZy8/HvHY8qxXcIIEFgCnplAZMUZg9Zu23Vkv4CR4kzu5sHXr1qwnAECJwCIXGhsbs54AACUCi1zYvHlz1hMAoERgAQAk1mdg7du3L66++uqoqKiIKVOmfOTncMyZMyeGDh0ab731VvKRAACDSZ+BtWDBgrjttttiz549sXTp0qitre3zTn7961/HOeecE0OGDOmXkQAAg0mvgXXo0KHYuXNn3HTTTRERMXPmzGhtbY0DBw70OPdvf/tb3H333XHfffdFZ2dn/66FPsydOzfrCQBQ0mtgtba2xsiRI2Po0A9/u1AoREtLS49z58+fHz/+8Y/j3HPP7b+V8BF8kjsAA8kpvcm9oaEhxowZE9dcc02qPXBSampqsp4AACW9Btbo0aOjra0tjh8/XjrW0tIShUKh23nbt2+Pxx57LMaPHx/jxo2LiIjLL788XnzxxT6/4HXXXRfFYrHb7aqrrurxQZFPPvlkFIvFHn9+4cKF0dDQ0O1YU1NTFIvFaG9v73Z82bJlsWrVqm7HWlpaolgsxu7d3T8Z9/77748lS5Z0O9bR0RHFYjF27NjR7XhjY2OvL0nNmjXL4/A4PI4B8jgWL17c434BPo5/d71qbGzs1jDjxo2LG264ocd9DOns441T06ZNi9ra2qitrY0tW7ZEfX19PP/88/920NChQ+Pw4cNx3nnn9fi9pqammDx5cuzcuTOqqqpO5HECnLAPrjnxo//0Y1z6y3ONEQ/V+h73N9/n/ndwV8TKKSfdKL01Tp8vEa5duzbWrVsXFRUVUV9fHxs2bIiI9//f4vr163v9M0OGDPFGdzLxr8+iAECW+vxhzxMmTIhnn322x/EVK1b0eWfHjh1LswpOUH19fXz5y1/OegYARIRPcicnNm3alPUEACgRWORCWVlZ1hMAoERgAQAkJrAAABITWOTCv35GEwBkSWCRC//6IbgAkCWBRS7U1dVlPQEASgQWAEBiAgsAIDGBRS786w8nBoAsCSxyYenSpVlPAIASgUUurF69OusJAFAisMgFH9MAwEAisAAAEhNYAACJCSxyYdWqVVlPAIASgUUudHR0ZD0BAEoEFrmwYsWKrCcAQInAAgBITGABACQmsMiF9vb2rCcAQInAIhduueWWrCcAQInAIheWL1+e9QQAKBFY5EJVVVXWEwCgRGABACQmsAAAEhNY5EJDQ0PWEwCgRGCRC01NTVlPAIASgUUurFmzJusJAFAisAAAEhNYAACJCSwAgMQEFrlQLBazngAAJQKLXFi0aFHWEwCgRGCRC9XV1VlPAIASgQUAkJjAAgBITGCRC1u3bs16AgCUCCxyobGxMesJAFAisMiFzZs3Zz0BAEoEFgBAYgILACAxgQUAkJjAIhfmzp2b9QQAKBFY5IJPcgdgIBFY5EJNTU3WEwCgRGABACQmsAAAEhNY5MKOHTuyngAAJQKLXKivr896AgCUCCxyYdOmTVlPAIASgUUulJWVZT0BAErOznoAA09bW1u0tbVlPSPXysvLo1AoZD0DgH4isOimra0tRo0alfWM3Bs2vCz27G4WWQA5JbDopvTM1c1rIwqV2Y7Jqzea438a5kR7e7vAAsgpgUXvCpURYwQWAJwMb3IHAEhMYAEAJCawAAASE1gAAIkJLACAxAQWAEBiAgsAIDGBBQCQmMACAEhMYAEAJCawAAASE1gAAIkJLACAxAQWAEBiAgsAIDGBBQCQmMACAEhMYAEAJCawAAASE1gAAIkJLACAxAQWAEBiAgsAIDGBBQCQmMACAEhMYAEAJCawAAASE1gAAImdnfUAOFM1NzdnPSHXfH+BLAksON3+uz0iImbPnp3xEAD6i8CC0+3I+4EVN6+NKFRmuyXPXn484rHlWa8AzlACC7JSqIwYI7D6TdvurBcAZzBvcgcASExgAQAkJrAAABITWAAAiQksAIDEBBYAQGICCwAgMYEFAJDYoPqg0ba2tmhra8t6Rq75+W0AcOoGTWC1tbXFqFGjsp4BAPCRBlVgRYSf39bf/Pw2ADhlgyawSvz8tv7l57cBwCnzJncAgMQEFgBAYgILACAxgQUAkJjAAgBITGABACQmsAAAEhNYAACJCSwAgMQEFgBAYgILACAxgQUAkJjAAgBITGABACQmsAAAEuszsPbt2xdXX311VFRUxJQpU6K5ubnHOS+//HJcc801cdlll8Xll18e8+bNi3feeadfBwMADHR9BtaCBQvitttuiz179sTSpUujtra2xznDhg2LNWvWxKuvvhovvvhiHDlyJFatWtWvgwEABrpeA+vQoUOxc+fOuOmmmyIiYubMmdHa2hoHDhzodt7FF18ckyZNioiIIUOGxJVXXhmvv/56/y4GABjgeg2s1tbWGDlyZAwd+uFvFwqFaGlp6fOO3n777XjwwQdjxowZ6VcCAAwiSd7k/o9//CNuuOGGmD59ehSLxRR3CQAwaJ3d28HRo0dHW1tbHD9+vPQsVktLSxQKhR7nvvfeezFr1qy46KKL4r777vvIL3jdddfFF77whW7HDh06FHfccUe3Z7+efPLJWL16dWzbtu2EHhAAwKmYNWtW1NTU9NolNTU10djYWDr+0ksvxSc+8Yke99FrYF1wwQVRVVUVv/zlL6O2tja2bNkSo0ePjvHjx3c779ixYzFr1qz4zGc+E2vXrv1Yo3/7299GVVXVR55XXV0d1dXVH+s+AQBS2bx5c49j/9wlNTU13X6vqakpJk+e3O1Yny8Rrl27NtatWxcVFRVRX18fGzZsiIiIZcuWxfr160sDtm7dGn/+85+jsrIyqqqqoq6u7pQeFADAYNfrM1gRERMmTIhnn322x/EVK1aU/vuNN94YN954Y/8sAwAYpHySOwBAYgILACAxgQUAkJjAAgBITGABACQmsAAAEhNYAACJCSwAgMQEFgBAYgILACAxgQUAkJjAAgBITGABACQmsAAAEhNYAACJCSwAgMQEFgBAYgILACAxgQUAkJjAAgBITGABACQmsAAAEhNYAACJCSwAgMQEFgBAYgILACAxgQUAkJjAAgBITGABACQmsAAAEhNYAACJCSwAgMQEFgBAYgILACAxgQUAkJjAAgBITGABACQmsAAAEhNYAACJCSwAgMQEFgBAYgILACAxgQUAkJjAAgBITGABACQmsAAAEhNYAACJCSwAgMQEFgBAYgILACAxgQUAkJjAAgBITGABACQmsAAAEhNYAACJCSwAgMQEFgBAYgILACAxgQUAkJjAAgBITGABACQmsAAAEhNYAACJCSwAgMQEFgBAYgILACAxgQUAkJjAAgBITGABACQmsAAAEhNYAACJCSwAgMQEFgBAYgILACAxgQUAkJjAAgBITGABACQmsAAAEhNYAACJCSwAgMQEFgBAYgILACAxgQUAkJjAAgBITGABACQmsAAAEhNYAACJCSwAgMQEFgBAYgILACAxgQUAkJjAAgBITGABACQmsAAAEhNYAACJCSwAgMQEFgBAYgILACAxgQUAkJjAAgBITGABACQmsAAAEhNYAACJCSwAgMQEFgBAYgILACAxgQUAkJjAAgBITGABACQmsAAAEhNYAACJCSwAgMQEFgBAYgILACAxgQUAkFifgbVv3764+uqro6KiIqZMmRLNzc29nveb3/wmJk6cGBUVFXH99dfHkSNH+m0sAMBg0GdgLViwIG677bbYs2dPLF26NGpra3uc8/bbb8e8efNi27ZtsWfPnhg5cmTceeed/ToYAGCg6zWwDh06FDt37oybbropIiJmzpwZra2tceDAgW7nPf7441FVVRWXXHJJRETcfvvt0djY2M+TAQAGtl4Dq7W1NUaOHBlDh37424VCIVpaWrqd19LSEmPGjCn9euzYsfHGG2/E8ePH+2kuAMDAd/bp+kJHjx6NiOjzvVwfpfTnXn48om13qln8q/3/7/3/9H3uP77Hp4fvc//zPT49fJ/7399fi4hTb5QPWiciIjp78eabb3aOGDGi89ixY6Vjn/3sZzv379/f7bxHHnmkc/r06aVfv/LKK52jR4/u7S47N27c2BkRbm5ubm5ubm65vG3cuLHUPUM6Ozs7oxfTpk2L2traqK2tjS1btkR9fX08//zz3c45cuRIXHzxxfH000/HhAkToq6uLoYPHx719fU97q+9vT2eeOKJGDt2bAwfPry3LwkAMOgcPXo0Xn/99bj22mujvLw8IiL6DKy9e/fGnDlz4u9//3uMGDEiNmzYEJdddlksW7YsLrroopg/f35EvP8xDUuWLIljx47FpEmT4uc//3mcd955p+9RAQAMMH0GFgAAJ8cnuQMAJCawGLTeeeed+OY3vxmXXnppVFZWxrXXXhv79+/PehactIcffjiGDh0a27Zty3oKnJR333036urqYsKECXHFFVfEd77znawnZea0fUwD9IcFCxbE9OnTIyJizZo1MW/evNi+fXvGq+DEHTx4MB588MG46qqrsp4CJ+2OO+6IoUOHxt69eyMi4s0338x4UXY8g8Wg9clPfrIUVxERX/ziF+PgwYMZLoKT09nZGfPmzYvVq1fHOeeck/UcOCkdHR3x0EMPxcqVK0vHLrzwwgwXZUtgkRs/+9nPYsaMGVnPgBN27733xle+8pWorKzMegqctP3798enP/3pWLlyZVx55ZVxzTXXxB/+8IesZ2XGS4Tkwl133RX79++P9evXZz0FTsgrr7wSjz76aDzzzDNZT4FT8t5778XBgwdj0qRJcffdd8cLL7wQX/va1+LVV1+NCy64IOt5p51nsBj07rnnnti6dWv87ne/i2HDhmU9B07IM888EwcPHoxLLrkkxo0bF88991zMnz8/1q1bl/U0OCGFQiHOOuusuPHGGyMi4vOf/3yMGzcuXnrppYyXZcPnYDGo3XvvvfGrX/0qnnrqqRgxYkTWc+CUTZ06NX7wgx9EsVjMegqcsOnTp8f3v//9+PrXvx6vvfZaTJkyJV588cUYOXJk1tNOOy8RMmj99a9/jR/+8Ifxuc99LqZOnRqdnZ0xbNiw+NOf/pT1NDhpQ4YMyXoCnLQHHnggbr311rjjjjvirLPOivXr15+RcRXhGSwAgOS8BwsAIDGBBQCQmMACAEhMYAEAJCawAAAS+/+IN6IJJoi3bQAAAABJRU5ErkJggg==\" />"
      ]
     },
     "execution_count": 17,
     "metadata": {},
     "output_type": "execute_result"
    }
   ],
   "source": [
    "bar(v)"
   ]
  },
  {
   "cell_type": "markdown",
   "metadata": {},
   "source": [
    "Perron-Frobenious Theorem guarantees that the leading eigenvalue is 1."
   ]
  },
  {
   "cell_type": "code",
   "execution_count": 18,
   "metadata": {
    "collapsed": false
   },
   "outputs": [
    {
     "data": {
      "text/plain": [
       "6-element Array{Float64,1}:\n",
       "  1.0     \n",
       "  0.406724\n",
       " -0.246999\n",
       " -0.059725\n",
       " -0.3     \n",
       " -0.3     "
      ]
     },
     "execution_count": 18,
     "metadata": {},
     "output_type": "execute_result"
    }
   ],
   "source": [
    "eigvals(H2)"
   ]
  },
  {
   "cell_type": "code",
   "execution_count": 19,
   "metadata": {
    "collapsed": false
   },
   "outputs": [
    {
     "name": "stdout",
     "output_type": "stream",
     "text": [
      "  1    5.66e-01\n",
      "  2    1.58e-01\n",
      "  3    6.00e-02\n",
      "  4    5.71e-03\n",
      "  5    4.74e-03\n",
      "  6    4.13e-04\n",
      "  7    4.59e-04\n",
      "  8    1.47e-04\n",
      "  9    5.84e-05\n",
      " 10    2.79e-05\n",
      " 11    9.00e-06\n",
      " 12    4.69e-06\n",
      " 13    1.51e-06\n",
      " 14    7.60e-07\n"
     ]
    }
   ],
   "source": [
    "A = H2'; n = size(A,1)\n",
    "v = randn(n)\n",
    "α = abs(v[1])\n",
    "λ = 0\n",
    "for k = 1:1000\n",
    "    v = A*v\n",
    "    v = v / norm(v)\n",
    "    λ = dot(v,A*v)\n",
    "    ϵ = abs(abs(v[1]) - α)\n",
    "    α = abs(v[1])\n",
    "    @printf \"%3i  %10.2e\\n\" k ϵ\n",
    "    ϵ ≤ 1e-6 && break\n",
    "end;"
   ]
  },
  {
   "cell_type": "markdown",
   "metadata": {
    "collapsed": true
   },
   "source": [
    "## Inverse power method"
   ]
  },
  {
   "cell_type": "code",
   "execution_count": 20,
   "metadata": {
    "collapsed": false
   },
   "outputs": [],
   "source": [
    "A = diagm([1.0j for j in 1:32]);"
   ]
  },
  {
   "cell_type": "code",
   "execution_count": 21,
   "metadata": {
    "collapsed": true
   },
   "outputs": [],
   "source": [
    "n = size(A,1)\n",
    "v = randn(n)\n",
    "α = -1; s = 1\n",
    "d = []\n",
    "for k=1:10\n",
    "    v = (A - α*eye(n))\\v\n",
    "    v = v / norm(v)\n",
    "    λ = dot(v,A*v)\n",
    "    push!(d, abs(λ-s))\n",
    "end;"
   ]
  },
  {
   "cell_type": "code",
   "execution_count": 22,
   "metadata": {
    "collapsed": false
   },
   "outputs": [
    {
     "data": {
      "text/html": [
       "<img src=\"data:image/png;base64,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\" />"
      ]
     },
     "execution_count": 22,
     "metadata": {},
     "output_type": "execute_result"
    }
   ],
   "source": [
    "plot(d,yscale=:log10)"
   ]
  },
  {
   "cell_type": "markdown",
   "metadata": {},
   "source": [
    "## Inverse power method"
   ]
  },
  {
   "cell_type": "code",
   "execution_count": 23,
   "metadata": {
    "collapsed": false
   },
   "outputs": [],
   "source": [
    "n = 32\n",
    "# diagonal matrix:\n",
    "A = diagm( [ 1.0*i for i=1:n ] ); "
   ]
  },
  {
   "cell_type": "code",
   "execution_count": 24,
   "metadata": {
    "collapsed": true
   },
   "outputs": [],
   "source": [
    "α = 0\n",
    "n = size(A,1)\n",
    "v = randn(n)\n",
    "err = []\n",
    "for k = 1:100\n",
    "    v = (A - α*eye(n))\\v\n",
    "    v /= norm(v)\n",
    "    λ = dot(v, A*v)\n",
    "    push!(err, λ)\n",
    "end;"
   ]
  },
  {
   "cell_type": "code",
   "execution_count": 25,
   "metadata": {
    "collapsed": false
   },
   "outputs": [
    {
     "data": {
      "text/html": [
       "<img src=\"data:image/png;base64,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\" />"
      ]
     },
     "execution_count": 25,
     "metadata": {},
     "output_type": "execute_result"
    }
   ],
   "source": [
    "plot(err,yscale=:log10)"
   ]
  }
 ],
 "metadata": {
  "kernelspec": {
   "display_name": "Julia 0.5.0",
   "language": "julia",
   "name": "julia-0.5"
  },
  "language_info": {
   "file_extension": ".jl",
   "mimetype": "application/julia",
   "name": "julia",
   "version": "0.5.0"
  },
  "widgets": {
   "state": {},
   "version": "1.0.0"
  }
 },
 "nbformat": 4,
 "nbformat_minor": 0
}

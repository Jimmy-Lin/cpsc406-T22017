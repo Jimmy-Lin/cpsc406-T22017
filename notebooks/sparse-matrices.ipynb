{
 "cells": [
  {
   "cell_type": "code",
   "execution_count": 2,
   "metadata": {
    "collapsed": false
   },
   "outputs": [],
   "source": [
    "n = 50\n",
    "a = randn(n-1)\n",
    "b = randn(n)\n",
    "c = randn(n-1)\n",
    "A = diagm(a,-1) + diagm(b,0) + diagm(c,+1);"
   ]
  },
  {
   "cell_type": "code",
   "execution_count": 3,
   "metadata": {
    "collapsed": true
   },
   "outputs": [],
   "source": [
    "using Plots"
   ]
  },
  {
   "cell_type": "code",
   "execution_count": 5,
   "metadata": {
    "collapsed": false
   },
   "outputs": [
    {
     "data": {
      "text/html": [
       "<img src=\"data:image/png;base64,iVBORw0KGgoAAAANSUhEUgAAAlgAAAGQCAYAAAByNR6YAAAABHNCSVQICAgIfAhkiAAAAAlwSFlzAAAPYQAAD2EBqD+naQAAIABJREFUeJzs3XlcVOX+B/DPGUAWwRURxMBSUdNM0Uyzcqncbk1pLmlpiUven3sl0nJDy25ipZXaoilKGqK5ds30apZ61TLRbtdEzAIMRcUFZWdmzu8Pg5yYM/AcZ87hwOd9X+f1uvc888x85+P8/H09y3MkWZZlEBEREZHLmPQugIiIiKi6YYNFRERE5GKeehdQHWVnZ2P79u1o1qwZfH199S6HiIhcqKCgAGlpaejbty8CAwP1LoeqKDZYbrB9+3Y89dRTepdBRERutGrVKjz55JN6l0FVFBssN2jWrBmA6//H16ZNG32LqUKmTZuGd999V+8yDIWZiWNm4piZmOPHj+Opp54q+7ueyBE2WG5QelqwTZs2iIyM1LmaqqNevXrMQxAzE8fMxDEzdXgJCDnDBos0U1xcrHcJhsPMxDEzccyMtJCRkYHs7GzV8wMDAxEWFubCityLDRZp5ujRo3qXYDjMTBwzE8fMyN0yMjLQpk0E8vOLVL+Hn58fjh8/bpgmiw0WaaZVq1Z6l2A4zEwcMxPHzMjdsrOzkZ9fhIRVf0frNk2E56ccP4NRT32I7OxsNlikzFZcAlMtL8XxosISePsojxvVhAkT9C7BcJiZOGYmjpmRVlq1aoyOHW4RnifbrG6oxr240KgODj85Eed3fOtw7OSPGfhbkym4diVf46rcb/jw4XqXYDjMTBwzE8fMSDOyDbJsFd4g2/SuXBiPYOmg9evR8A0LdTh2W7umeHvLdATU89O4KiIiInIVHsHSQUDrFvD0c3x7r4eHCR3ujdC4Im0sW7ZM7xIMh5mJY2bimBlp5foRKYuKjacIiRQlJyfrXYLhMDNxzEwcMyOtyFDTXFkgw6J36cLYYJFmFi9erHcJhsPMxDEzccyMyPXYYBEREZEmbDYrbDaLis35KcKff/4ZQ4cORfPmzVG7dm00atQIPXr0wL/+9a9K1ZWTk4Px48cjKCgI/v7+6N27N44cOXJT35UXuRMREZEmSq/BUjPPmfT0dOTm5uKZZ55BkyZNkJ+fj/Xr18NsNmPJkiUYO3ask/eWMWDAAPz000+Ijo5Gw4YN8cEHH6Bnz55ITk5G8+bNhesF2GDpImXPCTRt1xT+DWqXG7OVlODq94dQr/s9DueeT7+Iq9m5aNEp3N1lEhERGUL//v3Rv39/u32TJk1CZGQk5s+f77TBWrduHQ4cOID169dj4MCBAIAhQ4YgIiICsbGxWLVqlaqaeIpQB+teXo/U/5x0OFZ0+ndkvL0Altxch+P/WX8YG9/Z7s7y3MZsNutdguEwM3HMTBwzI82ovIsQKu4ilCQJt9xyC65cueL0devXr0dwcHBZcwVcf+7h0KFDsXnzZpSUlAh/NsAjWLr4x96XFMd8b7sV7TeuUxwf+Fwfd5SkiUmTJuldguEwM3HMTBwzI62UNUwq5lVGfn4+CgoKkJOTg82bN2Pbtm0VLqR75MgRREZGltvfpUsXLF26FKmpqWjbtq1wzTyCRZrp08e4zaFemJk4ZiaOmVF18fzzz6NRo0Zo0aIFZsyYgUGDBmHhwoVO55w9exYhISHl9pfuO3PmjKpaeASLiIiINCHLVsg211/kXmr69OkYMmQIzpw5g7Vr18JqtaKoqMjpnIKCAnh7e5fb7+PjA1mWUVBQIFwvwAaLiIiItGKzAioaLFTyYc8RERGIiLj+NJSnnnoKffv2hdlsxsGDBxXn+Pr6OmzCCgsLIUkSfH0dP3mlIjxFSJrZtGmT3iUYDjMTx8zEMTOqStZ9/j8Me2KN3Rbz4g5V7zV48GAcOnQIJ086vrEMuH4q8OzZs+X2l+5r0qSJqs9mg0WaSUxM1LsEw2Fm4piZOGZGmpEtgFzidBvyeCskJT5ut839Z29VH1d6ei8nJ0fxNR06dHD4uKiDBw/Cz8+v7IiYKDZYVUxOVg6Spq1CSaHj20L/t+MnfP3BLsX5aR9/ipyjx9xV3k1JSkrSuwTDYWbimJk4Zkaakf84RSi6VXAN1oULF8rts1gsWLlyJXx9fXH77bcDALKysnDixAlYrX++3+DBg3Hu3Dls2LChbF92djY+//xzmM1meHl5qfqqvAaripEkwOSh3PeaJAkeTsYlD4/rb0JERFRDPPvss7h69Sruv/9+hIaGIisrC6tXr8aJEycwf/58+Pn5AQBiYmKQkJCAtLQ0hIWFAbjeYL377rsYPXo0jh07hsDAQHzwwQew2WyYNWuW6prYYFUxdRrXxZB3RiiO3/5QO6fzw8cqzyUiItKVmy5yf+KJJ7Bs2TJ89NFHuHjxIgICAtCpUye89dZb+Nvf/lb2OkmSYDLZH6QwmUzYtm0bZsyYgYULF6KgoABdunRBQkICWrZsKV7rH9hgERERkTZky/VNzTwnhg4diqFDh1b4NvHx8YiPjy+3v27duliyZAmWLFkiXpsCXoNFmhk9erTeJRgOMxPHzMQxMyLX4xEs0gxXixbHzMQxM3HMjDQjqzxFqOJZhHpjg0Waqeh5UFQeMxPHzMQxM9KKZLNCUtFgSZVcaLQq4SlCIiIiIhdjg2UwVzcuQ/a8aYrjxyZMw4Wt2x3PPX0B8Z2nIO/8FXeVR0REpEy2/nmhu9DGI1jkZn73DkCdwc8qjodNHId699ztcMy/SUP0fmsM/BrVdVd5Tu3bt0+XzzUyZiaOmYljZqQZWcUiozaVdx7qjA2WwXg2CkGt29oojgfc0RZe9es5HDN5mBDe605IOi1EOm/ePF0+18iYmThmJo6ZEbkeL3InzaxZs0bvEgyHmYljZuKYGWnGZqtw0VDFeQbDBos0U/qoAqo8ZiaOmYljZqQVSbapuiNQko3XYPEUIREREZGL8QgWERERaUO2qrsjkHcRkt6y/5eGoiu5DsdkWcapfSmKc+W8bNjO/tddpWHGjBlue+/qipmJY2bimBlpxmb7Y7FRsc2I12Cxwapm9seuRNqOww7HLmdkY3XUElzNcrwOlvW/n6Nka4zbagsLC3Pbe1dXzEwcMxPHzIhcj6cIq5mH17wMk5fjP9YG4Y3w8rG34OHl4XDcs9sEeHQZ67baJk+e7Lb3rq6YmThmJo6ZkWZkq7q7CA14ipANVjWj1FyVUmquSkke/EkQEZGb1KBlGniKkIiIiMjF2GCRZlJSlC+wJ8eYmThmJo6ZkVYk2QZJtqrYeASLSFF0dLTeJRgOMxPHzMQxM9JM6TVYopsBr8Fig0WaWbRokd4lGA4zE8fMxDEzItdjg1WDWK7l4tSCj2HNL3A4funIcfy2+l+K879fvhvpB1NVfz5vBRfHzMQxM3HMjLQiqVwHSzLgRe68ZawGkS1WlFy8DNnq+FCrNb8QxZevKs7Pv3QNxXlF7iqPiIiqO5vKZRrUzNEZG6waxKt+XbSeo7yQaKPuHdGoe0fF8Z4vmN1RFhERUbXDU4Skmbi4OL1LMBxmJo6ZiWNmpBnZpvIid54iJFKUn5+vdwmGw8zEMTNxzIy0cv0aLPFmyYjXYPEIFmlm9uzZepdgOMxMHDMTx8yIXI9HsIiIiEgbsspH5fAUIREREZFjpcs0qJlnNDxFSGWyt36JUy++pDg+f8QS7Pxkr8OxostXsaP/JOSdPqf8/tnZN11jTcPMxDEzccyMjOyHH37ApEmT0K5dO/j7+yM8PBzDhg3DyZMnhd9r3LhxMJlMMJtv/q55NlhUJqBTJIKGDFYc7zehJ9o/2MbhWK26/rh98nD4BjdUnB8VFXXTNdY0zEwcMxPHzEgzau4grGDtrLi4OGzcuBEPPvgg3n//fTz77LPYs2cPIiMj8fPPP1e6tB9++AErV66Er6+vK74pTxHSn7yDg+EdHKw4fvv9EYpjksmEpgO6O33/WbNmqS2txmJm4piZOGZGmpFtgJrTfU6uwXr++eeRmJgIT88/W5qhQ4fijjvuwNy5c5GQkFCpj5g6dSqefvpp7Ny5U7w+B3gEizQTGRmpdwmGw8zEMTNxzIyMrGvXrnbNFQC0aNECbdu2xfHjxyv1HgkJCTh27BjeeOMNl9XFBouIiIg0oeWzCM+dO4fAwMAKX5ebm4uYmBi8/PLLCAoKUvO1HGKDRURERNqw2dRvAlatWoXMzEw88cQTFb529uzZ8PPzw7Rp09R+K4fYYJFmli1bpncJhsPMxDEzccyMqpOUlBRMmjQJ3bt3x6hRo5y+NjU1Fe+//z7efvtteHl5ubQONlhUaTlp51CUk6c4fu6/aZBl2eFYYW4Rftid7K7Sqq3kZGYmipmJY2akGTc/i/DcuXP429/+hvr162PdunWQJMnp66dOnYp7770Xjz32mCu+nR3eRUiVtufleIT1aI87xw8oN5Z3IQfrhs3DiC/+gQYtQsqNf7fhMBr+GqpFmdXK4sWL9S7BcJiZOGZGmqnE6b41u64h6etrdvuu5lXcYF29ehX9+vXD1atXsW/fPgQ7uSseAL7++mts374dGzduRHp6OgBAlmVYLBYUFBQgPT0dDRo0QEBAQIWf7QgbLKq0fkunw8Pb8SHU2o3qYvyhd1DL3/H6IfeP7Ia7B3VyZ3lERFQNPPFAAJ54wL6pOZJaiLsn/K44p6ioCA8//DB++eUX7Nq1C61atarwc06fPg1JkjBw4EC7/ZIkITMzE7fddhsWLFiAKVOmqPoebLCo0rz8vJ2OKzVXwPUfrI+/8/lERFTNybK6x94oXH4CADabDUOHDsV3332HLVu2oEuXLg5fl5WVhZycHLRo0QIeHh544IEHsHHjxnKvGzduHJo1a4ZXXnkF7dq1E6/1D2ywbjB16lRs2bIF6enpOHr0KNq3bw8AuHDhAkaNGoVTp07Bx8cHixcvxn333adztURERAZTwarsTucpeO655/DFF1/AbDYjOzsbq1evtht/8sknAQAxMTFISEhAWloawsLC0LRpUzRt2rTc+02dOhWNGzfGI488Il7nDXiR+w2GDBmC//znP2jWrJnd/piYGHTr1g2pqalYvnw5RowYAatVxQ+khnPFs51qGmYmjpmJY2ZkZD/++CMkScIXX3yBUaNGldtKSZIEk6nitkeSpAovjq8MHsG6wb333gsA5e6EW7t2LU6dOgUA6Ny5M0JDQ/Htt9+id+/emtdoZJMmTdK7BMNhZuKYmThmRpqxyeoelWNTPkW4e/fuSr1FfHw84uPjK3zdr7/+WumynGGDVYFLly7BYrHYre4aHh6OjIwMHasypj59+uhdguEwM3HMTBwzI8244VmEVRVPEZJL2IqLkblsBay5jtfJyv/1N5xbv0lx/q413+PHPanuKo+IiEhTbLAq0KBBA3h6euL8+fNl+0ovkKvIgAEDYDab7bZu3bph0yb7RmPHjh0Or4GYOHFiuRWWk5OTyy7ku1FsbCzi4uLs9mVkZMBsNiMlJcVu/8KFCzFjxgy7ffn5+TCbzdi3b5/d/sTERIwePbpcbcOGDbP7HrbiYpzefwCjHDyWYOLEifjis0Tk//LnYde/fo/TKVk4l3FR9+8BVI8/D34Pfg9+D9d8j8TERPTo0QPBwcHo168fzGazyx+pUpNINvmP5xGKbsqnCKsqSVZaersGu/XWW7F58+ayuwijoqIQHh6O2NhYHDp0CIMGDUJaWho8PDwczk9OTkanTp1w+PBhPqX+Bps2bXLLarnVGTMTx8zEMTMx/DteXGlm3y+oj8jm4o+kST5Vgi7TLxsqcx7BusGECRNwyy23IDMzE3379kVERAQAYO7cudi/fz8iIiIQFRWF1atXKzZXpCwxMVHvEgyHmYljZuKYGZHr8SL3G3z00UcO9wcFBWH79u0aV1P9JCUl6V2C4TAzccxMHDMjzdhkp3cEOp1nMGywiIiISBtuWKahquIpQiIiIiIX4xEsIiIi0gbXwSJyraLkHfjPuK6K49cSXkXBzgSHY8X5Rfik3xxcSD3jrvKqLEe3nJNzzEwcMyPNlF6DpWYzGB7BIk14ht2OonYPKo57R/aBqU5Dh2NevrXQaWQP1GnSwF3lVVlcYVscMxPHzIhcjw0WacIjsCl6T52jOF6r3b2KY5IkoeOT97mjrCpv+PDhepdgOMxMHDMjzcgqL3I34JKdbLCIiIhIGzYbYJPUzTMYXoNFRERE5GJssEgzf31uGFWMmYljZuKYGWmmBl3kzgaLNDNv3jy9SzAcZiaOmYljZqSZ0muwRDcDXoPFBos0s2bNGsWxootXYMnNVxy/mpYFpeeSW0usuJyRfdP1VUXOMiPHmJk4ZkbkemywSDN+fn6KY8deW4zfVmxwOFaSV4Btg17Gxf+ecjiesu0IVj7+jktqrGqcZUaOMTNxzIw0U4NOEfIuQqoS7nh9Kky1ajkc86rtC/NXb8M3qL7D8dsfjkR4twh3lkdERC4gy+oWZTfgGUI2WFQ1eNXxdzqu1FwBgGQywb9RHVeXREREpBpPEZJmZsyYoXcJhsPMxDEzccyMNCPfxGYwPIJFmgkLC9O7BMNhZuKYmThmRpqx/bGpmWcwPIJFmpk8ebLeJRgOMxPHzMQxMyLX4xEsIiIi0oYMdUejDHiKkEewqMqTbTbs/3gnCnIcr5N15fRFHPp0j+L84v99g5LU791VHhERVZbtJjaDYYNFmklJSVE1z1JkwYkdPyIv+5rD8cunLyJ15/+U5/96BJb0n1R9tt7UZlaTMTNxzIzI9dhgkWaio6NVzfPyrYXR659HYPPGDsdvvScCT678P8X5fubp8H1ojKrP1pvazGoyZiaOmZFmbNfXwRLdjHgEi9dgkWYWLVqkdwmGw8zEMTNxzIw0w2uwiFyPt4KLY2bimJk4ZkZGl5eXh9jYWPTv3x8NGzaEyWRCQkJCpecfPnwYDz/8MEJCQhAQEIA777wTCxcuhM2m/tAZGywiIiLShpsucs/Ozsbrr7+OlJQUdOjQAZIkVbqk5ORkdO/eHRkZGYiJicH8+fPRvHlzTJ06Fc8//7zwVyzFU4RERESkDTctNNqkSRNkZWUhKCgIhw8fxl133VXpt/7oo48gSRL27t2LunXrAgDGjRuHnj17YsWKFViwYIGKgnkEizQUFxendwmGw8zEMTNxzIyMzsvLC0FBQarmXrt2DT4+PmXNVang4GD4+vqqrokNFmkmP9/xOlY3Sz6/F9Z9QxTHM5etRFbSesdzrVakTn8B+SdPuqW2m+WuzKozZiaOmZFWZJggyyo2N7YrPXv2xNWrVzF+/HikpKQgIyMDH330ETZt2oSXXnpJ9fvyFCFpZvbs2e5549rhkEL6KQ+3vR0mH2+HY5KHB+p17wavwED31HaT3JZZNcbMxDEz0owNgK3y10fZzXOTcePG4dixY/j444/xySefAAA8PT2xaNEijB8/XvX7ssEiw5Nqh0FqrrzOVb2uzs/FBw1+3NUlERGRQZhMJjRv3hz9+vXD0KFD4e3tjcTEREyaNAnBwcEwm82q3pcNFhEREWnDJqk8gqViTiXNnTsXCxcuxMmTJ+Hn5wcAGDx4MHr37o2JEyfi4YcfhskkfoqSDRZpJjs7G4FV9FRcVcXMxDEzccyMtCJDgiw7b5aSjpZg7dESu305he6r6cMPP0Tv3r3LmqtSZrMZzz//PNLS0nDbbbcJvy8vcifNREVF6V2C4TAzccxMHDOjqmRYBy+sf8bPbnvrEcfX0brCuXPnYLVay+0vKbne5FksFlXvywaLNDNr1iy9SzAcZiaOmYljZqSZ0lOEajYXyMrKwokTJ+waqoiICPz73//G5cuX/yzTZkNSUhICAgLQvHlzVZ/FU4SkmcjISF0+Vy66CkgekGrVdjh+OSsH9YPrOhyTZRmwXoHkWd+dJSrSKzMjY2bimBlpRpaub2rmVWDx4sW4cuUKMjMzAQBbtmzB6dOnAQBTpkxBQEAAYmJikJCQgLS0tLJHRMXExGDkyJHo0qULxo8fD19fX3z22Wc4cuQI3njjDXh4eIjXCzZYVAOUbJ0Gybc+vPq/U27MarFiauRreH7VWNzZu025cVv+YRRlzYPvbUlCj14gIiJtvf3228jIyAAASJKEjRs3YuPGjQCAkSNHIiAgAJIklbtgfcSIEWjUqBHefPNNvP3227h69SpatWqFjz/+GGPHjlVdDxssqva8+sYBJi+HYx6eHojbOxONb3V8ga/JryN8bnmXzRURkQvIMiCrON0nyxW/5rfffqvwNfHx8YiPjy+3/6GHHsJDDz0kXJczvAaLNLNs2TJdPleq3QiSbz3F8ZDmQYq34EqSB0y1mrirtArplZmRMTNxzIw0o/M1WFpig0WaSU5O1rsEw2Fm4piZOGZG5Ho8RUiaWbx4sd4lGA4zE8fMxDEz0oosV7wOltI8o2GDRURERNqQTYBNxckz2Xgn3IxXMREREVEVxwaLarzvPjuAvEt5DscuZedgbcJ2xbmWX4+g5JdD7iqNiKhakW3X7yIU3/SuXBwbLNKM2ieSu5PNasN/lu/BxfRsh+O//ZKJFR9vub7gqAMlx/eg5H+73VZfVcysqmNm4pgZaaYG3UXIa7BIM5MmTdK7hHJMHiY8t3Om4ninrrfjy/8oXwDs+7ep7iirTFXMrKpjZuKYGZHrscEizfTp00fvEgyHmYljZuKYGWnHBFnVBevGO+HGBouIiIg0UXpNlZp5RmO8lpCIiIioimODRZrZtGmT3iUYDjMTx8zEMTPSjE26vg6W8MYjWESKEhMT9S7BcJiZOGYmjpmRVmRIZau5C21gg0WkKCkpSe8ShF1L/Q0/zfin4jINP67cheSlyutkLR2zDGnJaao/34iZ6Y2ZiWNmRK7Hi9yJnPCq44+A1i0gSY7/9VQ3rBFsFqvi/LD2t6B2A393lUdEZCxq17Qy4ClCNlhETvgEN0KzMUMVx5v1au90ft+pvP2diKjU9bsIxU+e8S5CIiIiImKDRdoZPXq03iUYDjMTx8zEMTPSSk26yJ2nCEkzXC1aHDMTx8zEMTPSjMqFRo14DRaPYJFmhg8frncJhsPMxDEzccyMyPXYYBHdBGuxBdbiEsXxotwCp/NtBbmuLomIqMoqfVSOms1o2GAR3YT9cxKx55UExfGEB1/FL9uPOBwrTj2C85N7QS4udFd5RERVjATIJvHNgNdgscEizezbt0/vElwuctIjuOu5QYrjj8VPRbNe7RyOebVoj4Yvr4RUy0dxfnXMzN2YmThmRuR6bLBIM/PmzdO7BJerHVQP/sH1FccbtWkKz1peDsckkwe8br3d6ftXx8zcjZmJY2aklZp0ipB3EZJm1qxZo3cJhsPMxDEzccyMtKK2WTJig8UjWKQZPz8/vUswHGYmjpmJY2ZErscjWERERKQJGSbIsopH5RjweJDxKiYiIiJjsuHPBz4Lbc7fNi8vD7Gxsejfvz8aNmwIk8mEhATlO7xv9PXXX2PMmDFo1aoVateujebNm2PcuHHIysq6qa/KBos0M2PGDL1L0NzhrT8i91KewzFLQRFOf3VQcW7ur79jzvgp7iqt2qqJv7ObxczI6LKzs/H6668jJSUFHTp0gCRV/pqtmTNn4ttvv8WgQYOwcOFCDB8+HGvXrkVkZCTOnz+vuiaeIiTNhIWF6V2C5tbP2YrhbwzEHb3blBu79tsZ/PfdJDTpGQkPn1rlxs/t/g6trslalFmt1MTf2c1iZqSZP54tqGaeM02aNEFWVhaCgoJw+PBh3HXXXZV+6wULFuDee++129e3b1/06NEDixYtwmuvvSZeL9hgkYYmT56sdwma++eBlxTH6t9+K/721QLF8eZjHkfzMY+7o6xqrSb+zm4WMyOtuOsuQi8vLwQFBamq6a/NFQDcd999aNCgAY4fP67qPQGeIiQiIiKyk5eXh9zcXAQGBqp+DzZYNygqKsLAgQPRunVrdOzYEX379sWpU6cAABcuXED//v0RERGB9u3bY+/evTpXS0REZCyldxEKbxq3KwsWLEBJSQmeeOIJ1e/BBusvnn32WaSkpODIkSMwm80YO3YsgOsXwXXr1g2pqalYvnw5RowYAavVqnO1xpKSkqJ3CYbDzMQxM3HMjLQi29Su5q5djXv27MFrr72GYcOGoUePHqrfhw3WDby9vdGvX7+y/921a1ekp6cDANatW4cJEyYAADp37ozQ0FB8++23utRpVNHR0XqXYDjMTBwzE8fMiK5LSUnBoEGD0L59eyxduvSm3osXuTvx3nvv4bHHHsOlS5dgsVjsLqALDw9HRkaGjtUZz6JFi/QuwXCYmThmJo6ZkVbkStxFuPG3y9iUdsVu39Vi958xOn36NPr06YP69etj69atqF279k29HxssBf/85z9x6tQpLFmyBPn5+XqXUy3wVnB7l9Kz8dXcLzDs/VHw8PIoN279OQmh1zKBsOcczt/08lp0eLQTmnVp7u5SDYW/M3HMjDQjV3wX4WPhDfBYeAO7fT9dyke/baluK+vSpUvo06cPLBYLvvnmGzRu3Pim35OnCB14++23sWnTJnz11Vfw8fFBgwYN4OnpabfgWFpaWoV/KQ0YMABms9lu69atGzZt2mT3uh07dsBsNpebP3HiRCxbtsxuX3JyMsxmM7Kzs+32x8bGIi4uzm5fRkYGzGZzuesrFi5cWG5hwfz8fJjNZuzbt89uf2JiIkaPHl2utmHDhvF73OT38KjliYCgOlj8wWKH32POvPfwy+8XFb+Hf2AAvPxq6f49Shn9z4Pfg9/D0fdITExEjx49EBwcjH79+sFsNmPatGnl5pExZGVl4cSJE3bXUOfn56N///44e/YsvvzyS9x2220u+SxJlmWuZHiD+fPn47PPPsOuXbtQt27dsv1RUVEIDw9HbGwsDh06hEGDBiEtLQ0eHuWPPCQnJ6NTp044fPgwIiMjtSyfiIjcjH/HiyvNbFu/1rijgfjDxX+6lI/+X6U4zXzx4sW4cuUKMjMz8dFHH2HQoEHo2LEjAGDKlCkICAjAM888g4Tbk28kAAAgAElEQVSEBLuDJI899hi2bNmCMWPGoGfPnnbv6e/vj0cffVS4XoCnCO1kZmbihRdeQPPmzdGrVy/IsgwfHx8cOHAAc+fOxciRIxEREQFvb2+sXr3aYXNFyuLi4jBz5ky9yzAUZiaOmYljZqQVdy00Clw/+1R6bbQkSdi4cSM2btwIABg5ciQCAgIgSRJMJvuTdz/++CMkScLy5cuxfPlyu7Hw8HA2WK4QGhoKm83xvaBBQUHYvn27xhVVL7yWTRwzE8fMxDEzqg5+++23Cl8THx+P+Ph44XlqsMEizcyePVvvEgyHmYljZuKYGWlFlqHqWYRGvJiJDRYRERFpQoa6hz3LUPGAaJ3xLkKiKkqGDBnKyxdbSpyvC1NSYnF1SUREVElssEgzf71Vm5yTcRSFRbsUx2d2n4u9SYccjp08loEuIaNw5eI1d5VXZfF3Jo6ZkVZkmwSbik3NhfF6Y4NFmomKitK7BEOREIHnp69QHP/7B0+iU/92Dsduax2KD9a9iHoNA9xUXdXF35k4ZkZaUfWg5z82o+E1WKSZWbNm6V2CoUiojbFjn1ccb9G5meKYh4cHuvW6ww1VVX38nYljZkSuxwaLNMMF+cQxM3HMTBwzI63wLkIiIiIiF5Mr8SxCpXlGY7yTmkRERERVHBss0sxfHwRLFWNm4piZOGZGmpGvr4MluoFHsIiUJScn612C4TjL7OyhEyi8kutwzFpixamvf1Kcm591EZeO/XrT9VVF/J2JY2akFTXNVVmTZTBssEgzixcv1rsEw3GW2f7XViNz3zGHY1fSzuPL6fEouOy4ATu97QCOLf7cJTVWNfydiWNmRK7Hi9yJDOrxL15THGvYMgSTf5yvON5q9MNoNfphd5RFRKTo+tEo8WM7RjyCxQaLiIiINGGTr6/Mrmae0fAUIREREZGLscEizZjNZr1LMBxmJo6ZiWNmpJkadBchTxGSZiZNmqR3CYbDzMQxM3HMjLSi9o5AI16DxSNYpJk+ffroXYLhMDNxzEwcMyNyPTZYRNVQzvmr+GTKZyguKHY4nrL7OHZ/uEtxfnp8Eq4c+Z+7yiOiGqomrYPFU4RE1ZAsA9YSm+IDUm1WG2wWm/J8i9WYT1cloipNhsqHPbu+FLfjESzSzKZNm/QuwXDUZlavcR08++FT8Par5XD89gfb4oHJDynObzZuBOpF3qHqs/XG35k4ZkbkemywSDOJiYl6l2A4zEwcMxPHzEgrPEVI5AZJSUl6l2A4zEwcMxPHzEgrsiypWjTUiA0Wj2ARERERuRiPYBEREZEmatI6WGywiIiISBM1qcHiKULSzOjRo/UuwXDclVnBv5fh2uKxiuM/T4rG+S++cjhmzT6LrAn3wXoxyy213Sz+zsQxMyLXY4NFmuFq0eLclVmtyH7w6T9RcbzpuFGo1+0uh2OmBkGoO2YWTPWD3FLbzeLvTBwzI62UroMlvFXwvsXFxZg5cyZCQ0Ph5+eHrl27YufOnZWua+fOnXjggQdQr1491KlTB507d8a6detu6rvyFCFpZvjw4XqXYDjuysyjYSg8GoYqjte5s53imGTygO9dD7ijLJfg70wcMyOtuOsuwqeffhobNmzA9OnT0aJFC6xYsQIDBgzAN998g3vuucfp3Pj4eIwdOxZ9+vTBm2++CQ8PD5w4cQKnT58WrvNGbLCIiIjIsL7//nskJSXhnXfewfTp0wEAI0eORLt27RAdHY19+/Ypzk1PT8ekSZMwdepUzJ8/36V18RQhERERacIdC41+/vnn8PT0xLhx48r2eXt7Y8yYMThw4AAyMzMV53744Yew2WyYPXs2ACAvL89l35UNFmnG2b8iyDFmJo6ZiWNmpBV3NFhHjx5FREQE/P397fZ36dKlbFzJrl270Lp1a2zduhW33HILAgIC0LBhQ7z66quQb/J5rGywSDPz5s3TuwTDYWbimJk4ZkZGdvbsWYSEhJTbHxISAlmWcebMGcW5J0+eREZGBqKiojB27FisX78eAwYMwJw5c/DKK6/cVF28Bos0s2bNGr1LMBy9Mrt2Mg0+QQ3hVTeg3Jgsyzh7KBUhd0VAksr/q7IoJxf5WZdQv1WYFqWWw9+ZOGZGWnHHRe4FBQXw9vYut9/Hx6dsXElubi5kWUZcXBxeeOEFAMDAgQNx8eJFvPfee3jppZdQu3Zt4XoBHsEiDfn5+eldguHolVnKPz9A1o69Dsdyz1zEl2PfQ+6ZSw7H07cewPexy91ZnlP8nYljZqQVdyzT4Ovri6KionL7CwsLy8adzQWAJ554wm7/8OHDUVBQgCNHjgh/x1I8gkVE5XT6+A1IXo7/eggIDcQzh96Dp7eXw/GWwx9E88E93VgdEVVnO85nYucF+wvTcy0liq8PCQlxeBrw7NmzAIAmTZoozm3SpAl++eUXNG7c2G5/UFAQZFnG5cuXRUq3wwaLiMox1XLcPJVSaq4AQJIkeFQwn4hqJlslThE+2KgpHmzU1G7fidwrGHN0j8PXd+jQAd988w1yc3PtLnQ/ePAgJElChw4dFD+rU6dO+OWXX5CZmYlmzZqV7c/MzIQkSWjUqFElvpVjPEVImpkxY4beJRgOMxPHzMQxM9KKO+4iHDx4MCwWC5YsWVK2r7i4GCtWrEDXrl0RGnp9UeWsrCycOHECVqu17HXDhg2DLMtYtmzZDTXKiI+PR4MGDdCpUyfV35VHsEgzYWH6XPRsZMxMHDMTx8zIyLp06YIhQ4bgxRdfxLlz58pWck9PT0d8fHzZ62JiYpCQkIC0tLSy3/yjjz6KBx54AG+++SYuXLiAO++8Exs3bsT+/fuxZMkSeHmpPxrPBos0M3nyZL1LMBxmJo6ZiWNmpBUZEmSouIuwgjmffvop/vGPf2DVqlW4fPky2rdvj61bt6J79+5lr5EkCSZT+RN3mzdvxiuvvIKkpCSsXLkSrVq1wurVq8td+C6KDRYRERFpwl3PIqxVqxbi4uIQFxen+Jr4+Hi7I1ql/Pz8MH/+fD4qh4j0VZJXiO/eXIOSvEKH48W//Be52z5VnL9i6Sbs36u8sjIRUXXABos0k5KSoncJhlMVM7OWWJCbmQ1ricXhuC3vKmyXshTnZ53JxpVLV91VXpXMrKpjZqQVWVZ7obvelYtjg0WaiY6O1rsEw6mKmfnU88cDiybBp56/4/E770WdJ5XvSouJHYsBj97vrvKqZGZVHTMjrdgglS3VILSpuG5Lb2ywSDOLFi3SuwTDYWbimJk4ZkbkerzInTTDW8HFMTNxzEwcMyPNVLCmlbN5RsMGi4iIiDRRmZXcleYZDU8REhEREbkYGyzSjLP1ScgxZiaOmYljZqSV0oVG1WxGwwaLNJOfn693CYZjxMwubNuJEzNeVRyf/dQSbPpot8Mxy9Vr+N+Ip1F4+nfVn2/EzPTGzIhcj9dgkWZmz56tdwmGY8TM6nRoB68G9RTHH466D0G3NHA45uFfGyFPP4VajYNUf74RM9MbMyOtyLK666mMuA4WGywicinvkGB4hwQrjnfq3UZxTDKZ0LDvQ+4oi4iqAFnlXYSq7jzUGU8REhEREbkYGyzSTHZ2tt4lGA4zE8fMxDEz0gpXcidyg6ioKL1LMBxmJo6ZiWNmpBVZTXOldnFSnbHBIs3MmjVL7xIMh5mJY2bimBmR67HBIs1ERkbqXYLhVMfMLmVcREGO8rIA534+DVnhlqGSwmJcOHXO6ftXx8zcjZmRVuSb2IyGDRYRaSpp+mrsW77X4Vj+pVwkPDYP2alnHI7/d/NhrHrmY3eWR0RupOr6K5WP19Ebl2kgIk2NXjkeXt5eDsf8Gvhj0vdz4VuvtsPxjkPuxu397nRneURELsEjWKSZZcuW6V2C4VTHzHz8feDh5aE4rtRcAYDJZIJvXT+n718dM3M3ZkZakeU/18IS2/SuXBwbLNJMcnKy3iUYDjMTx8zEMTPSiozrSy6IbnwWIZETixcv1rsEw2Fm4piZOGZG5Hq8BouIiIg0UZMelcMGi4iIiDRhk69vauYZDU8RElGVYSm24It5XyJfYZ2sy6fO4r8JXyvOz/56H3KO/OSu8oiIKo0NFmnGbDbrXYLh1LTMSoos+OXgryi8VuhwPO/cFZw7+qvi/LxffsPbMS+7q7xqq6b9zkg/sspnERrxIneeIiTNTJo0Se8SDKemZeYb4IPpG5S/c9N72qDpPW0Ux8PHj8R9zRq7o7Rqrab9zkg/sso7Ao3YYPEIFmmmT58+epdgOMxMHDMTx8yIXI8N1l/07dsXHTp0QMeOHdGjRw8cPXoUAHDhwgX0798fERERaN++PfbudfyoDyIiInLs+kXuak4T6l25ODZYf7Fu3TocPXoUR44cwfTp0/HMM88AAGbOnIlu3bohNTUVy5cvx4gRI2C1WvUtloiIyGDc8aDn4uJizJw5E6GhofDz80PXrl2xc+fOStWTk5OD8ePHIygoCP7+/ujduzeOHDki/sX+gg3WX9SpU6fsv1+5cgUeHtcf6bFu3TpMmDABANC5c2eEhobi22+/1aVGo9q0aZPeJRgOMxPHzMQxMzK6p59+Gu+++y5GjhyJ999/H56enhgwYAD279/vdJ4syxgwYADWrFmDKVOm4K233sKFCxfQs2dPnDp16qZqYoPlwNNPP42wsDDExsYiISEBly5dgsViQVBQUNlrwsPDkZGRoWOVxpOYmKh3CYbDzMQxM3HMjLSi7jmEzhcn/f7775GUlIS5c+di7ty5GDt2LHbt2oXw8HBER0c7rWfdunU4cOAAVq5ciVdeeQV///vfsXv3bnh4eCA2NvamvisbLAdWrlyJjIwMzJkzp+wPRzbikyarmKSkJL1LMBxmZi9994/YNu49xfHpU/+Be+95yOGYpagEKx55E+dTMt1VnmHxd0Zasd3EpuTzzz+Hp6cnxo0bV7bP29sbY8aMwYEDB5CZqfx/8+vXr0dwcDAGDhxYti8wMBBDhw7F5s2bUVJSou6Lgg2WUyNHjsQ333wDAPDy8sL58+fLxtLS0hAWFuZ0/oABA2A2m+22bt26lTscv2PHDofr0EycOLHcU+6Tk5NhNpuRnZ1ttz82NhZxcXF2+zIyMmA2m5GSkmK3f+HChZgxY4bdvvz8fJjNZuzbt89uf2JiIkaPHl2utmHDhvF78Hto/j3qtwxFi0fuVvweLSPC8fmGNQ6/xzsL3kH7ofegTpP6un+PGxn5z6MmfI/ExET06NEDwcHB6NevH8xmM6ZNm1ZuHunn6NGjiIiIgL+/v93+Ll26lI0rOXLkCCIjI8vt79KlC/Lz85Gamqq6LknmoZkyOTk5yM/PR0hICIDr1yVMmTIFGRkZiIqKQnh4OGJjY3Ho0CEMGjQIaWlpZddo3Sg5ORmdOnXC4cOHHf7BERGRcfHveHGlmcXe+iia+QYKz08ryMbs3zY7zPyOO+5AcHAw/v3vf9vtP378ONq2bYuPP/7Y7ujWjQICAvDEE09g6dKldvu3bduGhx9+GF999RUeesjxUfGKcKHRG+Tk5GDIkCEoLCyEJEkICgrCv/71LwDA3LlzMXLkSERERMDb2xurV6922FwRERGRY7LKZxE6OxRUUFAAb2/vcvt9fHzKxtXMlWXZ6dyK8BThDcLCwvDdd9/hxx9/xNGjR7Fjxw60b98eABAUFITt27cjNTUVP/30E+6//36dqzUeR4fuyTlmJo6ZiWNmZGS+vr4oKioqt7+wsLBsXM1cSZKczq0Ij2CRZrhatDhmJo6ZiWNmpJXKPCrnu5xT+P6q/RIJ+dZixdeHhITgzJkz5fafPXsWANCkSROnc0tfJzq3ImywSDPDhw/XuwTDYWbimJk4ZkZasf3xsGdn7qrTAnfVaWG3L70wG2+kbXT4+g4dOuCbb75Bbm6u3YXuBw8ehCRJ6NChg+JndejQodzNEqVz/fz8EBER4bRWZ3iKkIiqjcsXriLvmvI1ExfTsxWXXLFZbbh0+pK7SiMiNxk8eDAsFguWLFlStq+4uBgrVqxA165dERoaCgDIysrCiRMn7J7CMnjwYJw7dw4bNmwo25ednY3PP/8cZrMZXl5equtig0VE1cbrzy7HJ29sdjhWUlCMuB7/xG/f/+pw/OjWHxHX9213lkdEcP2jcrp06YIhQ4bgxRdfxMyZM7F06VL06tUL6enpmDdvXtnrYmJi0KZNG7t1sQYPHoy7774bo0ePxuuvv44PP/wQvXr1gs1mw6xZs27qe7LBIs04OgxLzjEzMbGfjEW7Bxo7HPPyrYUX//MKbru7ucPxDg/fiRd3OV/1ubri74y0ou5BzxWfVvz0008xbdo0rFq1ClOnToXVasXWrVvRvXv3stdIkgSTyb7tMZlM2LZtG4YNG4aFCxciOjoaQUFB2L17N1q2bHlT35UNFmnmxn9JUOUwMzF1G/jjvYULFMfrhzZQHDOZTKgXUs8dZVV5/J2R0dWqVQtxcXHIzMxEfn4+Dh48iAcffNDuNfHx8bBYLOUWCa9bty6WLFmC8+fP49q1a9i1axc6dux40zXxInfSzJo1a/QuwXCYmThmJo6ZkVYqc8pPaZ7RsMEizfj5+eldguEwM3HMTBwzI61cX2jU+ek+pXlGw1OERERERC7GI1hERESkCZvKR+WomaM3HsEizcyYMUPvEgyHmYlTykyWZfy4cicKr+Q5HL+YeRn/jv+P4vv+uvc40g+edEmNVQ1/Z6SV0pXc1WxGwwaLNPPXOzeoYsxMnFJm1mILfvnXIeSdv+Jw/FxaNvZvOKz4vunf/YKMH04pjhsZf2dErsdThKSZyZMn612C4TAzcUqZeXp74fF1LyrOu717S8R+obzuTa8XHrnp2qoq/s5IKzXpFCEbLCIiItKI2tN9PEVIREREVOOxwSLNpKSk6F2C4TAzccxMHDMjrdjw52lCoU3vwlVgg0WaiY6umc95uxnMTBwzE8fMSCs2SKo3o2GDRZpZtGiR3iUYDjMTx8zEMTMi12ODRZrhreDimJk4tZllJf+Cr8a/rzi+5/2vsP/jnQ7HZFnG6qcW4sx/01V9tt74OyPNyNcfeyO6GfFhhLyLkIgIQO3G9RDa/XbF8eB2TeHh5fivTEmScNt9beAfVNdd5RFVC1ymgYiohgkIDcQdTz+oOB7Ru53T+d2eVZ5LRDUPTxGSZuLi4vQuwXCYmThmJo6ZkVZq0kXuPIJFmsnPz9e7BMNhZuKYmThmRpopvaZKxTyj4REs0szs2bP1LsFwmJk4ZiaOmRG5Ho9gERERkSZsULdoKBcaJSKqpiz5hbAUFCmOF1/OcTq/6NJVV5dEZDjXl12QVGx6Vy6ODRZpJjs7W+8SDIeZiXNXZodfX4Ef5612OCbLMr4b8ndc3H/Y4XjW/p/w5YDnIVur5r/D+Tsjcj02WKSZqKgovUswHGYmzl2Z3fnCcLSbMsThmCRJ6LRsHhrc3cHheOO72+KBxNmQPKrmX7n8nZFWZKh7FqEBD2DxGizSzqxZs/QuwXCYmTh3ZebT0Pkion7hTRXHJA8T6tzaxNUluQx/Z6QVXoNF5AaRkZF6l2A4zEwcMxPHzIhcj0ewiIiISBOlF62rmWc0bLCIiIhIEzLUne4z4jVYPEVImlm2bJneJRgOMxPHzMQxMyLXY4NFmklOTta7BMNhZuL0ymzPmu9x7VKew7HCnDz8vOGA4txzP6Uj89BJd5VWIf7OSCtq7iAs3dwhJycH48ePR1BQEPz9/dG7d28cOXJE6D2SkpJwzz33wN/fH/Xr10f37t3xzTffsMEi7SxevFjvEgyHmYnTIzNZlrHlvV3IPJHlcPzyr+fww9J/w6awDtZvu3/CL9vF/lJ3Jf7OSCvyTWwur0WWMWDAAKxZswZTpkzBW2+9hQsXLqBnz544depUpd5j1qxZGDFiBMLCwrBgwQK88cYbuPPOO5GZmclrsIiIbpYkSXj7wIuK4yEdb8Ooba8qjned8rA7yiIiJ9atW4cDBw5g/fr1GDhwIABgyJAhiIiIQGxsLFatWuV0/sGDB/H6669jwYIFmDJlSrlxHsEiIiIiTcgqTw+641E569evR3BwcFlzBQCBgYEYOnQoNm/ejJKSEqfz3333XYSEhJQ1V3l59pcIsMEiIiIiTah7DqG6pR0qcuTIEYdrwHXp0gX5+flITU11Ov/rr7/GXXfdhffeew+NGjVCQEAAmjRpUnbKnQ0WacZsNutdguEwM3HMTBwzo5ro7NmzCAkJKbe/dN+ZM2cU5165cgXZ2dnYt28fXn31Vbz00ktYu3YtOnbsiMmTJ2Pp0qW8Bou0M2nSJL1LMBxmJo6ZiWNmpBV3PSpHlmUUFxdX6r28vb0BAAUFBWX//UY+Pj6QZRkFBQWK75GbmwsAuHTpEpKSkjB48GAAwOOPP4477rgDc+bM4REs0k6fPn30LsFwmJk4ZiaOmZFW3PWw5z179sDX17fCzc/Pr+zUn6+vL4qKisq9V2FhISRJgq+vr+LnlY55eXnh8ccfL9svSRKGDRuG33//nUewiIjc7fTPZ7Dun19iWkIUTKby/66N/2Qdrl3Nw5TnnnE4P2/ldHjfPxKet/KZgVT9pRScQGqB/fVPRXL5RuhGrVu3xooVKyr1/qWnAENCQnD27Nly46X7mjRRfkB7gwYN4OPjg/r160OS7K8PCwoKAsBH5RARuZ1fHV80bRPisLkCgCahjZFXT/l0hKlxc0h+9dxVHpFmKrOmVSvfVmjl28pu3/mS80jMXqM4p3Hjxhg1apRQLR06dMC+ffvK7T948CD8/PwQERGhOFeSJHTo0AE//PADLBYLPD3/bKcyMzMB8CJ30tCmTZv0LsFwmJm4qphZw6b1MfTlvymO9+1/PwYN7qs47ttvEjwa3+aO0gBUzcyoeqpKK7kPHjwY586dw4YNG8r2ZWdn4/PPP4fZbIaXl1fZ/tOnT+PEiRN284cNGwar1YqVK1eW7SssLMTq1avRtm1bNlikncTERL1LMBxmJo6ZiWNmVBMNHjwYd999N0aPHo3XX38dH374IXr16gWbzYZZs2bZvXbkyJFo06aN3b5nn30Wt99+OyZOnIjo6GgsWrQI999/P06fPo23336bpwhJO0lJSXqXYDjMTBwzE8fMSCuyyqNR7lho1GQyYdu2bZgxYwYWLlyIgoICdOnSBQkJCWjZsqXdayVJKneK38fHB7t370Z0dDTi4+ORl5eHDh064Msvv8SDDz7IBouIiIi0ofa5gm561jPq1q2LJUuWYMmSJU5ft3v3bof7AwMDsXz5codjPEVIRERE5GJssIiIdGYtscJabFEcL853fot6Xp7yHYhEVUlVusjd3dhgkWZGjx6tdwmGw8zEGTGzHa99js0vfKo4/mHv1/Dzv5IdjiX/cAytw/oiNzdf9ecbMTMyJvkmNqPhNVikGa4WLY6ZiTNiZt0n9oXNYlUcH7ZsAhre1tjh2J0dW2Pjtg/g7++n+vONmBlRVccGizQzfPhwvUswHGYmzoiZ1Ql2vohocNtbFMc8PDzQuUu7m/p8I2ZGxlSV7iJ0NzZYREREpAkb1DVYah4QrTdeg0VERETkYmywSDOOnvlEzjEzccxMHDMjrdSki9zZYJFm5s2bp3cJhsPMxDEzccyMtFJ6DZboZsRrsNhgkWbWrFF+Ejo5xszEVcfMDm8/hmuX8hyOycWFKPh+h+Jc6/nfYPntiNP3r46ZEemNDRZpxs9P/W3kNRUzE1cdM0t4ZRNOfPerwzHL2TRc/XQebIWO18EqPvIlCnc7fpRHqeqYGVVNNekUIe8iJCKq4t479LLimFd4azReuFNx3LfvRHeURKSK2lXZuZI7EREREbHBIu3MmDFD7xIMh5mJY2bimBlphacIidwgLCxM7xIMh5mJY2bimBlppSat5M4jWKSZyZMn612C4TAzccxMHDMjcj0ewSIiIiJNqD3dZ8ADWDyCRURkZFd+v4QNU1fCUlTicPz8rv1IX7VJcX5uUhyKUw+7qzwiOzZZVr0ZDRss0kxKSoreJRgOMxNX0zIzeZrgE+ADyeT4r3OTdy14+Poozpd8/JGRecZd5RHVWGywSDPR0dF6l2A4zExcTcusTnA9DJgzDB5eHg7HA+/tjKaP91OcX/vRiXhuwVJ3lUdUTk24gxDgNVikoUWLFuldguEwM3HMTBwzI63IUHdHoBGbLB7BUhAfHw+TyYQtW7YAAC5cuID+/fsjIiIC7du3x969e3Wu0Hh4K7g4ZiaOmYljZkSuxwbLgfT0dHzyySfo1q1b2b6YmBh069YNqampWL58OUaMGAGr1apjlURERMZS+qgcNZvRsMH6C1mWMXbsWCxatAi1atUq27927VpMmDABANC5c2eEhobi22+/1atMIiIiw5Ehw6Zikw14kpAN1l/Mnz8f9913Hzp27Fi279KlS7BYLAgKCirbFx4ejoyMDD1KNKy4uDi9SzAcZiaOmZVns9kUx2SbzWlmzuYSkTI2WDc4duwY1q9fj5dfVn5yPamXn5+vdwmGw8zEMTN7X8RtxZLRyxTHPx7wJgr+e8nh2JmT5zD6lmhcOX/VXeVRDSPL6jejYYN1g7179yI9PR0tW7bErbfeioMHD2L8+PFYu3YtPD09cf78+bLXpqWlVXhh6IABA2A2m+22bt26YdMm+0X/duzYAbPZXG7+xIkTsWyZ/V+MycnJMJvNyM7OttsfGxtb7l+hGRkZMJvN5dYFWrhwYbmHu+bn58NsNmPfvn12+xMTEzF69OhytQ0bNkz4e8yePbtafI8buft7PPTQQ9Xie2j553HkyJFq8T1c9efR/clueGTmAMXv8fA/h6NF77YOv8f0l6eg64Q2qBdUR/fvcSMt/zwSExPRo0cPBAcHo1+/fjCbzZg2bVq5eVQ5NkDVKUIjHkeVZNmIfaE2evXqheeeew6PPPIIoqKiEB4ejtjYWBw6dAiDBr2xzsEAABOPSURBVA1CWloaPDzKrz2TnJyMTp064fDhw4iMjNShciIichf+HS+uNLP7/Yainkcj4flXrBewJ3+toTLnESwnJElCaf85d+5c7N+/HxEREYiKisLq1asdNldERETkmIzSo1himzuOBGVlZSEmJga9e/dGnTp1YDKZsGfPnkrP37BhA5544gk0b94ctWvXRuvWrfHCCy8gJycHABcaderrr78u++9BQUHYvn27jtUYX3Z2NgIDA/Uuw1CYmThmJo6ZkVbUXk/ljnNtJ06cwFtvvYWWLVuiffv2OHDggND8Z599FqGhoRg5ciTCwsLw008/YdGiRdi2bRuSk5PZYJF2oqKiyhZupcphZuKYmThmRjVR586dcfHiRdSrVw/r168XbrDWr1+P+++/325fZGQknn76aaxevZqnCEk7s2bN0rsEw2Fm4piZOGZGWlF3gfv1zdVq166NevXqqZ7/1+YKAAYOHAgAOH78OBss0o5RLkysSpiZOGYm5vTh39D61lYOx2xWG87s+0lxbsnFS8hPPemu0qgaklWu4m6U2/HOnj0LAAgMDGSDRURUk219KRGpOx03UbkZ57DvuUUovOh4HaxLu77G7x994s7yiAwlLi4Onp6eGDx4MK/BIiKqyZ7dFgPJ5Pjf2nVuDcGQgx8qjjceOhhBgwe5szyqZmSVj72paI4syyguLq7Ue3l7ewt/fmV89tlnWL58OWJiYtC8eXMewSLt/HURQqoYMxPHzMRIJpPTzJSaq8qOE93IBhk2WcVWQYO1Z88e+Pr6Vrj5+fkhNTXV5d9r7969GDt2LPr37485c+YA4DINpKHk5GSMGTNG7zIMhZmJY2bimBlVJVmWk8iy/mK3zyI7PzrVunVrrFixolLvHxISorY0h3788Uc8+uijaN++PdatWwfTH//oYINFmlm8eLHeJRgOMxPHzMQxM9KKXIk7AoM8WyDIs4Xdvmu2CzhUuEFxTuPGjTFq1CiX1Cji1KlT6NevH4KDg/Hll1/Cz8+vbIwNFhEREWmi9FmEaubp6fTp08jPz0erVn/ecXvu3Dn06dMHnp6e+Oqrr9CgQQO7OWywiIiIqEaaM2cOJEnCsWPHIMsyEhISsHfvXgDAyy+/XPa6kSNHYs+ePbDZ/mz1+vbti7S0NERHR5fNKdW4cWM2WERE5Fjh5Vx8/+5G3BMzFJ6+5e+8slh+hc2WhVq17nE4/+rmFfBueQe8b+/k7lLJINx1F6Far776KiRJAnD9+cPx8fFl//3GBkuSpLJrq0r99NP15U3mzZtX7n179OjBuwhJO2azWe8SDIeZiWNm4pQys1ltKMkthGxT+n9uVshOLj6WC/MhW0pcUCFVF7KKFdxtKpuyyrDZbLBareU2i8Vi97rdu3eX2+doXun29ddf8wgWaWfSpEl6l2A4zEwcMxOnlJlfYB088M44xXmeni3h6dlScbzusP+76dqIjIoNFmmmT58+epdgOMxMHDMTx8xIK2qfK+iOZxG6GxssIiIi0oQN6u4I1PsuQjV4DRYRERGRi7HBIs1s2rRJ7xIMh5mJY2bimBlpR1b1HxjwFCEbLNJMYmKi3iUYDjMTx8zEMTPSiqrnEP6xGQ0bLNJMUlKS3iUYDjMTx8zEqc0seeVurI9apDh+ckYMsr/Y6nBMzj2DkmVhkK+mq/psoqqOF7kTEZEqzR9oj6Dbb1EcD35yOLybNHE8WDsYHve/A/iHuqk6qopskgybJH7Juk0y3hEsNlhERKRK3aYNUbdpQ8XxgA53Ko5JkglSyyHuKIuqMBk22FTcEygb8D5CniIkIiIicjE2WKSZ0aNH612C4TAzccxMHDMjrdjKjmGJ/oenCIkUcbVoccxMHDMTx8xIK6VPF1Qzz2h4BIs0M3z4cL1LMBxmJo6ZiWNmRK7HBouIiNzCknkKtrwcxXFrxneQFdY3suTmIfdUhrtKI53IkP+4k1Bskw14ipANFhERucXV5a+gcJ/jVeLlq5koTjBDvvybw/Fz2/fi+Ox33Vke6aAmXYPFBos0s2/fPr1LMBxmJo6ZiXNXZvVjVsD3oZEOx6Q6ofCJ/hWmBrc5HG8yqC8il77plrqItMAGizQzb948vUswHGYmjpmJc1dmkpc3JJPy/5uRatVWHpMkeHh7u6Ms0pG6o1fq1s7SG+8iJM2sWbNG7xIMh5mJY2bimBlpR91dhDBgg8UjWKQZPz8/vUswHGYmjpmJY2ZErscjWERERKQJPouQiIiIyMXUXk9lxGuweIqQNDNjxgy9SzAcZiaOmYnTI7Oi/GKsnbUZBdcKHY5fPJaGnxN2KM5ftmw5vvnmW3eVR3TTeASLNBMWFqZ3CYbDzMQxM3F6ZFZSVIIzJ7JQUlgC3wCfcuNFV3JxLf2c4vxff/2N144ZkPzHOlhq5hmNJCsto0uqJScno1OnTjh8+DAiIyP1LoeIiFyIf8eLK82sie898PaoKzy/yJqDMwX7DZU5TxESERERuRhPERIREZEmbCpPEfJROUROpKSk6F2C4TAzccxMHDMj7Vghq9gAq96FC2ODRZqJjo7WuwTDYWbimJk4ZkY1UVZWFmJiYtC7d2/UqVMHJpMJe/bsEXqPnTt3onfv3mjUqBHq16+Pu+++G6tWrQLAU4SkoUWLFuldguEwM3HMTBwzI61UpVOEJ06cwFtvvYWWLVuiffv2OHDggND8LVu2YODAgbjnnnswe/ZsSJKEtWvXYtSoUbh48SKPYJF2ePu8OGYmjpmJq4qZHd7wAz4a8aHi+EcTPsX2jx2vg1VwrRCvd5+DcyeVl3kgfVSlhz137twZFy9eREpKCqZPny48f/HixWjSpAl2796N//u//8Pf//537Ny5E82bN8eKFSt4BIuIiKqeZp1vRS0/b8Xx7sPuQv0Qx7f7e9euhQcnPoD6ofXdVR5VA7Vr176p+VevXkX9+vXh6flnK+Xh4YHAwEBIksQGi4iIqp6GYQ3RMKyh4vgdvVorjplMJnQb0c0dZdFNs/1x0br4vKqmZ8+emDdvHl599VU8/fTTkCQJq1evxuHDh7Fu3TqeIiTtxMXF6V2C4TAzccxMHDMjrdhkm+qtqnn11VcxZMgQvPHGG2jZsiVatGiBefPmYf369Xj00Ud5BIu0k5+fr3cJhsPMxDEzccyMjE6WZRQXF1fqtd7eyqeeRdSqVQsREREYMmQIBg0aBKvViiVLluDJJ5/Ezp072WCRdmbPnq13CYbDzMQxM3HMjLQi/3EfoZp5zuzZswe9evWq8H0kScLx48cREREhXMNfTZw4Ed9//z2Sk5PL9g0ZMgRt27bF1KlT2WARERGRNuQ/HvfsTKElG0WWi3b7bLLz67Zat26NFStWVKqGkJCQSr3OmZKSEixfvhwzZ8602+/p6Yn+/ftj8eLFbLCIiMh4rBezIPnWhskvwOH4uRNnEBQRAkmSyo2VFFlwOfMSgm4LcneZpIKPZyB8PAPt9pVY83Cl8H+Kcxo3boxRo0a5u7QyFy9ehMVigdVavvErKSmBzWbjRe6knezsbL1LMBxmJo6ZiTNiZleXvYL87QkOxwpy8vFh/zic/d/vDseTNydj4ZAP3FkeKbJClsU3vR+Vc/r0aZw4caLsfwcFBaFevXrYuHEjLBZL2f7c3Fx88cUXaNOmDY9gkXaioqKwZcsWvcswFGYmjpmJM2JmdSctgFTLx+GYb10/zDg0B7UbOj66ddfgzmj7YFt3lkcKqtJK7gAwZ84cSJKEY8eO/X979xcS1bbHAfy7R1OTLNLJh/KaY2R2OFljUWaF1UNTL12lYwg1SZ2IeehQDxKR9JcQi64gGHIIkbzVjRHJOpVFcK32Q5EpKXjlBtYoTGFFp4l7/VPjrPvgdY7ZHnPPmdm7PX4/MKB7NfLri1M/9tprLQghUFdXB1mWAQClpaX+P2e32/Hw4UP4fCO1m0wmlJSU4OjRo1i1ahV27doFr9eLmpoauN1unD17lg0WaefEiRN6l2A4zEw9ZqaeETMLNDU4KlBzBYz85zgj8c9tMkmR4dixY/5pZEmSUFtb6/96bIMlSRJMpi8n/Y4cOYL09HRUVlbi1KlTGBoaQlZWFhoaGpCfn88Gi7STnZ2tdwmGw8zUY2bqMTPSSrhWEQZr9I7UtzQ3NyteLyoqQlFRkeIYGywiIiLShBA+iCA2DQ3mPXrjQ+5EREREIcYGizRTU1OjdwmGw8zUY2bqMTPSjvBPE6p5IUwPuYcTGyzSzNjdbmlymJl6zEy9SMtMDHvx+cHfIAY8iuM+7xt86r8f8P3ufz7Fm5auMFU3tY1OEQbzMho2WKSZ8+fP612C4TAz9ZiZehGXmXcQvu77EAO/Kw77fO8x/PnfimMA8HunCx+7lffQIposPuROREQRRYqdgdg9vwUcj47JRHRMZsDxH3/5KRxlEUZXEarfNDRcqwjDiQ0WERERaYKrCImIiIgoaGywSDNbt27VuwTDYWbqMTP1mBlpRQS5ilAYcBUhpwhJM/v379e7BMNhZuoxM/WYGWnGf3iz+vcZDe9gkWY2bdqkdwmGw8zUY2bqMTOi0GODRUREU4pL/heu/VwVcPzjPyrwn6Y6xTHvJy/qD/49XKVFPE4REhERRajZaclYuDnwAdcxP6yEKX6G4ljUtChkbPgBkMNVXWTzwQcEsSLQZ8BtGngHizTT2NiodwmGw8zUY2bqTbXMZv3FjB8LcwOOxy1di5iFyxTHJEnC0r8uD1dpFEHYYJFmzpw5o3cJhsPM1GNm6jEz0kpw04Oj5xEaCxuscdLS0rB48WJYrVZkZ2ejvr4eAPD27Vts2bIFGRkZyMrKgizz/rBac+bM0bsEw2Fm6jEz9ZgZaUb4IP6/klDNK5hpRb3xGaxxTCYTnE4nlixZ8sX1w4cPY/Xq1WhqasLTp09RUFAAl8uFqKgonSolIiKi7xUbrHGEEBDi69UKTqcT3d3dAIAVK1Zg3rx5ePDgATZu3Kh1iURERIY0cuTN1Dgqhw2WArvdDgBYuXIlysvLIUkSvF4vkpOT/X9m/vz56O3t1atEIiIKE+/Hj5CioxEVH684Lv77WuOKIolAMA0WuE2D8cmyjJSUFAwPD6O0tBTFxcWoq6tTvKsVyMDAAACgq6srXGUa0pMnT9DW1qZ3GYbCzNRjZuoxsy+9/vVXRM+ejTnbt381JoY/obP2JwB//FtPpIQN1jgpKSkAgKioKBw8eBCLFi1CYmIioqOj8ebNG/9dLJfLhdTUVMWf4XK5AAA7d+7UpGYjWb6cy5vVYmbqMTP1mJmCb6yudLlcWLNmjUbFRIaR1YBBTBEacBUhG6wx+vv78fnzZ8yaNQsAcOXKFVitVgDA9u3bUV1djePHj6OlpQWvXr1CXl6e4s+x2Wy4dOkS0tLSMH36dM3qJyKi8BsYGIDL5YLNZtO7FOMRQU4RqphF+l6wwRqjr68P27Ztg8/ngxAC6enpqKsbOS6hvLwcdrsdGRkZiI2NxeXLlwOuIDSbzdixY4eWpRMRkYZ454q+hQ3WGBaLJeBzCMnJybh7967GFREREUUSHwApyPcZCxssIiIi0oQIssEy4jNY3MmdQu7AgQOwWCwwmUzo6OjwX+du+IENDQ2hoKAAmZmZsFqtsNls/n3XmFtgNpsNy5Ytg9VqRV5eHp49ewaAmX1LbW0tTCYTbty4AYB5TYSne1DQBFGIybIs3G63sFgsor293X99z5494uTJk0IIIVpaWkRKSorwer16lfldGRwcFE1NTf7vq6qqxPr164UQQuzevZu5BeDxePxfX7t2TSxdulQIwcwm4nK5RG5ursjNzRXXr18XQvCzORGLxSI6Ojq+us7M1GltbRUAhIRYYZKmq35JiBUARGtrq95/lUnjHSwKubVr12Lu3Llf7R3mdDrhcDgAfLkbPgGxsbHYvHmz//ucnBz09PQAAOrr65lbADNnzvR//eHDB//CE2amTAiBvXv3oqqqCjExMf7r/GwGJiY43YOZqTeVDnvmM1ikiffv33M3fBUqKyuRn5/P3CahuLgYzc3NkCQJt2/fZmYTqKiowLp16/zbzwD8bE4GT/egYPAOFtF3pqysDN3d3SgrK9O7FEO4ePEient7cfr0aRw6dAgAVJ28MFV0dnaioaEBpaWlepdiKLIso729HW1tbUhKSkJxcTEA/o4FTwDCp/5lwKNy2GCRJsbuhj9qot3wp6pz586hsbERd+7cQVxcHHNTwW634/79+wCAadOmMbNxZFlGT08PFi5cCIvFgsePH2Pfvn1wOp38HZvA+NM9ZFnm5/JPCXZ60HhThGywSDOFhYWorq4GgG/uhj8VVVRU4OrVq7h37x4SEhL815mbMo/Hg9ev/zh0t7GxEUlJSUhMTGRmChwOB9xuN168eIGXL18iJycHFy5cgMPhYF4B9Pf3w+Px+L9XOt0DYGaTYTabER8fj5FGaTiIlw/x8fEwm806VB8cPoNFIedwOHDr1i309fXBZrMhISEBz58/V7Ub/lTjdrtRUlKCBQsWYMOGDRBCIC4uDo8ePWJuAXg8HhQWFmJwcBCSJCE5ORk3b94EoO7khalKkiT/NBfzUhaq0z0ISE1NRVdXF969exf0zzCbzYa6SygJTiQTERERhRSnCImIiIhCjA0WERERUYixwSIiIiIKMTZYRERERCHGBouIiIgoxP4HQk7ejtDK6UIAAAAASUVORK5CYII=\" />"
      ]
     },
     "execution_count": 5,
     "metadata": {},
     "output_type": "execute_result"
    }
   ],
   "source": [
    "spy(A)"
   ]
  },
  {
   "cell_type": "code",
   "execution_count": 6,
   "metadata": {
    "collapsed": false
   },
   "outputs": [
    {
     "data": {
      "text/plain": [
       "148"
      ]
     },
     "execution_count": 6,
     "metadata": {},
     "output_type": "execute_result"
    }
   ],
   "source": [
    "A = sparse(A)\n",
    "nnz(A)"
   ]
  },
  {
   "cell_type": "code",
   "execution_count": 7,
   "metadata": {
    "collapsed": false
   },
   "outputs": [
    {
     "data": {
      "text/plain": [
       "2500"
      ]
     },
     "execution_count": 7,
     "metadata": {},
     "output_type": "execute_result"
    }
   ],
   "source": [
    "prod(size(A))"
   ]
  },
  {
   "cell_type": "code",
   "execution_count": 8,
   "metadata": {
    "collapsed": false
   },
   "outputs": [
    {
     "data": {
      "text/plain": [
       "0.0592"
      ]
     },
     "execution_count": 8,
     "metadata": {},
     "output_type": "execute_result"
    }
   ],
   "source": [
    "density= nnz(A) / prod(size(A))"
   ]
  },
  {
   "cell_type": "code",
   "execution_count": 9,
   "metadata": {
    "collapsed": false
   },
   "outputs": [
    {
     "data": {
      "text/plain": [
       "0.9408"
      ]
     },
     "execution_count": 9,
     "metadata": {},
     "output_type": "execute_result"
    }
   ],
   "source": [
    "sparsity = 1 - density"
   ]
  },
  {
   "cell_type": "code",
   "execution_count": 10,
   "metadata": {
    "collapsed": false
   },
   "outputs": [
    {
     "name": "stdout",
     "output_type": "stream",
     "text": [
      "  1    1   -3.44e-01\n",
      "  2    1   -2.11e-01\n",
      "  1    2    7.01e-01\n",
      "  2    2    5.63e-01\n",
      "  3    2   -6.73e-01\n",
      "  2    3   -1.28e+00\n",
      "  3    3    7.42e-01\n",
      "  4    3   -5.21e-01\n",
      "  3    4   -9.56e-01\n",
      "  4    4   -5.67e-01\n",
      "  5    4    1.13e+00\n",
      "  4    5    5.58e-01\n",
      "  5    5    6.85e-01\n",
      "  6    5    4.96e-02\n",
      "  5    6   -5.03e-02\n",
      "  6    6   -4.17e-01\n",
      "  7    6    5.78e-01\n",
      "  6    7    1.65e+00\n",
      "  7    7    4.00e-01\n",
      "  8    7    7.62e-01\n",
      "  7    8   -3.11e-01\n",
      "  8    8   -8.49e-01\n",
      "  9    8    2.26e-03\n",
      "  8    9    3.11e-01\n",
      "  9    9   -1.30e-01\n",
      " 10    9    7.12e-01\n",
      "  9   10   -7.75e-01\n",
      " 10   10    6.91e-01\n",
      " 11   10    1.33e+00\n",
      " 10   11   -1.14e+00\n",
      " 11   11    1.30e+00\n",
      " 12   11    4.32e-01\n",
      " 11   12   -2.80e-01\n",
      " 12   12    1.83e-01\n",
      " 13   12   -3.35e-01\n",
      " 12   13   -3.18e-01\n",
      " 13   13   -3.64e-01\n",
      " 14   13    2.20e+00\n",
      " 13   14    1.36e+00\n",
      " 14   14    6.91e-01\n",
      " 15   14    1.72e+00\n",
      " 14   15    7.41e-01\n",
      " 15   15   -9.29e-01\n",
      " 16   15   -5.49e-01\n",
      " 15   16    2.71e+00\n",
      " 16   16   -1.64e+00\n",
      " 17   16    5.00e-01\n",
      " 16   17    1.39e+00\n",
      " 17   17   -1.10e-01\n",
      " 18   17   -2.35e-02\n",
      " 17   18   -6.49e-01\n",
      " 18   18   -1.41e-01\n",
      " 19   18   -8.04e-01\n",
      " 18   19    1.22e+00\n",
      " 19   19    2.09e-01\n",
      " 20   19   -4.74e-01\n",
      " 19   20    4.11e-01\n",
      " 20   20    1.81e+00\n",
      " 21   20    3.23e+00\n",
      " 20   21   -5.06e-01\n",
      " 21   21   -9.04e-01\n",
      " 22   21   -4.21e-03\n",
      " 21   22   -1.52e+00\n",
      " 22   22   -2.15e-01\n",
      " 23   22   -8.47e-01\n",
      " 22   23    2.39e-01\n",
      " 23   23   -5.64e-01\n",
      " 24   23    1.37e+00\n",
      " 23   24    5.36e-01\n",
      " 24   24    6.57e-01\n",
      " 25   24    4.81e-01\n",
      " 24   25    1.19e+00\n",
      " 25   25   -4.64e-02\n",
      " 26   25    5.23e-02\n",
      " 25   26    1.76e-01\n",
      " 26   26    1.19e+00\n",
      " 27   26    6.50e-01\n",
      " 26   27   -1.71e+00\n",
      " 27   27   -1.21e+00\n",
      " 28   27   -5.48e-01\n",
      " 27   28    7.19e-01\n",
      " 28   28   -2.62e-01\n",
      " 29   28   -6.88e-01\n",
      " 28   29   -4.38e-01\n",
      " 29   29   -9.22e-02\n",
      " 30   29   -2.03e-02\n",
      " 29   30    5.97e-01\n",
      " 30   30   -2.04e+00\n",
      " 31   30   -1.37e+00\n",
      " 30   31   -2.57e-01\n",
      " 31   31   -5.74e-01\n",
      " 32   31   -9.34e-02\n",
      " 31   32   -6.50e-01\n",
      " 32   32   -9.57e-01\n",
      " 33   32   -2.13e-02\n",
      " 32   33   -3.39e-01\n",
      " 33   33   -3.61e-01\n",
      " 34   33    2.25e-01\n",
      " 33   34   -3.26e-01\n",
      " 34   34    5.19e-01\n",
      " 35   34   -9.24e-01\n",
      " 34   35    2.20e-01\n",
      " 35   35   -1.74e-01\n",
      " 36   35   -8.79e-01\n",
      " 35   36   -1.46e-01\n",
      " 36   36   -1.86e+00\n",
      " 37   36   -3.44e-01\n",
      " 36   37    1.42e+00\n",
      " 37   37   -3.14e-01\n",
      " 38   37   -9.94e-01\n",
      " 37   38   -1.80e+00\n",
      " 38   38    1.20e+00\n",
      " 39   38   -3.66e-01\n",
      " 38   39    1.41e+00\n",
      " 39   39    4.84e-01\n",
      " 40   39   -6.69e-01\n",
      " 39   40    1.29e+00\n",
      " 40   40   -3.56e-01\n",
      " 41   40   -3.73e-01\n",
      " 40   41   -9.25e-01\n",
      " 41   41    1.52e-01\n",
      " 42   41   -3.38e-02\n",
      " 41   42    7.12e-01\n",
      " 42   42    3.01e+00\n",
      " 43   42   -2.17e-01\n",
      " 42   43    1.14e+00\n",
      " 43   43    7.47e-01\n",
      " 44   43    1.26e+00\n",
      " 43   44    1.92e+00\n",
      " 44   44    1.67e+00\n",
      " 45   44   -7.79e-01\n",
      " 44   45    5.01e-01\n",
      " 45   45    9.70e-02\n",
      " 46   45   -6.04e-01\n",
      " 45   46   -2.33e+00\n",
      " 46   46   -8.77e-01\n",
      " 47   46    1.24e+00\n",
      " 46   47   -6.30e-01\n",
      " 47   47   -4.11e-01\n",
      " 48   47    1.64e+00\n",
      " 47   48   -6.39e-01\n",
      " 48   48    2.90e+00\n",
      " 49   48   -1.93e-01\n",
      " 48   49    2.25e-01\n",
      " 49   49    1.20e+00\n",
      " 50   49    7.98e-01\n",
      " 49   50   -4.62e-01\n",
      " 50   50    1.94e+00\n"
     ]
    }
   ],
   "source": [
    "i, j, v = findnz(A)\n",
    "for k = 1:nnz(A)\n",
    "    @printf \"%3i  %3i  %10.2e\\n\" i[k] j[k]  v[k]\n",
    "end"
   ]
  },
  {
   "cell_type": "code",
   "execution_count": 11,
   "metadata": {
    "collapsed": true
   },
   "outputs": [],
   "source": [
    "#   TRIDISOLVE  Solve tridiagonal system of equations.\n",
    "#     x = tridisolve(a,b,c,d) solves the system of linear equations\n",
    "#     b(1)*x(1) + c(1)*x(2) = d(1),\n",
    "#     a(j-1)*x(j-1) + b(j)*x(j) + c(j)*x(j+1) = d(j), j = 2:n-1,\n",
    "#     a(n-1)*x(n-1) + b(n)*x(n) = d(n).\n",
    "\n",
    "function tridisolve(a,b,c,d)\n",
    "    x = d\n",
    "    n = length(x)\n",
    "\n",
    "    # Elimination\n",
    "    for j = 1:n-1\n",
    "        μ = a[j]/b[j]\n",
    "        b[j+1] = b[j+1] - μ*c[j]\n",
    "        x[j+1] = x[j+1] - μ*x[j]\n",
    "    end\n",
    "    \n",
    "    # Backsolve\n",
    "    x[n] = x[n]/b[n]\n",
    "    for j = n-1:-1:1\n",
    "        x[j] = ( x[j]-c[j]*x[j+1] ) / b[j]\n",
    "    end\n",
    "    return x\n",
    "end;"
   ]
  },
  {
   "cell_type": "code",
   "execution_count": 12,
   "metadata": {
    "collapsed": true
   },
   "outputs": [],
   "source": [
    "n = 10000\n",
    "a = randn(n-1)\n",
    "b = randn(n)\n",
    "c = randn(n-1)\n",
    "d = randn(n);"
   ]
  },
  {
   "cell_type": "code",
   "execution_count": 13,
   "metadata": {
    "collapsed": false
   },
   "outputs": [
    {
     "name": "stdout",
     "output_type": "stream",
     "text": [
      " 13.039791 seconds (742.48 k allocations: 792.016 MB, 1.32% gc time)\n"
     ]
    }
   ],
   "source": [
    "# Dense\n",
    "A = diagm(a,-1) + diagm(b,0) + diagm(c,+1);\n",
    "@time x = A \\ d;"
   ]
  },
  {
   "cell_type": "code",
   "execution_count": 15,
   "metadata": {
    "collapsed": false
   },
   "outputs": [
    {
     "name": "stdout",
     "output_type": "stream",
     "text": [
      "  0.000256 seconds (4 allocations: 160 bytes)\n"
     ]
    }
   ],
   "source": [
    "@time x = tridisolve(a,b,c,d);"
   ]
  },
  {
   "cell_type": "code",
   "execution_count": 16,
   "metadata": {
    "collapsed": false
   },
   "outputs": [
    {
     "name": "stdout",
     "output_type": "stream",
     "text": [
      "  0.618563 seconds (453.16 k allocations: 19.357 MB, 16.41% gc time)\n"
     ]
    }
   ],
   "source": [
    "S = sparse(A);\n",
    "@time x = S \\ d;"
   ]
  }
 ],
 "metadata": {
  "kernelspec": {
   "display_name": "Julia 0.5.0",
   "language": "julia",
   "name": "julia-0.5"
  },
  "language_info": {
   "file_extension": ".jl",
   "mimetype": "application/julia",
   "name": "julia",
   "version": "0.5.0"
  },
  "widgets": {
   "state": {},
   "version": "1.0.0"
  }
 },
 "nbformat": 4,
 "nbformat_minor": 0
}

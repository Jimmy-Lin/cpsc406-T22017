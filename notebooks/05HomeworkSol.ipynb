{
 "cells": [
  {
   "cell_type": "code",
   "execution_count": 13,
   "metadata": {
    "collapsed": false
   },
   "outputs": [],
   "source": [
    "using Plots"
   ]
  },
  {
   "cell_type": "markdown",
   "metadata": {},
   "source": [
    "# Exercise 1"
   ]
  },
  {
   "cell_type": "code",
   "execution_count": 14,
   "metadata": {
    "collapsed": false,
    "scrolled": true
   },
   "outputs": [
    {
     "data": {
      "text/html": [
       "<img src=\"data:image/png;base64,iVBORw0KGgoAAAANSUhEUgAAAlgAAAGQCAYAAAByNR6YAAAABHNCSVQICAgIfAhkiAAAAAlwSFlzAAAPYQAAD2EBqD+naQAAIABJREFUeJzt3X9s1fX99vHrIA4pm7KAu++6cATv2VrY4O4pi2HOJTNSF/E+W8/BG7jFG9s4Jdqi+Sbtndwdawti0mYmEiFui0x3z6WwG86Y6W7Hj2TJ7Jb7q/SMjEBb4i1Y5nRfunBvgYMO5dx/9IZxbHF99/1p3+fVPh8JyTgcz7lO5VovPz2f84nl8/m8AAAAEJlpoQMAAABMNgwsAACAiE2fqCcaHBzUvn37NH/+fM2cOXOinhYAAGBcnT9/XidPntQ999yjuXPnSprAgbVv3z6tXbt2op4OAABgQr388st64IEHJE3gwJo/f/7lJ6+oqBjTYzz55JN69tlnI0wFTA10B3BHbzBavb29Wrt27eWtI03gwLr0Y8GKigolEokxPcbs2bPH/M8CUxndAdzRG7i68i1Qpt7k/ve//z10BMAkugO4ozfwMWFHsKJw+PDh0BEAk+gO4I7e+BsYGNDg4GDoGJGbO3eu4vH4J97H1MAqLy8PHQEwie4A7uiNn4GBAVVUVCiXy4WOErmSkhL19vZ+4sgyNbDWr18fOgJgEt0B3NEbP4ODg8rlcl4ntxWjS29oHxwcnDwDa82aNaEjACbRHcAdvYmGz8ltlpl6kzv8ZTIZLams0sySWVpSWaVMJhM6EgAAk46pgbVjx47QEUzLZDJKp9M6cmGO3r+vVUcuzFE6nWZkTQF0B3BHb+DD1MDKZrOhI5jWtnmLYouWK7+hS1r+pPIbuhRbeLc2PfV06GgYZ3QHcEdvpo63335bX//61yP97DNTA2v79u2hI5h2vL9P+YXLpVhs6IZYTPlF1erv6w0bDOOO7gDu6E0Y77//vn72s59p69atev3115XP58f9Oa+//npt2bJFnZ2dkT2mqYEFP2Xltyl27IB06S9rPq/Y0f0qn0RndwAA7Orr69Mtt5Zp1apV+pfG/6bbb79dq9f8F3344YeRPP4zzzyjRx999PLv//rXv+rGG29ULBbTV77yFZWUlETyPBIDa0pp2dis/NEDim1dIR14VrGtK5Q/dlAt32kOHQ0AAP3Xh2r1bxdnSZuO6OJz/1eq/ZF+9rNdkb0f7uGHH9YvfvEL/e1vf5Mkvfjii/rWt76l2bNnR/L4V2JgTSGpVEp79uzR4hlndF1XqxbPOKNMJqOamprQ0QAAU9wf//hHvfGv/1sfrfiO9O/LpWnXSMvWKraoWjt/9j8jeY4bbrhBK1eu1I9+9CNJ0vPPP6/6+vpIHvvjTA2sZDIZOoJ5qVRKh7OHdD53ToezhxhXUwTdAdzRm4l18eLFof8x7ZrCP4hd848/i0BDQ4Oef/55/epXv9LnPvc5LVmyJLLHvpKpgTVeKxOY7OgO4I7eTKx58+bpPyaW6pr/9bT0l7eH3i/ck5GO/kr/eWU6sucpLy/XLbfcokceeUQNDQ0Ff5bP5yN7U72pgVVdXR06AmAS3QHc0ZuJFYvF9D9e+pFmf/Bv0n8v0zX/8u+kH6zWihX36ZFHHon0ub797W/ro48+Ujo9NNzOnz+vefPmadWqVZevMdjc7Pf+ZFOXygEAAJPXl770JZ38P29q9+7d+tOf/qQ77rhDX/va1xS79PFCEfn1r3+txx57TNdcM/TjyJkzZ+rUqVORPgcDK0KZTEZtm7foeH+fyspvU8vGZqVSqdCxAAAw49Of/rQeeuihcXnsd999V3fddZfmzJmjffv2jctzXDLijwifeOIJLViwQNOmTdMf/vCHq/7DXV1dqqioUHl5uVauXKmzZ8+OW1BJ2rt377g+vg8uQ4NiVszdAYoVvZl8SktL1dvbq+7ubs2aNWtcn2vEgXX//ffrt7/9rebPn3/Vf/DcuXN6+OGH9corr6i/v1+lpaXatGnTeOWUpEg/YTVqXIYGxayYuwMUK3oDHyMOrK9+9au66aabPvGd9K+++qoSiYRuvfVWSdJjjz027n8Zd+3aNa6P74PL0KCYFXN3gGJFb+BjzO/BGhgY0M0333z59/Pnz9d7772nixcvato0UycnRqKs/DYdOXZA+bufGBpZXIYGAAD19k6uAw2jfT28yT0iLRublU6nhy4/s6hasaP7hy5Dw3uwAABT0Ny5c1VSUqK1a9eGjhK5kpISzZ079xPvM+ZDTfF4XCdPnrz8+xMnTqi0tPSfHr269957lUwmC34tW7Zs2JsJ9+/fP+Kn6D7++OPDrkmUzWaVTCY1ODhYcHtLS4va29sLbhsYGFAymVRfX1/B7c8995waGxsLbsvlckomk+ru7i64vbOzU7W1tQW3pVIpfeUrX9HNH5wsuAzNrFmzTL0OSVq1apX5fx+8Dl4Hr4PXwesI+zri8bh6e3u1bds23Xnnnerp6Sn4df/992vjxo0Ft7388su68847dfDgwYLbv/3tb6uhoaHgtq6uLt15553avXt3we2NjY168MEHC27r7u7WnXfeqRdeeKHg9unTPyXdvUFq/td//Lp7g2LXTNf3vve9gvteeh1btmzRsmXLVF9fr2QyqQULFmj16tXDvhax/Ce80WrBggX6xS9+ocWLFw/7s7Nnz+oLX/iCfvOb36isrEwNDQ2aOXOmOjo6RnysbDarqqoq9fT0KJFIXO0pP1Ftba1efPHFMf2zwFRGdwB39GbyW1JZpSMX5gydoHbp7T1bV2jxdWd0uOfQqB9npI0z4uGm9evXa968eXrnnXd0zz33qKysTNLQEv7hD38oaehzKl544QV985vfVFlZmd555x1t3LjR97V+Ij5VFxgbugO4ozeTX8vGZuWPHlBs6wrpwLNDb/M5dlAt3/H7FHfpnxzBilIUR7AAAACilMlktOmpp9Xf16vy2yrUsrFZNTU1To8x0sbhTe4AAGDKSqVS43LVlan3eQoAAADjzNTA+vhZDJicMpmMllRWaWbJLC2prOJyQxGgO4A7egMfpgbW1c5QxOTBNR3HB90B3NEb+DD1JvdcLqeSkpKIk6GYXPWU2RlndDg7+lNmUYjuAO7oDUZr1B/TUKz4iz75cU3H8UF3AHf0Bj5MDSxMfmXltyl27IB06cAq13QEABjExzSgqHBNRwDAZGDiCNals8qmf2oGZ5VNcqlUSnv27NHiGWcKruno+qFvKPTx64sB+OfoDXwU/cC68qyyj771FGeVTQGpVEqHs4d0PndOh7OHGFcRiMfjoSMA5tAb+Cj6swg5qwwAABQzk2cRclYZAACwpugHFmeVAQAAa4p+YLVsbFb+6AHFtq6QDjw7dHbZsYNq+U5z6GiAGX19faEjAObQG/go+oF15Vll037ezFllwBg0NTWFjgCYQ2/gw8TnYKVSKaVSKQ0MDHBWBzAG27ZtCx0BMIfewEfRH8G6EuMKGBu6A7ijN/BhamABAABYwMACAACImKmB1d7eHjoCYBLdAdzRG/gwNbByuVzoCIBJdAdwR2/8XbqW8MySWVPuWsKmBlZbW1voCIBJdAdwR2/8XHkt4ffva51y1xI2NbAAAIANbZu3KLZo+dC1hJc/qfyGLsUW3q1NTz0dOtqEYGABAIDITfVrCZsaWIODg6EjACbRHcAdvfEz1a8lbGpg1dXVhY4AmER3AHf0xs9Uv5awqYHV2toaOgJgEt0B3NEbP1deS/i6rtYpdy1hE9civCSRSISOAJhEdwB39MbfpWsJT0WmjmABAABYwMACAACImKmBtWPHjtARAJPoDuCO3sCHqYGVzWZDRwBMojuAO3oDH6YG1vbt20NHAEyiO4A7egMfpgYWAACABQwsAACAiDGwAAAAImZqYCWTydARAJPoDuCO3sCHqYFVX18fOgJgEt0B3NEb+DA1sKqrq0NHAEyiO4A7egMfpgYWAACABQwsAACAiJkaWHv37g0dATCJ7gDu6A18mBpYnZ2doSMAJtEdwB29gQ9TA2vXrl2hIwAm0R3AHb2BD1MDCwAAwAIGFgAAQMQYWAAAABEzNbBqa2tDRwBMojuAO3oDH6YGFp+qC4wN3QHc0Rv4MDWw1qxZEzoCYBLdAdzRG/gwNbAAAAAsYGABAABEzNTA6u7uDh0BMInuAO7oDXyYGlgdHR2hIwAm0R3AHb2BD1MDa+fOnaEjACbRHcAdvYEPUwOrpKQkdATAJLoDuKM38GFqYAEAACmTyWhJZZVmlszSksoqZTKZ0JHwMQwsAAAMyWQySqfTOnJhjt6/r1VHLsxROp1mZBUZUwOrsbExdATAJLoDuCvW3rRt3qLYouXKb+iSlj+p/IYuxRberU1PPR06Gq5gamDF4/HQEQCT6A7grlh7c7y/T/mFy6VYbOiGWEz5RdXq7+sNGwwFTA2shoaG0BEAk+gO4K5Ye1NWfptixw5I+fzQDfm8Ykf3q7yiImwwFJgeOgAAABi9lo3NSqfTim1dofyiasWO7lf+2EG18B6somLqCBYAAFNdKpXSnj17tHjGGV3X1arFM84ok8mopqYmdDRcwdTA6uvrCx0BMInuAO6KuTepVEqHs4d0PndOh7OHGFdFyNTAampqCh0BMInuAO7oDXyYGljbtm0LHQEwie4A7ugNfJgaWMV6yixQ7OgO4I7ewIepgQUAAGABAwsAACBipgZWe3t76AiASXQHcEdv4MPUwMrlcqEjACbRHcAdvYEPUwOrra0tdATAJLoDuKM38GFqYAEAAFjAwAIAAIiYqYE1ODgYOgJgEt0B3NEb+DA1sOrq6kJHAEyiO4A7egMfpgZWa2tr6AiASXQHGL1MJqMllVXad+CgllRWKZPJhI4Eg0wNrEQiEToCYBLdAUYnk8konU7ryIU5+vt/atORC3OUTqcZWXBmamABADCe2jZvUWzRcuU3dEnLn1R+Q5diC+/WpqeeDh0NxjCwAAD4/4739ym/cLkUiw3dEIspv6ha/X29YYPBHFMDa8eOHaEjACbRHWB0yspvU+zYASmfH7ohn1fs6H6VV1SEDQZzTA2sbDYbOgJgEt0BRqdlY7PyRw8otnWFdOBZxbauUP7YQbV8pzl0NBhjamBt3749dATAJLoDjE4qldKePXu0eMYZXdfVqsUzziiTyaimpiZ0NBgzPXQAAACKSSqVUiqVCh0Dxpk6ggUAAGABAwsAACBipgZWMpkMHQEwie4A7ugNfJgaWPX19aEjACbRHcAdvYEPUwOruro6dATAJLoDuKM38GFqYAEAAFjAwAIAAIiYqYG1d+/e0BEAk+gO4I7ewIepgdXZ2Rk6AmAS3QHc0Rv4MDWwdu3aFToCYBLdAdzRG/gwNbAAAAAsYGABAABEjIEFAAAQMVMDq7a2NnQEwCS6A7ijN/BhamDxqbrA2NAdwB29gQ9TA2vNmjWhIwAm0R3AHb2BD1MDCwAAwAIGFgAAQMRMDazu7u7QEQCT6A7gjt7Ah6mB1dHREToCYBLdAdzRG/gwNbB27twZOgJgEt0B3NEb+DA1sEpKSkJHAEyiO4A7egMfpgYWAACABQwsAACAiJkaWI2NjaEjACbRHcAdvYEPUwMrHo+HjgCYRHcAd/QGPkwNrIaGhtARAJPoDuCO3sCHqYEFAABgAQMLAAAgYqYGVl9fX+gIgEl0B3BHb+DD1MBqamoKHQEwie4A7ugNfJgaWNu2bQsdATCJ7gDu6A18mBpYnDILjA3dAdzRG/gwNbAAAAAsYGABAABEzNTAam9vDx0BMInuAO7oDXyYGli5XC50BMAkugO4ozfwYWpgtbW1hY4AmER3AHf0Bj5MDSwAAAALGFgAAAARMzWwBgcHQ0cATKI7gDt6Ax+mBlZdXV3oCIBJdAdwR2/gw9TAam1tDR0BMInuAO7oDXyYGliJRCJ0BMAkugO4ozfwYWpgAQAAWMDAAgAAiJipgbVjx47QEQCT6A7gjt7Ah6mBlc1mQ0cATKI7gDt6Ax+mBtb27dtDRwBMojuAO3oDH6YGFgAAgAUMLAAAgIgxsAAAACJmamAlk8nQEQCT6A7gjt7Ah6mBVV9fHzoCYBLdAdzRG/gwNbCqq6tDRwBMojuAO3oDH1cdWG+++abuuOMOlZeX6/bbb1dvb++w+7z99tuaPn26EomEKisrlUgkdOLEiXENDAAAUOymX+0PHn30Ua1fv14PPvig9uzZo3Xr1un1118fdr/rr7+eD2MDAAC4wohHsE6fPq2enh498MADkqR0Oq1Tp07prbfeGnbffD4/vgmvsHfv3gl7LmAyoTuAO3oDHyMOrFOnTqm0tFTTpv3jj+PxuAYGBobdN5fL6ctf/rKWLl2qzZs3j+vg6uzsHLfHBiYzugO4ozfw4fUm95tuuknvvPOO3njjDR08eFCvvfaannnmmaiyDbNr165xe2xgMqM7gDt6Ax8jDqx58+bp3Xff1cWLFy/fNjAwoHg8XnC/a6+9VnPnzpUkzZ49W3V1dXrttdc+8QnvvfdeJZPJgl/Lli0bdih2//79I34GyeOPPz7sCufZbFbJZFKDg4MFt7e0tKi9vb3gtoGBASWTSfX19RXc/txzz6mxsbHgtlwup2Qyqe7u7oLbOzs7VVtbOyzbqlWreB28Dl4Hr4PXwevgdUzi19HZ2VmwYRYsWKDVq1cPe4xY/io/07vrrru0bt06rVu3Trt371ZHR8ewN7mfPn1an/3sZzV9+nR98MEHevDBB7Vw4UK1trYOe7xsNquqqir19PQokUiM9JQAAADmjLRxrvojwu9///v6wQ9+oPLycnV0dOill16SNLQif/jDH0qSuru7VVlZqcrKSi1dulSlpaVqbm4e/1cCAABQxK76MQ1lZWX63e9+N+z2tra2y/+7pqZGNTU145NsBLW1tXrxxRcn7PmAyYLuAO7oDXzwSe7AFEB3AHf0Bj5MDaw1a9aEjgCYRHcAd/QGPkwNLAAAAAsYWAAAABEzNbA+/vkVAEaH7gDu6A18mBpYHR0doSMAJtEdwB29gQ9TA2vnzp2hIwAm0R3AHb2BD1MDq6SkJHQEwCS6A7ijN/BhamABAABYwMACAACImKmB9fGrYwMYHboDuKM38GFqYMXj8dARAJPoDuCO3sCHqYHV0NAQOgJgEt0B3NEb+DA1sAAAACxgYAEAAETM1MDq6+sLHQEwie4A7ugNfJgaWE1NTaEjACbRHcAdvYEPUwNr27ZtoSMAJtEdwB29gQ9TA4tTZoGxoTuAO3oDH6YGFgAAgAUMLAAAgIiZGljt7e2hIwAm0R3AHb2BD1MDK5fLhY4AmER3AHf0Bj5MDay2trbQEQCT6A7gjt7Ah6mBBQAAYAEDCwAAIGKmBtbg4GDoCIBJdAdwR2/gw9TAqqurCx0BMInuAO7oDXyYGlitra2hIwAm0R3AHb2BD1MDK5FIhI4AmER3AHf0Bj5MDSwAAAALGFgAAAARMzWwduzYEToCYBLdAdzRG/gwNbCy2WzoCIBJdAdwR2/gw9TA2r59e+gIgEl0B3BHb+DD1MACAACwgIEFAAAQMQYWAABAxEwNrGQyGToCYBLdAdzRG/gwNbDq6+tDRwBMojuAO3oDH6YGVnV1degIgEl0B3BHb+DD1MACAACwgIEFAAAQMVMDa+/evaEjACbRHcAdvYEPUwOrs7MzdATAJLoDuKM38GFqYO3atSt0BMAkugO4ozfwYWpgAQAAWMDAAgAAiBgDCwAAIGKmBlZtbW3oCIBJdAdwR2/gw9TA4lN1gbGhO4A7egMfpgbWmjVrQkcATKI7gDt6Ax+mBhYAAIAFDCwAAICImRpY3d3doSMAJtEdwB29gQ9TA6ujoyN0BMAkugO4ozfwYWpg7dy5M3QEwCS6A7ijN/BhamCVlJSEjgCYRHcAd/QGPkwNLAAAAAsYWAAAABEzNbAaGxtDRwBMojuAO3oDH6YGVjweDx0BMInuAO7oDXyYGlgNDQ2hIwAm0R3AHb2BD1MDCwAAwAIGFgAAQMRMDay+vr7QEQCT6A7gjt7Ah6mB1dTUFDoCYBLdAdzRG/gwNbC2bdsWOgJgEt0B3NEb+DA1sDhlFhgbugO4ozfwYWpgAQAAWMDAAgAAiJipgdXe3h46AmAS3QHc0Rv4MDWwcrlc6AiASXQHcEdv4MPUwGprawsdATCJ7gDu6A18mBpYAAAAFjCwAAAAImZqYA0ODoaOAJhEdwB39AY+TA2surq60BEAk+gO4I7ewIepgdXa2ho6AmAS3QHc0Rv4MDWwEolE6AiASXQHcEdv4MPUwAIAALCAgQUAABAxUwNrx44doSMAJtEdwB29gQ9TAyubzYaOAJhEdwB39AY+TA2s7du3h44AmER3AHf0Bj5MDSwAAAALGFgAAAARY2ABAABEzNTASiaToSMAJtEdwB29gQ9TA6u+vj50BMAkugO4ozfwYWpgVVdXh44AmER3AHf0Bj5MDSwAAAALGFgAAAARMzWw9u7dGzoCYBLdAdzRG/gwNbA6OztDRwBMojuAO3oDH6YG1q5du0JHAEyiO4A7egMfpgYWAACABQwsAACAiDGwAAAAImZqYNXW1oaOAJhEdwB39AY+TA0sPlUXGBu6A7ijN/BhamCtWbMmdATAJLoDuKM38GFqYAEAAFjAwAIAAIiYqYHV3d0dOgJgEt0B3NEb+DA1sDo6OkJHAEyiO4A7egMfpgbWzp07Q0cATKI7gDt6Ax+mBlZJSUnoCIBJdAdwR2/gw9TAAgAAsICBBQAAEDFTA6uxsTF0BMAkugO4ozfwYWpgxePx0BEAk+gO4I7ewIepgdXQ0BA6AmAS3QHc0Rv4MDWwAAAALGBgAQAARMzUwOrr6wsdATCJ7gDu6A18mBpYTU1NoSMAJtEdwB29gQ9TA2vbtm2hIwAm0R3AHb2BD1MDi1NmgbGhO4A7egMfpgYWAACABQwsAACAiJkaWO3t7aEjACbRHcAdvYEPUwMrl8uFjgCYRHcAd/QGPkwNrLa2ttARAJPoDuCO3sCHqYEFAABgAQMLAAAgYqYG1uDgYOgIgEl0B3BHb+DD1MCqq6sLHQEwie4A7ugNfJgaWK2traEjACbRHcAdvYEPUwMrkUiEjgCYRHcAd/QGPkwNLAAAAAsYWAAAABEzNbB27NgROgJgEt0B3NEb+DA1sLLZbOgIgEl0B3BHb+DD1MDavn176AiASXQHcEdv4MPUwAIAALCAgQUgqEwmoyWVVZpZMktLKquUyWRCRwIAbwwsAMFkMhml02kduTBH79/XqiMX5iidTjOyAJhnamAlk8nQEQCTirU7bZu3KLZoufIbuqTlTyq/oUuxhXdr01NPh45mEkcDo1WsvYENVx1Yb775pu644w6Vl5fr9ttvV29v74j36+rqUkVFhcrLy7Vy5UqdPXt23MLW19eP22MDk1mxdud4f5/yC5dLsdjQDbGY8ouq1d838v/f4Oo4Ghi9Yu0NbLjqwHr00Ue1fv169ff3q6mpSevWrRt2n3Pnzunhhx/WK6+8ov7+fpWWlmrTpk3jFra6unrcHhuYzIq1O2Xltyl27ICUzw/dkM8rdnS/yisqwgYziKOB0SvW3sCGEQfW6dOn1dPTowceeECSlE6nderUKb311lsF93v11VeVSCR06623SpIee+wxdXZ2jnNkoDjw4xh/LRublT96QLGtK6QDzyq2dYXyxw6q5TvNoaOZw9FAoLiMOLBOnTql0tJSTZv2jz+Ox+MaGBgouN/AwIBuvvnmy7+fP3++3nvvPV28eHGc4gLFgR/HRCOVSmnPnj1aPOOMrutq1eIZZ5TJZFRTUxM6mjkcDQSKi6k3ue/duzd0BECSvR/HFHN3UqmUDmcP6XzunA5nDzGuxoijgdEr5t6g+I04sObNm6d333234EjUwMCA4vF4wf3i8bhOnjx5+fcnTpwYduTr4+69914lk8mCX8uWLRv2F3n//v3DzuDo7OzU448/Puz6UNlsVslkUoODgwW3t7S0qL29veC2gYEBJZNJ9fX1Fdz+3HPPqbGxseC2XC6nZDKp7u7uYTlqa2uHvbZVq1aN6nVI4nUYfx3Hjh4d8ccxvb3HivJ1PP7445P63wevQ/rGN76hpUuX6j98+MeCo4Hvv/++qddRTP8+vvvd706K1zFZ/n0Uy+vo7Ows2DALFizQ6tWrhz1GLJ+/dDy50F133aV169Zp3bp12r17tzo6OvT6668X3Ofs2bP6whe+oN/85jcqKytTQ0ODZs6cqY6OjmGPl81mVVVVpZ6eHiUSiZGeEjBjSWWVjlyYM3QEKxYb+nHM1hVafN0ZHe45FDoeAGACjbRxpl/tzt///vf10EMP6emnn9YNN9ygl156SdLQivz85z+vRx55RJ/+9Kf1wgsv6Jvf/KY++ugjffGLX9SPf/zjCXkxQEgtG5uVTqeHfgyzqFqxo/uHfhzDe7AAAPqEI1hR4wgWJptMJqNNTz2t/r5eld9WoZaNzbx/CACmIKcjWAA+WSqVUiqVCh0DAFCETJ1FONIb0QD8c3QHcEdv4MPUwOJTdYGxoTuAO3oDH6YG1po1a0JHAEyiO4A7egMfpgYWAACABQwsAACAiJkaWB//BFYAo0N3AHf0Bj5MDayRPiEewD9HdwB39AY+TA2snTt3ho4AmER3AHf0Bj5MDaySkpLQEQCT6A7gjt7Ah6mBBQAAYAEDCwAAIGKmBlZjY2PoCIBJdAdwR2/gw9TAisfjoSMAJtEdwB29gQ9TA6uhoSF0BMAkugO4ozfwYWpgAQAAWMDAAgAAiJipgdXX1xc6AmAS3QHc0Rv4MDWwmpqaQkcATKI7gDt6Ax+mBta2bdtCRwBMojuAO3oDH6YGFqfMAmNDdwB39AY+TA0sAAAACxhYAAAAETM1sNrb20NHAEzJZDJaUlmlaz91nZZUVimTyYSOZNKlr+PMkll8HacQvufAh6mBlcvlQkcAzMhkMkqn0zpyYY4+/NZmHbkwR+l0mnHg6Mqv4/v3tfJ1nEL4ngMfsXw+n5+IJ8pms6qqqlJPT48SicREPCUwpS2prNKRC3OU39AlxWJqfi3OAAAF10lEQVRSPq/Y1hVaPOOMDmcPhY5nBl9HAP/MSBvH1BEsAKN3vL9P+YXLh0aBJMViyi+qVn9fb9hgxvB1BDAWDCxgkiorv02xYwekSwep83nFju5XeUVF2GDG8HUEMBbTQwdwMTg4qLlz54aOAZjQsrFZ6XRasa0rlF9UrdjR/cofO6gW3jvkhK/j1MX3HPgwdQSrrq4udATAjFQqpT179mjxjDOa9vNmLZ5xRplMRjU1NaGjmXLl1/G6rla+jlMI33Pgw9QRrNbW1tARAFNSqZRSqZSy2Swnl3i49HXE1ML3HPgwdQSLbxDA2NAdwB29gQ9TAwsAAMACBhYAAEDETA2sHTt2hI4AmER3AHf0Bj5MDaxsNhs6AmAS3QHc0Rv4MDWwtm/fHjoCYBLdAdzRG/gwNbAAAAAsYGABACZMJpPRksoqzSyZpSWVVcrwifiYpBhYAIAJkclklE6ndeTCHL1/X6uOXJijdDrNyMKkZGpgJZPJ0BEAk+gOikHb5i2KLVqu/IYuafmTym/oUmzh3dr01NOho42I3sCHqYFVX18fOgJgEt1BMTje36f8wuVSLDZ0Qyym/KJq9ff1hg12FfQGPkwNrOrq6tARAJPoDopBWfltih07IOXzQzfk84od3a/yioqwwa6C3sCHqYs9AwDsatnYrHQ6rdjWFcovqlbs6H7ljx1UC+/BwiRk6ggWAMCuVCqlPXv2aPGMM7quq1WLZ5xRJpNRTU1N6GhA5EwNrL1794aOAJhEd1AsUqmUDmcP6XzunA5nDxX1uKI38GFqYLW3t4eOAJhEdwB39AY+TA2sG2+8MXQEwCS6A7ijN/BhamABAABYwMACAACIGAMLAAAgYhP2OVjnz5+XJPX2jv0Te19//XVls9moIgFTBt0B3NEbjNalbXNp60hSLJ+/9JG64+unP/2p1q5dOxFPBQAAMOFefvllPfDAA5ImcGANDg5q3759mj9/vmbOnDkRTwkAADDuzp8/r5MnT+qee+7R3LlzJU3gwAIAAJgqeJM7AABAxBhYAAAAESu6gfXmm2/qjjvuUHl5uW6//farnnXY1dWliooKlZeXa+XKlTp79uwEJwWKy2i68/bbb2v69OlKJBKqrKxUIpHQiRMnAqQFwnviiSe0YMECTZs2TX/4wx+uej++32Asim5gPfroo1q/fr36+/vV1NSkdevWDbvPuXPn9PDDD+uVV15Rf3+/SktLtWnTpgBpgeIxmu5I0vXXX69sNqvf//73ymazWrBgwQQnBYrD/fffr9/+9reaP3/+Ve/D9xuMVVENrNOnT6unp+fyKY7pdFqnTp3SW2+9VXC/V199VYlEQrfeeqsk6bHHHlNnZ+eE5wWKxWi7I0mc1wIM+epXv6qbbrrpEzvB9xuMVVENrFOnTqm0tFTTpv0jVjwe18DAQMH9BgYGdPPNN1/+/fz58/Xee+/p4sWLE5YVKCaj7Y4k5XI5ffnLX9bSpUu1efNmBhfwCfh+g7EqqoEFYHzddNNNeuedd/TGG2/o4MGDeu211/TMM8+EjgUAk05RDax58+bp3XffLfgvg4GBAcXj8YL7xeNxnTx58vLvT5w4Mey/3oGpZLTdufbaay9/CN7s2bNVV1en1157bUKzApbw/QZjVVR/Q2688UYlEgn95Cc/kSTt3r1b8+bN0y233FJwv2984xv6/e9/r+PHj0uSnn/+ea1evXrC8wLFYrTdOX36tD788ENJ0gcffKBMJqPKysoJzwtYwfcbjFXRfZL78ePH9dBDD+kvf/mLbrjhBr300ktauHChWlpa9PnPf16PPPKIpKHTZhsbG/XRRx/pi1/8on784x/rM5/5TOD0QDij6c7Pf/5zffe739X06dP14Ycf6q677tL3vvc9XXvttaHjAxNu/fr1+uUvf6k///nPmjNnjj7zmc/o+PHjfL9BJIpuYAEAAFhXVD8iBAAAmAwYWAAAABFjYAEAAESMgQUAABAxBhYAAEDE/h+EpqaYmMeTCAAAAABJRU5ErkJggg==\" />"
      ]
     },
     "execution_count": 14,
     "metadata": {},
     "output_type": "execute_result"
    }
   ],
   "source": [
    "t = [0.0, 0.1, 0.2, 0.3, 0.4, 0.5, 0.6, 0.7, 0.8, 0.9, 1.0, 1.1, 1.2, 1.3]\n",
    "b = [0.95, 1.01, 1.05, 0.97, 0.0, -0.1, 0.02, -0.1, 0.01, -0.15, 0.72, 0.79, 0.91, 1.0]\n",
    "scatter(t,b)"
   ]
  },
  {
   "cell_type": "markdown",
   "metadata": {},
   "source": [
    "The first breakpoint should approximately be at 0.35 and the second breakpoint should approximately be at 0.95."
   ]
  },
  {
   "cell_type": "code",
   "execution_count": 15,
   "metadata": {
    "collapsed": false
   },
   "outputs": [],
   "source": [
    "# Split the data into separate pieces.\n",
    "t1 = t[1:4];   b1 = b[1:4]\n",
    "t2 = t[5:10];  b2 = b[5:10]\n",
    "t3 = t[11:end];b3 = b[11:end];"
   ]
  },
  {
   "cell_type": "markdown",
   "metadata": {},
   "source": [
    "Generate the coefficients for the two constant constant pieces."
   ]
  },
  {
   "cell_type": "code",
   "execution_count": 16,
   "metadata": {
    "collapsed": false
   },
   "outputs": [
    {
     "name": "stdout",
     "output_type": "stream",
     "text": [
      "The first constant function is b = 0.995000\n",
      "The second constant function is b = -0.053333\n"
     ]
    }
   ],
   "source": [
    "A = ones(4)\n",
    "α1 = (A \\ b1)[1];\n",
    "A = ones(6)\n",
    "α2 = (A \\ b2)[1];\n",
    "@printf \"The first constant function is b = %f\\n\" α1;\n",
    "@printf \"The second constant function is b = %f\\n\" α2;"
   ]
  },
  {
   "cell_type": "code",
   "execution_count": 17,
   "metadata": {
    "collapsed": false
   },
   "outputs": [
    {
     "name": "stdout",
     "output_type": "stream",
     "text": [
      "The linear function is b = -0.249000 + 0.960000t\n"
     ]
    }
   ],
   "source": [
    "# Coefficients for the last piece.\n",
    "A = [ones(4) t3]\n",
    "α3, β3 = A \\ b3\n",
    "@printf \"The linear function is b = %f + %ft\\n\" α3 β3;"
   ]
  },
  {
   "cell_type": "code",
   "execution_count": 18,
   "metadata": {
    "collapsed": false
   },
   "outputs": [
    {
     "data": {
      "text/html": [
       "<img src=\"data:image/png;base64,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\" />"
      ]
     },
     "execution_count": 18,
     "metadata": {},
     "output_type": "execute_result"
    }
   ],
   "source": [
    "plot!( t->α2, 0.5,1.0 )\n",
    "plot!( t->α1, 0,0.4 )\n",
    "plot!( t->(α3 + β3*t), 1, 1.3)"
   ]
  },
  {
   "cell_type": "markdown",
   "metadata": {},
   "source": [
    "# Exercise 2\n",
    "(Boyd and Vandenberghe, 12.2)"
   ]
  },
  {
   "cell_type": "markdown",
   "metadata": {},
   "source": [
    "Part a)"
   ]
  },
  {
   "cell_type": "markdown",
   "metadata": {},
   "source": [
    "To make this more interesting, we'll generate some ill-conditioned matrices."
   ]
  },
  {
   "cell_type": "code",
   "execution_count": 19,
   "metadata": {
    "collapsed": false
   },
   "outputs": [
    {
     "name": "stderr",
     "output_type": "stream",
     "text": [
      "WARNING: Method definition genmat(Any, Any, Any) in module Main at In[7]:3 overwritten at In[19]:3.\n"
     ]
    }
   ],
   "source": [
    "# Generates a random n-by-m matrix with condition number `cnd`.\n",
    "function genmat(m, n, cnd)\n",
    "    A = randn(m, n)\n",
    "    U, S, V = svd(A)\n",
    "    S[S.!=0] = linspace(cnd, 1, min(n,m))\n",
    "    A = U*diagm(S)*V'\n",
    "end\n",
    "\n",
    "m, n = 20, 10\n",
    "A = genmat(20, 10, 1e5)\n",
    "b = randn(m);"
   ]
  },
  {
   "cell_type": "code",
   "execution_count": 20,
   "metadata": {
    "collapsed": false
   },
   "outputs": [
    {
     "name": "stdout",
     "output_type": "stream",
     "text": [
      "||x1-x2|| =     0.0000000000e+00  ||A'r1|| =     2.3434040486e-07\n",
      "||x1-x2|| =     2.8812221886e-08  ||A'r1|| =     1.8417649968e-02\n",
      "||x1-x2|| =     3.2051583609e-12  ||A'r1|| =     6.3042534748e-07\n"
     ]
    }
   ],
   "source": [
    "# Using the Julia backslash operator\n",
    "x1 = A\\b\n",
    "\n",
    "# Using transposes and inverses\n",
    "x2 = inv(A'*A)*(A'*b)\n",
    "\n",
    "# Using psudo inverses\n",
    "x3 = pinv(A)*b\n",
    "\n",
    "# Check the differences in solutions and the corresponding optimality conditions A'r = 0.\n",
    "# We'll use the solution obtained via \"backslash\" as the reference solution.\n",
    "\n",
    "r = b - A*x1\n",
    "e = x1 - x1  # this is silly, but here for consistency.\n",
    "@printf \"||x1-x2|| = %20.10e  ||A'r1|| = %20.10e\\n\" norm(e,Inf) norm(A'*r,Inf)\n",
    "\n",
    "r = b - A*x2\n",
    "e = x1 - x2\n",
    "@printf \"||x1-x2|| = %20.10e  ||A'r1|| = %20.10e\\n\" norm(e,Inf) norm(A'*r,Inf)\n",
    "\n",
    "r = b - A*x3\n",
    "e = x1 - x3\n",
    "@printf \"||x1-x2|| = %20.10e  ||A'r1|| = %20.10e\\n\" norm(e,Inf) norm(A'*r,Inf)"
   ]
  },
  {
   "cell_type": "markdown",
   "metadata": {},
   "source": [
    "Here we can see that the solutions are all fairly close to each other, except that Method 2 (using the normal equations) generates a residual that isn't very orthogonal to the range of $A$."
   ]
  },
  {
   "cell_type": "markdown",
   "metadata": {},
   "source": [
    "Part b) Here we'll test random perturbations, and report an error if the perturbation decreases the value of the least-squares residual."
   ]
  },
  {
   "cell_type": "code",
   "execution_count": 21,
   "metadata": {
    "collapsed": false
   },
   "outputs": [
    {
     "name": "stdout",
     "output_type": "stream",
     "text": [
      "LS optimal!\n"
     ]
    }
   ],
   "source": [
    "val_opt = norm(A*x1 - b)\n",
    "flag = false\n",
    "for i = 1:20\n",
    "    delta = randn(size(A,2))\n",
    "    if norm(A*(x1 + delta) - b) ≤ val_opt\n",
    "        flag = true\n",
    "        break\n",
    "    end\n",
    "end\n",
    "if flag\n",
    "    println(\"LS not optimal!\")\n",
    "else\n",
    "    println(\"LS optimal!\")\n",
    "end"
   ]
  },
  {
   "cell_type": "markdown",
   "metadata": {},
   "source": [
    "From the output above we see that perturbation does not decrease the value of the least-squares residual."
   ]
  },
  {
   "cell_type": "markdown",
   "metadata": {},
   "source": [
    "# Exercise 3\n",
    "Boyd and Vanderbergh 12.3"
   ]
  },
  {
   "cell_type": "code",
   "execution_count": 22,
   "metadata": {
    "collapsed": false
   },
   "outputs": [
    {
     "name": "stdout",
     "output_type": "stream",
     "text": [
      "Time for backslash:\n",
      "  1.006609 seconds (872 allocations: 77.377 MB, 2.12% gc time)\n",
      "Time for normal equations:\n",
      "  0.089658 seconds (19 allocations: 159.016 KB)\n"
     ]
    }
   ],
   "source": [
    "A = randn(100000, 100)\n",
    "b = randn(100000)\n",
    "\n",
    "println(\"Time for backslash:\")\n",
    "@time A\\b;\n",
    "\n",
    "println(\"Time for normal equations:\")\n",
    "@time (A'*A)\\(A'*b);"
   ]
  },
  {
   "cell_type": "markdown",
   "metadata": {},
   "source": [
    "In this case, the normal equations are faster, but it doesn't mean it's more accurate!"
   ]
  },
  {
   "cell_type": "markdown",
   "metadata": {},
   "source": [
    "# Exercise 4\n",
    "Boyd and Vanderbergh 13.2"
   ]
  },
  {
   "cell_type": "markdown",
   "metadata": {},
   "source": [
    "Part a)"
   ]
  },
  {
   "cell_type": "code",
   "execution_count": 23,
   "metadata": {
    "collapsed": false
   },
   "outputs": [
    {
     "name": "stdout",
     "output_type": "stream",
     "text": [
      "θ1 =   3.13e+00\n",
      "θ2 =   1.54e-01\n",
      "rms error 0.203077\n"
     ]
    },
    {
     "data": {
      "text/html": [
       "<img src=\"data:image/png;base64,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\" />"
      ]
     },
     "execution_count": 23,
     "metadata": {},
     "output_type": "execute_result"
    }
   ],
   "source": [
    "t = squeeze([1971 1972 1974 1978 1982 1985 1989 1993 1997 1999 2000 2002 2003],1)\n",
    "N = squeeze([2250 2500 5000 29000 120000 275000 1180000 3100000 7500000 24000000 42000000 220000000 410000000],1)\n",
    "\n",
    "treg = t - 1970\n",
    "A = ones(length(treg), 2)\n",
    "A[:,2] = treg\n",
    "n = log10(N)\n",
    "coeffs = A \\ n\n",
    "θ1 = coeffs[1]\n",
    "θ2 = coeffs[2]\n",
    "\n",
    "@printf \"θ1 = %10.2e\\n\" θ1\n",
    "@printf \"θ2 = %10.2e\\n\" θ2\n",
    "\n",
    "n̂ = A*coeffs\n",
    "rms_error = norm(n̂ - n)/sqrt((length(N)))\n",
    "\n",
    "@printf \"rms error %f\\n\" rms_error\n",
    "\n",
    "scatter(t, n, label=\"data\")\n",
    "plot!(t, n̂, label=\"LS fit\")"
   ]
  },
  {
   "cell_type": "markdown",
   "metadata": {},
   "source": [
    "Part b)"
   ]
  },
  {
   "cell_type": "code",
   "execution_count": 24,
   "metadata": {
    "collapsed": false
   },
   "outputs": [
    {
     "name": "stdout",
     "output_type": "stream",
     "text": [
      "Number of transistors according to model:   1.14e+10\n",
      "Difference between predicted and actual :   7.39e+09\n"
     ]
    }
   ],
   "source": [
    "numTransModel = 10^(θ1 + θ2*(2015 - 1970))\n",
    "@printf \"%-40s: %10.2e\\n\" \"Number of transistors according to model\" numTransModel\n",
    "numTransIBM = 4.0e+9\n",
    "difference = abs(numTransModel - numTransIBM)\n",
    "@printf \"%-40s: %10.2e\\n\" \"Difference between predicted and actual\" difference"
   ]
  },
  {
   "cell_type": "markdown",
   "metadata": {},
   "source": [
    "According to the model, the number of transistors in 2015 would be 1.14e + 10 which is higher than the number of transistors in IBM processor. The model overestimates the number of processors by 7.39e+09 which is a significant amount!"
   ]
  },
  {
   "cell_type": "markdown",
   "metadata": {
    "collapsed": true
   },
   "source": [
    "Part c)"
   ]
  },
  {
   "cell_type": "markdown",
   "metadata": {
    "collapsed": false
   },
   "source": [
    "Let's use our model to find the number of years that it takes for the number of transistors to double.\n",
    "Let there be N transistors after t1 years. Then,\n",
    "logN = θ1 + t1 X θ2\n",
    "\n",
    "Similarly, if there are 2N transistors after t2 years, then,\n",
    "log2N = θ1 + t2 X θ2\n",
    "\n",
    "After substitution,\n",
    "t2 = log2/θ2 + t1\n",
    "t2 = 1.95 + t1.\n",
    "Hence, according to our model, the number of transistors doubles every 1.95 years which follows Moore's law stating that number of transistors doubles every 1.5 to 2 years.\n",
    "\n",
    "Another way to solve the problem is as follows.\n",
    "\n",
    "The gradient of our model is θ2 = 0.154. The gradient can also be interpreted as the rate of increase in logN (where N is the number of transistors) per year. We can conclude that in 2 years, rate of increase in logN = 0.154 X 2 = 0.308 and rate of increase in N = 10^0.308 = 2.03 which is slightly greater than 2.\n",
    "Now consider what happens in 1.5 years. In 1.5 years, rate of increase in logN = 0.154 X 1.5 = 0.231 and rate of increase in N = 10^0.231 = 1.702 which is slightly less than 2. \n",
    "According to the model the number of transistors increases by a factor of 1.702 in 1.5 years and increases by a factor of 2.03 in 2 years.\n",
    "Thus the model tells us that the number of transisters doubles every 1.5 to 2 years.\n",
    "Hence we can conclude that our model very closely follows Moore's law.\n"
   ]
  }
 ],
 "metadata": {
  "kernelspec": {
   "display_name": "Julia 0.5.0",
   "language": "julia",
   "name": "julia-0.5"
  },
  "language_info": {
   "file_extension": ".jl",
   "mimetype": "application/julia",
   "name": "julia",
   "version": "0.5.0"
  },
  "widgets": {
   "state": {},
   "version": "1.0.0"
  }
 },
 "nbformat": 4,
 "nbformat_minor": 0
}

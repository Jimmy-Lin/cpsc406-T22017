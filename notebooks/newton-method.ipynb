{
 "cells": [
  {
   "cell_type": "markdown",
   "metadata": {},
   "source": [
    "# Newton's method"
   ]
  },
  {
   "cell_type": "code",
   "execution_count": 1,
   "metadata": {
    "collapsed": false
   },
   "outputs": [],
   "source": [
    "function newton(c, x; tol=1e-6, its=100)\n",
    "    for k = 1:its\n",
    "        ck, Jk = c(x)\n",
    "        @printf \"%3i  %10.2e\\n\" k  norm(ck)\n",
    "        p = - (Jk \\ ck)\n",
    "        x = x + p\n",
    "        if norm(p) < tol*(1+norm(x))\n",
    "            @printf \"%3i  %10.2e\\n\" k  norm(ck)\n",
    "            return x\n",
    "        end\n",
    "    end\n",
    "end;"
   ]
  },
  {
   "cell_type": "code",
   "execution_count": 2,
   "metadata": {
    "collapsed": false
   },
   "outputs": [],
   "source": [
    "function func(x)\n",
    "    c = [ x[1]^2 - 2x[1] - x[2] + 1\n",
    "          x[1]^2 + x[2]^2 - 1    ]\n",
    "    J = [2x[1]-2  -1 \n",
    "         2x[1]    2x[2]]\n",
    "    return c, J\n",
    "end;"
   ]
  },
  {
   "cell_type": "code",
   "execution_count": 7,
   "metadata": {
    "collapsed": false
   },
   "outputs": [
    {
     "name": "stdout",
     "output_type": "stream",
     "text": [
      "  1    1.41e+00\n",
      "  2    1.27e+00\n",
      "  3    2.66e-01\n",
      "  4    3.13e-02\n",
      "  5    3.40e-04\n",
      "  6    7.09e-08\n",
      "  6    7.09e-08\n"
     ]
    }
   ],
   "source": [
    "x = newton(func, [1,1]);"
   ]
  },
  {
   "cell_type": "code",
   "execution_count": 8,
   "metadata": {
    "collapsed": false
   },
   "outputs": [
    {
     "data": {
      "text/plain": [
       "2-element Array{Float64,1}:\n",
       "  1.0        \n",
       " -1.25648e-15"
      ]
     },
     "execution_count": 8,
     "metadata": {},
     "output_type": "execute_result"
    }
   ],
   "source": [
    "x"
   ]
  },
  {
   "cell_type": "code",
   "execution_count": 9,
   "metadata": {
    "collapsed": false
   },
   "outputs": [
    {
     "data": {
      "text/plain": [
       "1.807312143953211e-15"
      ]
     },
     "execution_count": 9,
     "metadata": {},
     "output_type": "execute_result"
    }
   ],
   "source": [
    "cx, Jx = func(x);\n",
    "norm(cx)"
   ]
  }
 ],
 "metadata": {
  "kernelspec": {
   "display_name": "Julia 0.5.0",
   "language": "julia",
   "name": "julia-0.5"
  },
  "language_info": {
   "file_extension": ".jl",
   "mimetype": "application/julia",
   "name": "julia",
   "version": "0.5.0"
  },
  "widgets": {
   "state": {},
   "version": "1.0.0"
  }
 },
 "nbformat": 4,
 "nbformat_minor": 0
}
